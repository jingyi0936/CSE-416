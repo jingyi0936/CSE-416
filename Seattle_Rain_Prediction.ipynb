{
  "nbformat": 4,
  "nbformat_minor": 0,
  "metadata": {
    "colab": {
      "name": "Seattle Rain Prediction.ipynb",
      "provenance": [],
      "collapsed_sections": [],
      "include_colab_link": true
    },
    "kernelspec": {
      "name": "python3",
      "display_name": "Python 3"
    }
  },
  "cells": [
    {
      "cell_type": "markdown",
      "metadata": {
        "id": "view-in-github",
        "colab_type": "text"
      },
      "source": [
        "<a href=\"https://colab.research.google.com/github/jingyi0936/CSE-416/blob/master/Seattle_Rain_Prediction.ipynb\" target=\"_parent\"><img src=\"https://colab.research.google.com/assets/colab-badge.svg\" alt=\"Open In Colab\"/></a>"
      ]
    },
    {
      "cell_type": "code",
      "metadata": {
        "id": "IS0FCYZEOUOT",
        "colab_type": "code",
        "colab": {}
      },
      "source": [
        "from __future__ import division\n",
        "from sklearn.model_selection import train_test_split\n",
        "from sklearn.feature_extraction import DictVectorizer\n",
        "import pandas as pd\n",
        "import math\n",
        "import string\n",
        "import matplotlib.pyplot as plt\n",
        "import numpy as np\n",
        "import seaborn as sns\n",
        "%matplotlib inline\n",
        "import warnings\n",
        "warnings.filterwarnings('ignore')\n",
        "import os\n",
        "import json\n",
        "import gzip\n",
        "from urllib.request import urlopen"
      ],
      "execution_count": null,
      "outputs": []
    },
    {
      "cell_type": "code",
      "metadata": {
        "id": "Lk6IwWowOyDN",
        "colab_type": "code",
        "colab": {}
      },
      "source": [
        "import sklearn"
      ],
      "execution_count": null,
      "outputs": []
    },
    {
      "cell_type": "markdown",
      "metadata": {
        "id": "T0dQN8pkRNMZ",
        "colab_type": "text"
      },
      "source": [
        "# Investigate Data\n",
        "We will first import and investigate the data to get a better sense of what we are working with.\n",
        "\n",
        "First we load the data."
      ]
    },
    {
      "cell_type": "code",
      "metadata": {
        "id": "X6ew6_bEO74Y",
        "colab_type": "code",
        "colab": {
          "base_uri": "https://localhost:8080/",
          "height": 411
        },
        "outputId": "f307462c-5dc8-4ba5-cbf7-c8eaf520f5e6"
      },
      "source": [
        "!wget https://raw.githubusercontent.com/valentina-s/cse-stat-416-sp20/master/data/seattle_rain_train.csv\n",
        "!wget https://raw.githubusercontent.com/valentina-s/cse-stat-416-sp20/master/data/seattle_rain_test.csv "
      ],
      "execution_count": null,
      "outputs": [
        {
          "output_type": "stream",
          "text": [
            "--2020-05-14 21:58:38--  https://raw.githubusercontent.com/valentina-s/cse-stat-416-sp20/master/data/seattle_rain_train.csv\n",
            "Resolving raw.githubusercontent.com (raw.githubusercontent.com)... 151.101.0.133, 151.101.64.133, 151.101.128.133, ...\n",
            "Connecting to raw.githubusercontent.com (raw.githubusercontent.com)|151.101.0.133|:443... connected.\n",
            "HTTP request sent, awaiting response... 200 OK\n",
            "Length: 1544650 (1.5M) [text/plain]\n",
            "Saving to: ‘seattle_rain_train.csv.2’\n",
            "\n",
            "\rseattle_rain_train.   0%[                    ]       0  --.-KB/s               \rseattle_rain_train. 100%[===================>]   1.47M  --.-KB/s    in 0.1s    \n",
            "\n",
            "2020-05-14 21:58:39 (11.5 MB/s) - ‘seattle_rain_train.csv.2’ saved [1544650/1544650]\n",
            "\n",
            "--2020-05-14 21:58:39--  https://raw.githubusercontent.com/valentina-s/cse-stat-416-sp20/master/data/seattle_rain_test.csv\n",
            "Resolving raw.githubusercontent.com (raw.githubusercontent.com)... 151.101.0.133, 151.101.64.133, 151.101.128.133, ...\n",
            "Connecting to raw.githubusercontent.com (raw.githubusercontent.com)|151.101.0.133|:443... connected.\n",
            "HTTP request sent, awaiting response... 200 OK\n",
            "Length: 436232 (426K) [text/plain]\n",
            "Saving to: ‘seattle_rain_test.csv.2’\n",
            "\n",
            "seattle_rain_test.c 100%[===================>] 426.01K  --.-KB/s    in 0.06s   \n",
            "\n",
            "2020-05-14 21:58:40 (6.73 MB/s) - ‘seattle_rain_test.csv.2’ saved [436232/436232]\n",
            "\n"
          ],
          "name": "stdout"
        }
      ]
    },
    {
      "cell_type": "code",
      "metadata": {
        "id": "bMVRsuHFPECq",
        "colab_type": "code",
        "colab": {
          "base_uri": "https://localhost:8080/",
          "height": 204
        },
        "outputId": "ccbef0b2-060d-4d38-bd3a-5877dcc55def"
      },
      "source": [
        "# import the test data and print out the first five lines\n",
        "test_data = pd.read_csv('seattle_rain_test.csv')\n",
        "test_data.head()"
      ],
      "execution_count": null,
      "outputs": [
        {
          "output_type": "execute_result",
          "data": {
            "text/html": [
              "<div>\n",
              "<style scoped>\n",
              "    .dataframe tbody tr th:only-of-type {\n",
              "        vertical-align: middle;\n",
              "    }\n",
              "\n",
              "    .dataframe tbody tr th {\n",
              "        vertical-align: top;\n",
              "    }\n",
              "\n",
              "    .dataframe thead th {\n",
              "        text-align: right;\n",
              "    }\n",
              "</style>\n",
              "<table border=\"1\" class=\"dataframe\">\n",
              "  <thead>\n",
              "    <tr style=\"text-align: right;\">\n",
              "      <th></th>\n",
              "      <th>Id</th>\n",
              "      <th>PRCP</th>\n",
              "      <th>TMAX</th>\n",
              "      <th>TMIN</th>\n",
              "      <th>RAIN</th>\n",
              "      <th>TMIDR</th>\n",
              "      <th>TRANGE</th>\n",
              "      <th>MONTH</th>\n",
              "      <th>SEASON</th>\n",
              "      <th>YEST_RAIN</th>\n",
              "      <th>YEST_PRCP</th>\n",
              "      <th>SUM7_PRCP</th>\n",
              "      <th>SUM14_PRCP</th>\n",
              "      <th>SUM30_PRCP</th>\n",
              "    </tr>\n",
              "  </thead>\n",
              "  <tbody>\n",
              "    <tr>\n",
              "      <th>0</th>\n",
              "      <td>0</td>\n",
              "      <td>0.00</td>\n",
              "      <td>49</td>\n",
              "      <td>37</td>\n",
              "      <td>0</td>\n",
              "      <td>43.0</td>\n",
              "      <td>12</td>\n",
              "      <td>2</td>\n",
              "      <td>1</td>\n",
              "      <td>0.0</td>\n",
              "      <td>0.00</td>\n",
              "      <td>0.20</td>\n",
              "      <td>0.87</td>\n",
              "      <td>2.33</td>\n",
              "    </tr>\n",
              "    <tr>\n",
              "      <th>1</th>\n",
              "      <td>1</td>\n",
              "      <td>0.25</td>\n",
              "      <td>63</td>\n",
              "      <td>56</td>\n",
              "      <td>1</td>\n",
              "      <td>59.5</td>\n",
              "      <td>7</td>\n",
              "      <td>9</td>\n",
              "      <td>3</td>\n",
              "      <td>0.0</td>\n",
              "      <td>0.00</td>\n",
              "      <td>0.25</td>\n",
              "      <td>0.30</td>\n",
              "      <td>0.73</td>\n",
              "    </tr>\n",
              "    <tr>\n",
              "      <th>2</th>\n",
              "      <td>2</td>\n",
              "      <td>0.11</td>\n",
              "      <td>50</td>\n",
              "      <td>38</td>\n",
              "      <td>1</td>\n",
              "      <td>44.0</td>\n",
              "      <td>12</td>\n",
              "      <td>1</td>\n",
              "      <td>1</td>\n",
              "      <td>1.0</td>\n",
              "      <td>0.15</td>\n",
              "      <td>1.67</td>\n",
              "      <td>2.31</td>\n",
              "      <td>4.11</td>\n",
              "    </tr>\n",
              "    <tr>\n",
              "      <th>3</th>\n",
              "      <td>3</td>\n",
              "      <td>0.09</td>\n",
              "      <td>61</td>\n",
              "      <td>48</td>\n",
              "      <td>1</td>\n",
              "      <td>54.5</td>\n",
              "      <td>13</td>\n",
              "      <td>5</td>\n",
              "      <td>2</td>\n",
              "      <td>0.0</td>\n",
              "      <td>0.00</td>\n",
              "      <td>0.15</td>\n",
              "      <td>0.81</td>\n",
              "      <td>2.72</td>\n",
              "    </tr>\n",
              "    <tr>\n",
              "      <th>4</th>\n",
              "      <td>4</td>\n",
              "      <td>0.04</td>\n",
              "      <td>69</td>\n",
              "      <td>54</td>\n",
              "      <td>1</td>\n",
              "      <td>61.5</td>\n",
              "      <td>15</td>\n",
              "      <td>6</td>\n",
              "      <td>2</td>\n",
              "      <td>0.0</td>\n",
              "      <td>0.00</td>\n",
              "      <td>0.66</td>\n",
              "      <td>1.97</td>\n",
              "      <td>2.42</td>\n",
              "    </tr>\n",
              "  </tbody>\n",
              "</table>\n",
              "</div>"
            ],
            "text/plain": [
              "   Id  PRCP  TMAX  TMIN  ...  YEST_PRCP  SUM7_PRCP  SUM14_PRCP  SUM30_PRCP\n",
              "0   0  0.00    49    37  ...       0.00       0.20        0.87        2.33\n",
              "1   1  0.25    63    56  ...       0.00       0.25        0.30        0.73\n",
              "2   2  0.11    50    38  ...       0.15       1.67        2.31        4.11\n",
              "3   3  0.09    61    48  ...       0.00       0.15        0.81        2.72\n",
              "4   4  0.04    69    54  ...       0.00       0.66        1.97        2.42\n",
              "\n",
              "[5 rows x 14 columns]"
            ]
          },
          "metadata": {
            "tags": []
          },
          "execution_count": 78
        }
      ]
    },
    {
      "cell_type": "code",
      "metadata": {
        "id": "YmYvU6b3TZXZ",
        "colab_type": "code",
        "colab": {}
      },
      "source": [
        "df_test = test_data"
      ],
      "execution_count": null,
      "outputs": []
    },
    {
      "cell_type": "code",
      "metadata": {
        "id": "SZzoPMocPek8",
        "colab_type": "code",
        "colab": {
          "base_uri": "https://localhost:8080/",
          "height": 309
        },
        "outputId": "1b401b74-6c8a-4579-a2b4-60ad2484d123"
      },
      "source": [
        "# import the train data and print out the first five lines\n",
        "train_data = pd.read_csv('seattle_rain_train.csv')\n",
        "train_data = train_data\n",
        "train_data.head()"
      ],
      "execution_count": null,
      "outputs": [
        {
          "output_type": "execute_result",
          "data": {
            "text/html": [
              "<div>\n",
              "<style scoped>\n",
              "    .dataframe tbody tr th:only-of-type {\n",
              "        vertical-align: middle;\n",
              "    }\n",
              "\n",
              "    .dataframe tbody tr th {\n",
              "        vertical-align: top;\n",
              "    }\n",
              "\n",
              "    .dataframe thead th {\n",
              "        text-align: right;\n",
              "    }\n",
              "</style>\n",
              "<table border=\"1\" class=\"dataframe\">\n",
              "  <thead>\n",
              "    <tr style=\"text-align: right;\">\n",
              "      <th></th>\n",
              "      <th>DATE</th>\n",
              "      <th>PRCP</th>\n",
              "      <th>TMAX</th>\n",
              "      <th>TMIN</th>\n",
              "      <th>RAIN</th>\n",
              "      <th>TMIDR</th>\n",
              "      <th>TRANGE</th>\n",
              "      <th>MONTH</th>\n",
              "      <th>SEASON</th>\n",
              "      <th>TMRW_RAIN</th>\n",
              "      <th>TMRW_PRCP</th>\n",
              "      <th>YEST_RAIN</th>\n",
              "      <th>YEST_PRCP</th>\n",
              "      <th>SUM7_PRCP</th>\n",
              "      <th>SUM14_PRCP</th>\n",
              "      <th>SUM30_PRCP</th>\n",
              "    </tr>\n",
              "  </thead>\n",
              "  <tbody>\n",
              "    <tr>\n",
              "      <th>0</th>\n",
              "      <td>1948-01-30</td>\n",
              "      <td>0.03</td>\n",
              "      <td>47</td>\n",
              "      <td>30</td>\n",
              "      <td>1</td>\n",
              "      <td>38.5</td>\n",
              "      <td>17</td>\n",
              "      <td>1</td>\n",
              "      <td>1</td>\n",
              "      <td>1.0</td>\n",
              "      <td>0.21</td>\n",
              "      <td>1.0</td>\n",
              "      <td>0.22</td>\n",
              "      <td>0.35</td>\n",
              "      <td>0.56</td>\n",
              "      <td>4.28</td>\n",
              "    </tr>\n",
              "    <tr>\n",
              "      <th>1</th>\n",
              "      <td>1948-01-31</td>\n",
              "      <td>0.21</td>\n",
              "      <td>35</td>\n",
              "      <td>27</td>\n",
              "      <td>1</td>\n",
              "      <td>31.0</td>\n",
              "      <td>8</td>\n",
              "      <td>1</td>\n",
              "      <td>1</td>\n",
              "      <td>1.0</td>\n",
              "      <td>0.03</td>\n",
              "      <td>1.0</td>\n",
              "      <td>0.03</td>\n",
              "      <td>0.46</td>\n",
              "      <td>0.77</td>\n",
              "      <td>4.02</td>\n",
              "    </tr>\n",
              "    <tr>\n",
              "      <th>2</th>\n",
              "      <td>1948-02-01</td>\n",
              "      <td>0.03</td>\n",
              "      <td>39</td>\n",
              "      <td>30</td>\n",
              "      <td>1</td>\n",
              "      <td>34.5</td>\n",
              "      <td>9</td>\n",
              "      <td>2</td>\n",
              "      <td>1</td>\n",
              "      <td>0.0</td>\n",
              "      <td>0.00</td>\n",
              "      <td>1.0</td>\n",
              "      <td>0.21</td>\n",
              "      <td>0.49</td>\n",
              "      <td>0.80</td>\n",
              "      <td>3.46</td>\n",
              "    </tr>\n",
              "    <tr>\n",
              "      <th>3</th>\n",
              "      <td>1948-02-02</td>\n",
              "      <td>0.00</td>\n",
              "      <td>43</td>\n",
              "      <td>26</td>\n",
              "      <td>0</td>\n",
              "      <td>34.5</td>\n",
              "      <td>17</td>\n",
              "      <td>2</td>\n",
              "      <td>1</td>\n",
              "      <td>1.0</td>\n",
              "      <td>0.20</td>\n",
              "      <td>1.0</td>\n",
              "      <td>0.03</td>\n",
              "      <td>0.49</td>\n",
              "      <td>0.80</td>\n",
              "      <td>3.04</td>\n",
              "    </tr>\n",
              "    <tr>\n",
              "      <th>4</th>\n",
              "      <td>1948-02-03</td>\n",
              "      <td>0.20</td>\n",
              "      <td>38</td>\n",
              "      <td>26</td>\n",
              "      <td>1</td>\n",
              "      <td>32.0</td>\n",
              "      <td>12</td>\n",
              "      <td>2</td>\n",
              "      <td>1</td>\n",
              "      <td>1.0</td>\n",
              "      <td>0.14</td>\n",
              "      <td>0.0</td>\n",
              "      <td>0.00</td>\n",
              "      <td>0.69</td>\n",
              "      <td>1.00</td>\n",
              "      <td>2.93</td>\n",
              "    </tr>\n",
              "  </tbody>\n",
              "</table>\n",
              "</div>"
            ],
            "text/plain": [
              "         DATE  PRCP  TMAX  TMIN  ...  YEST_PRCP  SUM7_PRCP  SUM14_PRCP  SUM30_PRCP\n",
              "0  1948-01-30  0.03    47    30  ...       0.22       0.35        0.56        4.28\n",
              "1  1948-01-31  0.21    35    27  ...       0.03       0.46        0.77        4.02\n",
              "2  1948-02-01  0.03    39    30  ...       0.21       0.49        0.80        3.46\n",
              "3  1948-02-02  0.00    43    26  ...       0.03       0.49        0.80        3.04\n",
              "4  1948-02-03  0.20    38    26  ...       0.00       0.69        1.00        2.93\n",
              "\n",
              "[5 rows x 16 columns]"
            ]
          },
          "metadata": {
            "tags": []
          },
          "execution_count": 80
        }
      ]
    },
    {
      "cell_type": "markdown",
      "metadata": {
        "id": "CRzt8wa6Rga4",
        "colab_type": "text"
      },
      "source": [
        "# Investigate Data - Target\n",
        "The target column (label column) of the training dataset that we are interested in is called `TMRW_RAIN`. In this column, 1 means raining and 0 means not raining.\n",
        "\n",
        "Next, we explore the distribution of the data for `TMRW_RAIN`. This gives us a sense of how many days are raining and not raining in the dataset."
      ]
    },
    {
      "cell_type": "code",
      "metadata": {
        "id": "mT7BzvG-QX9S",
        "colab_type": "code",
        "colab": {
          "base_uri": "https://localhost:8080/",
          "height": 51
        },
        "outputId": "a92ff38a-3d0c-4c63-f48b-dfd27a32fe7e"
      },
      "source": [
        "only_rain = train_data[train_data['TMRW_RAIN'] == 1]\n",
        "only_not_rain = train_data[train_data['TMRW_RAIN'] == 0]\n",
        "\n",
        "print(f'Number rainy days tomorrow: {len(only_rain)} ({len(only_rain) * 100.0 / len(train_data):.2f}%)')\n",
        "print(f'Number not rainy days tomorrow: {len(only_not_rain)} ({len(only_not_rain) * 100.0 / len(train_data):.2f}%)')"
      ],
      "execution_count": null,
      "outputs": [
        {
          "output_type": "stream",
          "text": [
            "Number rainy days tomorrow: 8058 (42.49%)\n",
            "Number not rainy days tomorrow: 10906 (57.51%)\n"
          ],
          "name": "stdout"
        }
      ]
    },
    {
      "cell_type": "markdown",
      "metadata": {
        "id": "IvTheMrzVkAk",
        "colab_type": "text"
      },
      "source": [
        "# Prepare Data for Learning\n",
        "In this section, we pre-process the data to make it suitable for ML.\n",
        "\n",
        "## Encode Categorical Feautures\n",
        "\n",
        "We will be using features below to predict if it will rain tomorrow. The features are described in code comments in the next cell."
      ]
    },
    {
      "cell_type": "code",
      "metadata": {
        "id": "fC4gAvxFVjhl",
        "colab_type": "code",
        "colab": {
          "base_uri": "https://localhost:8080/",
          "height": 204
        },
        "outputId": "e0f3ca5c-1a62-44e8-d955-65c6bc93bccc"
      },
      "source": [
        "features = [\n",
        "            'PRCP',                         # precipitation today\n",
        "            'TMAX',                         # temperature min\n",
        "            'TMIN',                         # temperature max\n",
        "            'RAIN',                         # todays'rain(0/1)\n",
        "            'TMIDR',                        # temperature mirange in Fahrenheit\n",
        "            'TRANGE',                       # temperature range in Fahrenheit\n",
        "            'MONTH',                        # 1-12\n",
        "            'SEASON',                       # 1-4\n",
        "            'YEST_RAIN',                    # yesterday's rain (0/1)\n",
        "            'YEST_PRCP',                    # yesterday's precipatation\n",
        "            'SUM7_PRCP',                    # precipitation sum for the last 7 days\n",
        "            'SUM14_PRCP',                   # precipitation sum for the last 14 days\n",
        "            'SUM30_PRCP',                   # precipitation sum for the last 30 days\n",
        "]\n",
        "\n",
        "target = 'TMRW_RAIN' # predict target (y) (1 means rainy, 0 means not rainy)\n",
        "\n",
        "# Extract the feature columns and target column\n",
        "rain = train_data[features + [target]]\n",
        "rain.head()"
      ],
      "execution_count": null,
      "outputs": [
        {
          "output_type": "execute_result",
          "data": {
            "text/html": [
              "<div>\n",
              "<style scoped>\n",
              "    .dataframe tbody tr th:only-of-type {\n",
              "        vertical-align: middle;\n",
              "    }\n",
              "\n",
              "    .dataframe tbody tr th {\n",
              "        vertical-align: top;\n",
              "    }\n",
              "\n",
              "    .dataframe thead th {\n",
              "        text-align: right;\n",
              "    }\n",
              "</style>\n",
              "<table border=\"1\" class=\"dataframe\">\n",
              "  <thead>\n",
              "    <tr style=\"text-align: right;\">\n",
              "      <th></th>\n",
              "      <th>PRCP</th>\n",
              "      <th>TMAX</th>\n",
              "      <th>TMIN</th>\n",
              "      <th>RAIN</th>\n",
              "      <th>TMIDR</th>\n",
              "      <th>TRANGE</th>\n",
              "      <th>SEASON</th>\n",
              "      <th>YEST_RAIN</th>\n",
              "      <th>YEST_PRCP</th>\n",
              "      <th>SUM7_PRCP</th>\n",
              "      <th>SUM14_PRCP</th>\n",
              "      <th>SUM30_PRCP</th>\n",
              "      <th>TMRW_RAIN</th>\n",
              "    </tr>\n",
              "  </thead>\n",
              "  <tbody>\n",
              "    <tr>\n",
              "      <th>0</th>\n",
              "      <td>0.03</td>\n",
              "      <td>47</td>\n",
              "      <td>30</td>\n",
              "      <td>1</td>\n",
              "      <td>38.5</td>\n",
              "      <td>17</td>\n",
              "      <td>1</td>\n",
              "      <td>1.0</td>\n",
              "      <td>0.22</td>\n",
              "      <td>0.35</td>\n",
              "      <td>0.56</td>\n",
              "      <td>4.28</td>\n",
              "      <td>1.0</td>\n",
              "    </tr>\n",
              "    <tr>\n",
              "      <th>1</th>\n",
              "      <td>0.21</td>\n",
              "      <td>35</td>\n",
              "      <td>27</td>\n",
              "      <td>1</td>\n",
              "      <td>31.0</td>\n",
              "      <td>8</td>\n",
              "      <td>1</td>\n",
              "      <td>1.0</td>\n",
              "      <td>0.03</td>\n",
              "      <td>0.46</td>\n",
              "      <td>0.77</td>\n",
              "      <td>4.02</td>\n",
              "      <td>1.0</td>\n",
              "    </tr>\n",
              "    <tr>\n",
              "      <th>2</th>\n",
              "      <td>0.03</td>\n",
              "      <td>39</td>\n",
              "      <td>30</td>\n",
              "      <td>1</td>\n",
              "      <td>34.5</td>\n",
              "      <td>9</td>\n",
              "      <td>1</td>\n",
              "      <td>1.0</td>\n",
              "      <td>0.21</td>\n",
              "      <td>0.49</td>\n",
              "      <td>0.80</td>\n",
              "      <td>3.46</td>\n",
              "      <td>0.0</td>\n",
              "    </tr>\n",
              "    <tr>\n",
              "      <th>3</th>\n",
              "      <td>0.00</td>\n",
              "      <td>43</td>\n",
              "      <td>26</td>\n",
              "      <td>0</td>\n",
              "      <td>34.5</td>\n",
              "      <td>17</td>\n",
              "      <td>1</td>\n",
              "      <td>1.0</td>\n",
              "      <td>0.03</td>\n",
              "      <td>0.49</td>\n",
              "      <td>0.80</td>\n",
              "      <td>3.04</td>\n",
              "      <td>1.0</td>\n",
              "    </tr>\n",
              "    <tr>\n",
              "      <th>4</th>\n",
              "      <td>0.20</td>\n",
              "      <td>38</td>\n",
              "      <td>26</td>\n",
              "      <td>1</td>\n",
              "      <td>32.0</td>\n",
              "      <td>12</td>\n",
              "      <td>1</td>\n",
              "      <td>0.0</td>\n",
              "      <td>0.00</td>\n",
              "      <td>0.69</td>\n",
              "      <td>1.00</td>\n",
              "      <td>2.93</td>\n",
              "      <td>1.0</td>\n",
              "    </tr>\n",
              "  </tbody>\n",
              "</table>\n",
              "</div>"
            ],
            "text/plain": [
              "   PRCP  TMAX  TMIN  RAIN  ...  SUM7_PRCP  SUM14_PRCP  SUM30_PRCP  TMRW_RAIN\n",
              "0  0.03    47    30     1  ...       0.35        0.56        4.28        1.0\n",
              "1  0.21    35    27     1  ...       0.46        0.77        4.02        1.0\n",
              "2  0.03    39    30     1  ...       0.49        0.80        3.46        0.0\n",
              "3  0.00    43    26     0  ...       0.49        0.80        3.04        1.0\n",
              "4  0.20    38    26     1  ...       0.69        1.00        2.93        1.0\n",
              "\n",
              "[5 rows x 13 columns]"
            ]
          },
          "metadata": {
            "tags": []
          },
          "execution_count": 82
        }
      ]
    },
    {
      "cell_type": "markdown",
      "metadata": {
        "id": "bu2DlU1mG5hy",
        "colab_type": "text"
      },
      "source": [
        "First, we split the train data into 20% validation data and 80% train data."
      ]
    },
    {
      "cell_type": "code",
      "metadata": {
        "id": "vbO4O9ZIyn11",
        "colab_type": "code",
        "colab": {
          "base_uri": "https://localhost:8080/",
          "height": 204
        },
        "outputId": "dd17b73a-9a07-48f1-ac51-33f1fe6630dc"
      },
      "source": [
        "train_data, validation_data = train_test_split(rain, test_size = 0.2, random_state = 0)\n",
        "train_data.head()"
      ],
      "execution_count": null,
      "outputs": [
        {
          "output_type": "execute_result",
          "data": {
            "text/html": [
              "<div>\n",
              "<style scoped>\n",
              "    .dataframe tbody tr th:only-of-type {\n",
              "        vertical-align: middle;\n",
              "    }\n",
              "\n",
              "    .dataframe tbody tr th {\n",
              "        vertical-align: top;\n",
              "    }\n",
              "\n",
              "    .dataframe thead th {\n",
              "        text-align: right;\n",
              "    }\n",
              "</style>\n",
              "<table border=\"1\" class=\"dataframe\">\n",
              "  <thead>\n",
              "    <tr style=\"text-align: right;\">\n",
              "      <th></th>\n",
              "      <th>PRCP</th>\n",
              "      <th>TMAX</th>\n",
              "      <th>TMIN</th>\n",
              "      <th>RAIN</th>\n",
              "      <th>TMIDR</th>\n",
              "      <th>TRANGE</th>\n",
              "      <th>SEASON</th>\n",
              "      <th>YEST_RAIN</th>\n",
              "      <th>YEST_PRCP</th>\n",
              "      <th>SUM7_PRCP</th>\n",
              "      <th>SUM14_PRCP</th>\n",
              "      <th>SUM30_PRCP</th>\n",
              "      <th>TMRW_RAIN</th>\n",
              "    </tr>\n",
              "  </thead>\n",
              "  <tbody>\n",
              "    <tr>\n",
              "      <th>17925</th>\n",
              "      <td>0.16</td>\n",
              "      <td>44</td>\n",
              "      <td>39</td>\n",
              "      <td>1</td>\n",
              "      <td>41.5</td>\n",
              "      <td>5</td>\n",
              "      <td>1</td>\n",
              "      <td>0.0</td>\n",
              "      <td>0.0</td>\n",
              "      <td>0.16</td>\n",
              "      <td>1.09</td>\n",
              "      <td>2.95</td>\n",
              "      <td>1.0</td>\n",
              "    </tr>\n",
              "    <tr>\n",
              "      <th>5693</th>\n",
              "      <td>0.04</td>\n",
              "      <td>68</td>\n",
              "      <td>59</td>\n",
              "      <td>1</td>\n",
              "      <td>63.5</td>\n",
              "      <td>9</td>\n",
              "      <td>3</td>\n",
              "      <td>0.0</td>\n",
              "      <td>0.0</td>\n",
              "      <td>0.04</td>\n",
              "      <td>0.44</td>\n",
              "      <td>0.77</td>\n",
              "      <td>0.0</td>\n",
              "    </tr>\n",
              "    <tr>\n",
              "      <th>6665</th>\n",
              "      <td>0.00</td>\n",
              "      <td>60</td>\n",
              "      <td>45</td>\n",
              "      <td>0</td>\n",
              "      <td>52.5</td>\n",
              "      <td>15</td>\n",
              "      <td>2</td>\n",
              "      <td>0.0</td>\n",
              "      <td>0.0</td>\n",
              "      <td>0.08</td>\n",
              "      <td>0.41</td>\n",
              "      <td>1.99</td>\n",
              "      <td>0.0</td>\n",
              "    </tr>\n",
              "    <tr>\n",
              "      <th>538</th>\n",
              "      <td>0.00</td>\n",
              "      <td>71</td>\n",
              "      <td>50</td>\n",
              "      <td>0</td>\n",
              "      <td>60.5</td>\n",
              "      <td>21</td>\n",
              "      <td>3</td>\n",
              "      <td>0.0</td>\n",
              "      <td>0.0</td>\n",
              "      <td>0.14</td>\n",
              "      <td>0.14</td>\n",
              "      <td>0.64</td>\n",
              "      <td>0.0</td>\n",
              "    </tr>\n",
              "    <tr>\n",
              "      <th>3319</th>\n",
              "      <td>0.14</td>\n",
              "      <td>47</td>\n",
              "      <td>41</td>\n",
              "      <td>1</td>\n",
              "      <td>44.0</td>\n",
              "      <td>6</td>\n",
              "      <td>1</td>\n",
              "      <td>0.0</td>\n",
              "      <td>0.0</td>\n",
              "      <td>2.22</td>\n",
              "      <td>4.15</td>\n",
              "      <td>5.71</td>\n",
              "      <td>0.0</td>\n",
              "    </tr>\n",
              "  </tbody>\n",
              "</table>\n",
              "</div>"
            ],
            "text/plain": [
              "       PRCP  TMAX  TMIN  RAIN  ...  SUM7_PRCP  SUM14_PRCP  SUM30_PRCP  TMRW_RAIN\n",
              "17925  0.16    44    39     1  ...       0.16        1.09        2.95        1.0\n",
              "5693   0.04    68    59     1  ...       0.04        0.44        0.77        0.0\n",
              "6665   0.00    60    45     0  ...       0.08        0.41        1.99        0.0\n",
              "538    0.00    71    50     0  ...       0.14        0.14        0.64        0.0\n",
              "3319   0.14    47    41     1  ...       2.22        4.15        5.71        0.0\n",
              "\n",
              "[5 rows x 13 columns]"
            ]
          },
          "metadata": {
            "tags": []
          },
          "execution_count": 83
        }
      ]
    },
    {
      "cell_type": "markdown",
      "metadata": {
        "id": "20SLsKzmxvhj",
        "colab_type": "text"
      },
      "source": [
        "# Decision Tree\n",
        "In this section, we will start writing code to train the decision tree model."
      ]
    },
    {
      "cell_type": "markdown",
      "metadata": {
        "id": "jRr5JJK_y6BN",
        "colab_type": "text"
      },
      "source": [
        "Now let's use `sklearn`'s `DecisionTreeClassifier` to create a prediction model on the training data.\n",
        "\n",
        "When creating the model, we cannot make sure what is the value of `max_depth`.\n",
        "\n",
        "Two early stooping rules of limiting the depth of the tree for avoiding overfit.\n",
        "\n",
        "\n",
        "1.   When the tree reaches a max depth (`max_depth`)\n",
        "2.   When the leaf nodes have too fewer data samples in them (`min_samples_leaf`)\n",
        "\n",
        "\n",
        "We will use `sklearn`'s `GridSearchCV` to do this. Use the features and target defined earlier when training rhe model on the training data. Save the tree in a variables called `decision_tree_model`\n",
        "\n",
        "Use `GridSearchCV`to try all combinations of \n",
        "\n",
        "\n",
        "1.   `min_samples_leaf`: [1, 10, 50, 100, 200, 300]\n",
        "2.   `max_depth`: [1, 5, 10, 15, 20]\n",
        "\n",
        "I will use 6-fold validation `cv = 6` and make sure it records the training accuracy by using `return_train_score = True`"
      ]
    },
    {
      "cell_type": "code",
      "metadata": {
        "id": "xDI6H5ZW7NBs",
        "colab_type": "code",
        "colab": {
          "base_uri": "https://localhost:8080/",
          "height": 34
        },
        "outputId": "dc7bc633-4aff-474f-ccb5-20243728a729"
      },
      "source": [
        "from sklearn.model_selection import GridSearchCV\n",
        "from sklearn.tree import DecisionTreeClassifier\n",
        "\n",
        "hyperparameters = {'min_samples_leaf':[1, 10, 50, 100, 200, 300], 'max_depth':[1, 5, 10, 15, 20]}\n",
        "decision_tree_model = DecisionTreeClassifier()\n",
        "search = GridSearchCV(decision_tree_model, param_grid = hyperparameters, cv = 6, return_train_score = True)\n",
        "search.fit(train_data[features], train_data[target])\n",
        "print(search.best_params_)"
      ],
      "execution_count": null,
      "outputs": [
        {
          "output_type": "stream",
          "text": [
            "{'max_depth': 5, 'min_samples_leaf': 10}\n"
          ],
          "name": "stdout"
        }
      ]
    },
    {
      "cell_type": "code",
      "metadata": {
        "id": "qlWg7B3kzXeT",
        "colab_type": "code",
        "colab": {
          "base_uri": "https://localhost:8080/",
          "height": 119
        },
        "outputId": "bad49e1c-055f-48db-89f7-21afcb92005f"
      },
      "source": [
        "decision_tree_model = DecisionTreeClassifier(max_depth = 5, min_samples_leaf = 300, random_state = 0)\n",
        "decision_tree_model.fit(train_data[features], train_data[target])"
      ],
      "execution_count": null,
      "outputs": [
        {
          "output_type": "execute_result",
          "data": {
            "text/plain": [
              "DecisionTreeClassifier(ccp_alpha=0.0, class_weight=None, criterion='gini',\n",
              "                       max_depth=5, max_features=None, max_leaf_nodes=None,\n",
              "                       min_impurity_decrease=0.0, min_impurity_split=None,\n",
              "                       min_samples_leaf=10, min_samples_split=2,\n",
              "                       min_weight_fraction_leaf=0.0, presort='deprecated',\n",
              "                       random_state=0, splitter='best')"
            ]
          },
          "metadata": {
            "tags": []
          },
          "execution_count": 89
        }
      ]
    },
    {
      "cell_type": "markdown",
      "metadata": {
        "id": "Mk22jwoO0GGt",
        "colab_type": "text"
      },
      "source": [
        "## Making Predictions (Decision Tree)\n",
        "\n",
        "Now that we have trained the model, let's look at how it makes prediction on the validation data."
      ]
    },
    {
      "cell_type": "code",
      "metadata": {
        "id": "45Qdm14f0vHF",
        "colab_type": "code",
        "colab": {}
      },
      "source": [
        "y_train_pred = decision_tree_model.predict(train_data[features])\n",
        "y_val_pred = decision_tree_model.predict(validation_data[features])"
      ],
      "execution_count": null,
      "outputs": []
    },
    {
      "cell_type": "code",
      "metadata": {
        "id": "Cw85ltjLLQqQ",
        "colab_type": "code",
        "colab": {
          "base_uri": "https://localhost:8080/",
          "height": 255
        },
        "outputId": "4b5d0105-dc3c-492e-a96d-add6a96a396c"
      },
      "source": [
        "\n",
        "from google.colab import files\n",
        "DT_pred = decision_tree_model.predict(test_data[features])\n",
        "dt = pd.DataFrame(DT_pred)\n",
        "dt = pd.DataFrame(DT_pred.astype(int), index = np.arange(len(DT_pred)))\n",
        "dt['Id'] = dt.index\n",
        "dt.columns = ['Category','Id']\n",
        "dt.to_csv('dtpredict.csv', index = False)\n",
        "files.download('dtpredict.csv')\n",
        "print(dt)"
      ],
      "execution_count": null,
      "outputs": [
        {
          "output_type": "stream",
          "text": [
            "      Category    Id\n",
            "0            0     0\n",
            "1            1     1\n",
            "2            1     2\n",
            "3            0     3\n",
            "4            0     4\n",
            "...        ...   ...\n",
            "6552         0  6552\n",
            "6553         0  6553\n",
            "6554         0  6554\n",
            "6555         0  6555\n",
            "6556         1  6556\n",
            "\n",
            "[6557 rows x 2 columns]\n"
          ],
          "name": "stdout"
        }
      ]
    },
    {
      "cell_type": "markdown",
      "metadata": {
        "id": "L1CQqtVQ09Hq",
        "colab_type": "text"
      },
      "source": [
        "## Evaluating Accuracy of Model (Decision Tree)\n",
        "\n",
        "For `sklearn, we use `sklearn.metrics.accuracy_score` to instead of writing out the formula itself."
      ]
    },
    {
      "cell_type": "code",
      "metadata": {
        "id": "7u54cW3n1PhX",
        "colab_type": "code",
        "colab": {}
      },
      "source": [
        "from sklearn.metrics import accuracy_score"
      ],
      "execution_count": null,
      "outputs": []
    },
    {
      "cell_type": "code",
      "metadata": {
        "id": "LfGD46Be1Qp4",
        "colab_type": "code",
        "colab": {
          "base_uri": "https://localhost:8080/",
          "height": 34
        },
        "outputId": "0c257ae9-f545-4847-aa26-8799bf7a74fe"
      },
      "source": [
        "# accuracy on train_data\n",
        "y_train_true = train_data[target]\n",
        "print(\"Train Accuracy of the best tree is \", accuracy_score(y_train_true, y_train_pred))"
      ],
      "execution_count": null,
      "outputs": [
        {
          "output_type": "stream",
          "text": [
            "Train Accuracy of the best tree is  0.7192670226089249\n"
          ],
          "name": "stdout"
        }
      ]
    },
    {
      "cell_type": "code",
      "metadata": {
        "id": "WyxSBeK02hwB",
        "colab_type": "code",
        "colab": {
          "base_uri": "https://localhost:8080/",
          "height": 34
        },
        "outputId": "8f042ec8-eac4-43d0-ddcd-ad0f45d368ed"
      },
      "source": [
        "# acccuracy on validation_data\n",
        "y_val_true = validation_data[target]\n",
        "print(\"Validation Accuracy of the best tree is \", accuracy_score(y_val_true, y_val_pred))"
      ],
      "execution_count": null,
      "outputs": [
        {
          "output_type": "stream",
          "text": [
            "Validation Accuracy of the best tree is  0.7229106248352227\n"
          ],
          "name": "stdout"
        }
      ]
    },
    {
      "cell_type": "markdown",
      "metadata": {
        "id": "OhdXU8jtEYGk",
        "colab_type": "text"
      },
      "source": [
        "# Random Forest"
      ]
    },
    {
      "cell_type": "code",
      "metadata": {
        "id": "iz8fgBkoFP2b",
        "colab_type": "code",
        "colab": {
          "base_uri": "https://localhost:8080/",
          "height": 34
        },
        "outputId": "9e3012bc-d1d3-4e0a-e2f9-764a690de20d"
      },
      "source": [
        "from sklearn.ensemble import RandomForestClassifier\n",
        "ranfor_cls = RandomForestClassifier(n_estimators = 100, random_state = 0)\n",
        "ranfor_cls.fit(train_data[features], train_data[target])\n",
        "ranfor_pred = ranfor_cls.predict(validation_data[features])\n",
        "print(\"Validation Accuracy of Random Forest is \", accuracy_score(validation_data[target], ranfor_pred))"
      ],
      "execution_count": null,
      "outputs": [
        {
          "output_type": "stream",
          "text": [
            "Validation Accuracy of Random Forest is  0.708410229369892\n"
          ],
          "name": "stdout"
        }
      ]
    },
    {
      "cell_type": "markdown",
      "metadata": {
        "id": "t-C3EDH8HEFd",
        "colab_type": "text"
      },
      "source": [
        "# K Nearest Neighbors"
      ]
    },
    {
      "cell_type": "code",
      "metadata": {
        "id": "KA0ov1mIHMLs",
        "colab_type": "code",
        "colab": {
          "base_uri": "https://localhost:8080/",
          "height": 85
        },
        "outputId": "513b5acf-065a-492c-a633-f6fcc2956682"
      },
      "source": [
        "from sklearn.neighbors import KNeighborsClassifier\n",
        "neighbor = [1, 5, 10, 50]\n",
        "for i in range(4):\n",
        "    knn = KNeighborsClassifier(n_neighbors = neighbor[i])\n",
        "    knn.fit(train_data[features], train_data[target])\n",
        "    knn_pred = knn.predict(validation_data[features])\n",
        "    print(\"Neighbor is\", neighbor[i], \"and accuracy is \", accuracy_score(validation_data[target], knn_pred))"
      ],
      "execution_count": null,
      "outputs": [
        {
          "output_type": "stream",
          "text": [
            "Neighbor is 1 and accuracy is  0.6211442130239916\n",
            "Neighbor is 5 and accuracy is  0.6701819140522014\n",
            "Neighbor is 10 and accuracy is  0.6754547851305036\n",
            "Neighbor is 50 and accuracy is  0.686264170841023\n"
          ],
          "name": "stdout"
        }
      ]
    },
    {
      "cell_type": "markdown",
      "metadata": {
        "id": "YvCjZtt7LSW9",
        "colab_type": "text"
      },
      "source": [
        "# Logistic Regression"
      ]
    },
    {
      "cell_type": "code",
      "metadata": {
        "id": "zjZKvtSjLWlD",
        "colab_type": "code",
        "colab": {
          "base_uri": "https://localhost:8080/",
          "height": 68
        },
        "outputId": "256326d1-b021-4cc3-cf64-a2ba250d000c"
      },
      "source": [
        "from sklearn.linear_model import LogisticRegression\n",
        "logit = LogisticRegression()\n",
        "logit.fit(train_data[features], train_data[target])\n",
        "logit_pred = logit.predict(validation_data[features])\n",
        "print(\"Validation Accuracy of Logistic Regression is \", accuracy_score(validation_data[target], logit_pred))\n",
        "\n",
        "print(logit.coef_)"
      ],
      "execution_count": null,
      "outputs": [
        {
          "output_type": "stream",
          "text": [
            "Validation Accuracy of Logistic Regression is  0.7105193778012128\n",
            "[[ 0.54567051 -0.01830536  0.01077814  1.09075705 -0.00376361 -0.0290835\n",
            "  -0.03911289  0.12752437 -0.02710884  0.12539742 -0.03027942  0.06642859]]\n"
          ],
          "name": "stdout"
        }
      ]
    },
    {
      "cell_type": "code",
      "metadata": {
        "id": "Ag3h-9RiVrl8",
        "colab_type": "code",
        "colab": {
          "base_uri": "https://localhost:8080/",
          "height": 255
        },
        "outputId": "00586585-fd2a-4e6c-ad75-9a2fcd48a782"
      },
      "source": [
        "#predictions = logit.predict(test_data[features])\n",
        "\n",
        "#to_save = df_test[['Id']].copy()\n",
        "#to_save.loc[:, 'Category'] = predictions\n",
        "#to_save.to_csv('logit_ans.csv', index=False)\n",
        "\n",
        "\n",
        "from google.colab import files\n",
        "LR_pred = logit.predict(test_data[features])\n",
        "lr = pd.DataFrame(LR_pred)\n",
        "lr = pd.DataFrame(LR_pred.astype(int), index = np.arange(len(LR_pred)))\n",
        "lr['Id'] = lr.index\n",
        "lr.columns = ['Category','Id']\n",
        "lr.to_csv('lrpredict.csv', index = False)\n",
        "files.download('lrpredict.csv')\n",
        "print(lr)\n",
        "#logistic accuracy 70.65"
      ],
      "execution_count": null,
      "outputs": [
        {
          "output_type": "stream",
          "text": [
            "      Category    Id\n",
            "0            0     0\n",
            "1            1     1\n",
            "2            1     2\n",
            "3            1     3\n",
            "4            1     4\n",
            "...        ...   ...\n",
            "6552         0  6552\n",
            "6553         0  6553\n",
            "6554         0  6554\n",
            "6555         0  6555\n",
            "6556         1  6556\n",
            "\n",
            "[6557 rows x 2 columns]\n"
          ],
          "name": "stdout"
        }
      ]
    },
    {
      "cell_type": "markdown",
      "metadata": {
        "id": "zmRP8ZALM0bd",
        "colab_type": "text"
      },
      "source": [
        "We will next draw the confusion matrix."
      ]
    },
    {
      "cell_type": "code",
      "metadata": {
        "id": "BOS8DiKmMzoE",
        "colab_type": "code",
        "colab": {}
      },
      "source": [
        "def plot_confusion_matrix(tp, fp, fn, tn):\n",
        "    #\"\"\"\n",
        "    #Plots a confusion matrix using the values \n",
        "    #   tp - True Positive\n",
        "    #   fp - False Positive\n",
        "    #   fn - False Negative\n",
        "    #   tn - True Negative\n",
        "    #\"\"\"\n",
        "  data = np.matrix([[tp, fp], [fn, tn]])\n",
        "\n",
        "  sns.heatmap(data, annot=True, xticklabels=['Actual Pos', 'Actual Neg']\n",
        "              , yticklabels=['Pred. Pos', 'Pred. Neg'])\n"
      ],
      "execution_count": null,
      "outputs": []
    },
    {
      "cell_type": "code",
      "metadata": {
        "id": "-BgQudVzMZvF",
        "colab_type": "code",
        "colab": {
          "base_uri": "https://localhost:8080/",
          "height": 282
        },
        "outputId": "6cc51d6f-704a-4a9f-d1a4-348271a10da1"
      },
      "source": [
        "tp = 0\n",
        "fp = 0\n",
        "tn = 0\n",
        "fn = 0\n",
        "for i in range(len(validation_data)):\n",
        "  tmr_rain = validation_data.iloc[i]['TMRW_RAIN']\n",
        "  pred = logit_pred[i]\n",
        "  if tmr_rain == 1 and pred == 1:\n",
        "      tp = tp + 1\n",
        "  elif tmr_rain == 0 and pred == 1:\n",
        "      fp = fp + 1\n",
        "  elif tmr_rain == 0 and pred == 0:\n",
        "      tn = tn + 1\n",
        "  else:\n",
        "      fn = fn + 1\n",
        "plot_confusion_matrix(tp, fp, fn, tn)\n",
        "print(tp, fp, tn, fn)"
      ],
      "execution_count": null,
      "outputs": [
        {
          "output_type": "stream",
          "text": [
            "1036 479 1666 612\n"
          ],
          "name": "stdout"
        },
        {
          "output_type": "display_data",
          "data": {
            "image/png": "[encoded data removed]",
            "text/plain": [
              "<Figure size 432x288 with 2 Axes>"
            ]
          },
          "metadata": {
            "tags": [],
            "needs_background": "light"
          }
        }
      ]
    },
    {
      "cell_type": "markdown",
      "metadata": {
        "id": "-ApQjiXVNs0x",
        "colab_type": "text"
      },
      "source": [
        "# ROC curve\n",
        "In this section, we will visualize the ROC curves of the classfiers above on the same plot."
      ]
    },
    {
      "cell_type": "code",
      "metadata": {
        "id": "Wrqfv_DZNvtd",
        "colab_type": "code",
        "colab": {}
      },
      "source": [
        "from sklearn.metrics import roc_curve, roc_auc_score"
      ],
      "execution_count": null,
      "outputs": []
    },
    {
      "cell_type": "code",
      "metadata": {
        "id": "HvKC85YRPO_K",
        "colab_type": "code",
        "colab": {}
      },
      "source": [
        "classifiers = [LogisticRegression(random_state = 1), \n",
        "               KNeighborsClassifier(),\n",
        "               DecisionTreeClassifier(random_state = 1),\n",
        "               RandomForestClassifier(random_state = 1)]\n",
        "result_table = pd.DataFrame(columns = ['classifiers', 'fpr', 'tpr', 'auc'])\n",
        "for cls in classifiers: \n",
        "  model = cls.fit(train_data[features], train_data[target])\n",
        "  ypred = model.predict_proba(validation_data[features])[::, 1]\n",
        "\n",
        "  fpr, tpr, _ = roc_curve(validation_data[target], ypred)\n",
        "  auc = roc_auc_score(validation_data[target], ypred)\n",
        "\n",
        "  result_table = result_table.append({'classifiers':cls.__class__.__name__,\n",
        "                                        'fpr':fpr, \n",
        "                                        'tpr':tpr, \n",
        "                                        'auc':auc}, ignore_index=True)\n",
        "  \n",
        "  # set names of the classifiers for the legends\n",
        "result_table.set_index('classifiers', inplace = True)"
      ],
      "execution_count": null,
      "outputs": []
    },
    {
      "cell_type": "markdown",
      "metadata": {
        "id": "PIipVb5RQofV",
        "colab_type": "text"
      },
      "source": [
        "Then, we will draw the ROC curve."
      ]
    },
    {
      "cell_type": "code",
      "metadata": {
        "id": "9OCVhjSHQrE0",
        "colab_type": "code",
        "colab": {
          "base_uri": "https://localhost:8080/",
          "height": 411
        },
        "outputId": "95b63dae-d4cd-44e0-f350-e07a5e73388a"
      },
      "source": [
        "fig = plt.figure(figsize=(8,6))\n",
        "\n",
        "for i in result_table.index:\n",
        "    plt.plot(result_table.loc[i]['fpr'], \n",
        "             result_table.loc[i]['tpr'], \n",
        "             label=\"{}, AUC={:.3f}\".format(i, result_table.loc[i]['auc']))\n",
        "    \n",
        "plt.plot([0,1], [0,1], color='orange', linestyle='--')\n",
        "\n",
        "plt.xticks(np.arange(0.0, 1.1, step=0.1))\n",
        "plt.xlabel(\"Flase Positive Rate\", fontsize=15)\n",
        "\n",
        "plt.yticks(np.arange(0.0, 1.1, step=0.1))\n",
        "plt.ylabel(\"True Positive Rate\", fontsize=15)\n",
        "\n",
        "plt.title('ROC Curve Analysis', fontweight='bold', fontsize=15)\n",
        "plt.legend(prop={'size':13}, loc='lower right')\n",
        "\n",
        "plt.show()"
      ],
      "execution_count": null,
      "outputs": [
        {
          "output_type": "display_data",
          "data": {
            "image/png": "[encoded data removed]",
            "text/plain": [
              "<Figure size 576x432 with 1 Axes>"
            ]
          },
          "metadata": {
            "tags": [],
            "needs_background": "light"
          }
        }
      ]
    },
    {
      "cell_type": "markdown",
      "metadata": {
        "id": "di0x9Y7SEu7d",
        "colab_type": "text"
      },
      "source": [
        "### Discussion\n",
        "\n",
        "* Briefly discuss what you are inferring from this plot\n",
        "\n",
        "In the ROC plot below, Logistic Regression and Random forest classifier have higher area under curve, which means they have better accuracy in predicting rain in the future. Thus, the model with the highest validation accuracy is logistic regression, our final model.\n",
        "\n",
        "* Briefly discuss what features you used and whether you did some transformations on them. Why?\n",
        "\n",
        "We did not use date because it is not a numerical feature nor a meaningful categorical feature. Also, at first we used tmrw_prcp as feature, but it result in accuracy of 1.0 for decision tree and random forest classifier. We thought it didn't make sense to include it as feature since we do not know the future percipitation. \n",
        "\n",
        "* What features seemed important for your final model?\n",
        "\n",
        "We print all the coefficients for the logistic regression model and find the largest coefficients are, whether today rains, past 30 days precipitation, and today's precipitation. \n",
        "\n",
        "* Explain how you set up your validation.\n",
        "\n",
        "At first, we split data into 0.2 and 0.8 as validation and test set, then use the training model to predict the validation dataset, then pick the one with the higherst validation accuracy.\n",
        "\n",
        "* Explain what did you do to improve your initial predictions. Did it help?\n",
        "\n",
        "As for decision tree model, we use gridsearch to find the best parameters and it did improve the accuray of the original decision tree, then we use random forest classifier to make more robust prediction."
      ]
    }
  ]
}