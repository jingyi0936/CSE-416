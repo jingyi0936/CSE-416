{
  "nbformat": 4,
  "nbformat_minor": 0,
  "metadata": {
    "colab": {
      "name": "Sentiment_Analysis_Logistic_Regression.ipynb",
      "provenance": [],
      "collapsed_sections": [],
      "authorship_tag": "ABX9TyOuLYtZB3nOiNlUgOVyK3Nu",
      "include_colab_link": true
    },
    "kernelspec": {
      "name": "python3",
      "display_name": "Python 3"
    }
  },
  "cells": [
    {
      "cell_type": "markdown",
      "metadata": {
        "id": "view-in-github",
        "colab_type": "text"
      },
      "source": [
        "<a href=\"https://colab.research.google.com/github/jingyi0936/CSE-416/blob/master/Sentiment_Analysis_Logistic_Regression.ipynb\" target=\"_parent\"><img src=\"https://colab.research.google.com/assets/colab-badge.svg\" alt=\"Open In Colab\"/></a>"
      ]
    },
    {
      "cell_type": "code",
      "metadata": {
        "id": "ckS14VDeW6h1",
        "colab_type": "code",
        "colab": {
          "base_uri": "https://localhost:8080/",
          "height": 50
        },
        "outputId": "11cd5f0d-9a0b-486a-dc73-9e32315492bd"
      },
      "source": [
        "!pip install -q seaborn==0.9.0\n",
        "!pip install -q scikit-learn==0.20.3"
      ],
      "execution_count": null,
      "outputs": [
        {
          "output_type": "stream",
          "text": [
            "\u001b[K     |████████████████████████████████| 215kB 2.9MB/s \n",
            "\u001b[K     |████████████████████████████████| 5.4MB 2.7MB/s \n",
            "\u001b[?25h"
          ],
          "name": "stdout"
        }
      ]
    },
    {
      "cell_type": "code",
      "metadata": {
        "id": "-n8VRWVUXCHW",
        "colab_type": "code",
        "colab": {
          "base_uri": "https://localhost:8080/",
          "height": 50
        },
        "outputId": "a5147fae-396a-43fa-da5a-8af8de46192d"
      },
      "source": [
        "from __future__ import division\n",
        "from sklearn.linear_model import LogisticRegression\n",
        "from sklearn.model_selection import train_test_split\n",
        "from sklearn.feature_extraction import DictVectorizer\n",
        "import pandas as pd\n",
        "import math\n",
        "import string\n",
        "import matplotlib.pyplot as plt\n",
        "import numpy as np\n",
        "import seaborn as sns\n",
        "%matplotlib inline\n",
        "import warnings\n",
        "warnings.filterwarnings('ignore')\n",
        "import os\n",
        "import json\n",
        "import gzip\n",
        "from urllib.request import urlopen"
      ],
      "execution_count": null,
      "outputs": [
        {
          "output_type": "stream",
          "text": [
            "/usr/local/lib/python3.6/dist-packages/statsmodels/tools/_testing.py:19: FutureWarning: pandas.util.testing is deprecated. Use the functions in the public API at pandas.testing instead.\n",
            "  import pandas.util.testing as tm\n"
          ],
          "name": "stderr"
        }
      ]
    },
    {
      "cell_type": "code",
      "metadata": {
        "id": "Vyvj1twq5BX3",
        "colab_type": "code",
        "colab": {}
      },
      "source": [
        "import sklearn"
      ],
      "execution_count": null,
      "outputs": []
    },
    {
      "cell_type": "code",
      "metadata": {
        "id": "EXrgIkjiXGeZ",
        "colab_type": "code",
        "colab": {
          "base_uri": "https://localhost:8080/",
          "height": 200
        },
        "outputId": "992e15b4-ca47-4eee-ab18-f69ec0dbf6f3"
      },
      "source": [
        "!wget https://raw.githubusercontent.com/valentina-s/cse-stat-416-sp20/master/data/food_products.csv"
      ],
      "execution_count": null,
      "outputs": [
        {
          "output_type": "stream",
          "text": [
            "--2020-04-28 22:25:39--  https://raw.githubusercontent.com/valentina-s/cse-stat-416-sp20/master/data/food_products.csv\n",
            "Resolving raw.githubusercontent.com (raw.githubusercontent.com)... 151.101.0.133, 151.101.64.133, 151.101.128.133, ...\n",
            "Connecting to raw.githubusercontent.com (raw.githubusercontent.com)|151.101.0.133|:443... connected.\n",
            "HTTP request sent, awaiting response... 200 OK\n",
            "Length: 1319440 (1.3M) [text/plain]\n",
            "Saving to: ‘food_products.csv’\n",
            "\n",
            "\rfood_products.csv     0%[                    ]       0  --.-KB/s               \rfood_products.csv   100%[===================>]   1.26M  8.01MB/s    in 0.2s    \n",
            "\n",
            "2020-04-28 22:25:39 (8.01 MB/s) - ‘food_products.csv’ saved [1319440/1319440]\n",
            "\n"
          ],
          "name": "stdout"
        }
      ]
    },
    {
      "cell_type": "code",
      "metadata": {
        "id": "L9aaHMq9XMYZ",
        "colab_type": "code",
        "colab": {
          "base_uri": "https://localhost:8080/",
          "height": 70
        },
        "outputId": "1c5a09f7-c40b-41f2-ba50-49b713487750"
      },
      "source": [
        "products = pd.read_csv('food_products.csv')\n",
        "print(len(products))\n",
        "products.iloc[1]['review']"
      ],
      "execution_count": null,
      "outputs": [
        {
          "output_type": "stream",
          "text": [
            "2500\n"
          ],
          "name": "stdout"
        },
        {
          "output_type": "execute_result",
          "data": {
            "text/plain": [
              "'I found these in a Mitsuwa Marketplace in Illinois.I actually expected them to taste better than the did.  they were okay but seem smaller than standard kit kats and the taste was a tad mild compared to other green tea candies I have tried.But still, they were pleasant enough and nice for a change.'"
            ]
          },
          "metadata": {
            "tags": []
          },
          "execution_count": 5
        }
      ]
    },
    {
      "cell_type": "code",
      "metadata": {
        "id": "b_W56DETXQH_",
        "colab_type": "code",
        "colab": {
          "base_uri": "https://localhost:8080/",
          "height": 33
        },
        "outputId": "bb4fee49-1253-4d0a-aac5-6bae03ac41f2"
      },
      "source": [
        "products = products[products['rating'] != 3]\n",
        "len(products)"
      ],
      "execution_count": null,
      "outputs": [
        {
          "output_type": "execute_result",
          "data": {
            "text/plain": [
              "1729"
            ]
          },
          "metadata": {
            "tags": []
          },
          "execution_count": 6
        }
      ]
    },
    {
      "cell_type": "code",
      "metadata": {
        "id": "7cTXDkepXQ1_",
        "colab_type": "code",
        "colab": {}
      },
      "source": [
        "plt.title('Number of reviews with a given rating')\n",
        "products['rating'].hist()"
      ],
      "execution_count": null,
      "outputs": []
    },
    {
      "cell_type": "code",
      "metadata": {
        "id": "Xxu5q5A2XS3K",
        "colab_type": "code",
        "colab": {}
      },
      "source": [
        "products['sentiment'] = products['rating'].apply(lambda rating : +1 if rating > 3 else -1)\n",
        "products[0:20]"
      ],
      "execution_count": null,
      "outputs": []
    },
    {
      "cell_type": "code",
      "metadata": {
        "id": "cLK1yTXqXVFk",
        "colab_type": "code",
        "colab": {
          "base_uri": "https://localhost:8080/",
          "height": 117
        },
        "outputId": "8dd736f4-6983-4e4c-a10d-94721413d307"
      },
      "source": [
        "products.iloc[21]"
      ],
      "execution_count": null,
      "outputs": [
        {
          "output_type": "execute_result",
          "data": {
            "text/plain": [
              "Unnamed: 0                                                  162\n",
              "summary                                                Not good\n",
              "review        unsure if I just got a bad batch or what...the...\n",
              "rating                                                        1\n",
              "sentiment                                                    -1\n",
              "Name: 37, dtype: object"
            ]
          },
          "metadata": {
            "tags": []
          },
          "execution_count": 9
        }
      ]
    },
    {
      "cell_type": "code",
      "metadata": {
        "id": "EKZ_D2w2XYUs",
        "colab_type": "code",
        "colab": {}
      },
      "source": [
        "def remove_punctuation(text):\n",
        "    if type(text) != str:\n",
        "        return ''\n",
        "    return text.translate(str.maketrans('', '', string.punctuation))\n",
        "\n",
        "products['review_clean'] = products['review'].apply(remove_punctuation)"
      ],
      "execution_count": null,
      "outputs": []
    },
    {
      "cell_type": "code",
      "metadata": {
        "id": "AFDkIcrfXfCl",
        "colab_type": "code",
        "colab": {}
      },
      "source": [
        "word_count = []\n",
        "\n",
        "for i in range(0,len(products)):\n",
        "    word_count_dict = {}\n",
        "    review_clean = products['review_clean'].iloc[i]\n",
        "    review_clean = review_clean.split(' ')\n",
        "    for word in review_clean:\n",
        "        if word in word_count_dict.keys():\n",
        "            word_count_dict[word] += 1\n",
        "        else:\n",
        "            word_count_dict[word] = 1\n",
        "    word_count.append(word_count_dict)\n",
        "\n",
        "products['word_count'] = word_count"
      ],
      "execution_count": null,
      "outputs": []
    },
    {
      "cell_type": "code",
      "metadata": {
        "id": "ayNPsw8FXfvB",
        "colab_type": "code",
        "colab": {}
      },
      "source": [
        "# Create a DictVectorizer and create vectors for these dictionaries\n",
        "dictVectorizer = DictVectorizer()\n",
        "features_Frame = dictVectorizer.fit_transform(products['word_count'])"
      ],
      "execution_count": null,
      "outputs": []
    },
    {
      "cell_type": "code",
      "metadata": {
        "id": "wmXIHG3iXiry",
        "colab_type": "code",
        "colab": {}
      },
      "source": [
        "#  Create a new DataFrame that has all these features as columns plus the sentiment label!\n",
        "product_data = pd.DataFrame(features_Frame.toarray())\n",
        "product_data['sentiment'] = list(products['sentiment'])\n",
        "product_data['review_clean'] = list(products['review_clean'])  # to display later\n",
        "product_data['summary'] = list(products['summary'])  # to display later\n",
        "product_data.head()"
      ],
      "execution_count": null,
      "outputs": []
    },
    {
      "cell_type": "code",
      "metadata": {
        "id": "ptdvtSnaXjOd",
        "colab_type": "code",
        "colab": {}
      },
      "source": [
        "train_data, test_data = train_test_split(product_data, test_size = 0.2, random_state = 1)\n",
        "validation_data, test_data = train_test_split(test_data, test_size = 0.5, random_state = 1)"
      ],
      "execution_count": null,
      "outputs": []
    },
    {
      "cell_type": "code",
      "metadata": {
        "id": "SPkiguUeYDfX",
        "colab_type": "code",
        "colab": {
          "base_uri": "https://localhost:8080/",
          "height": 33
        },
        "outputId": "2f8ec929-d174-4d08-8245-c79b28a70bf4"
      },
      "source": [
        "score = pd.Series(validation_data[\"sentiment\"])\n",
        "pos = (score == +1).sum()\n",
        "neg = (score == -1).sum()\n",
        "accuracy = max(pos, neg)/len(validation_data)\n",
        "print(accuracy) #0.5144508670520231"
      ],
      "execution_count": null,
      "outputs": [
        {
          "output_type": "stream",
          "text": [
            "0.5144508670520231\n"
          ],
          "name": "stdout"
        }
      ]
    },
    {
      "cell_type": "code",
      "metadata": {
        "id": "kXIAA70trVrB",
        "colab_type": "code",
        "colab": {
          "base_uri": "https://localhost:8080/",
          "height": 100
        },
        "outputId": "97d2022d-b284-408a-b51e-bc5f905a301e"
      },
      "source": [
        "features = list(train_data.columns)\n",
        "features.remove('sentiment')\n",
        "features.remove('review_clean')\n",
        "features.remove('summary')\n",
        "\n",
        "#Note: C = 1/Lambda. Setting C to a really high value is the same as setting lambda = 0\n",
        "sentiment_model = LogisticRegression(penalty='l2', random_state = 1, C = 1e23)\n",
        "sentiment_model.fit(train_data[features], train_data['sentiment'])\n",
        "#type(features)"
      ],
      "execution_count": null,
      "outputs": [
        {
          "output_type": "execute_result",
          "data": {
            "text/plain": [
              "LogisticRegression(C=1e+23, class_weight=None, dual=False, fit_intercept=True,\n",
              "                   intercept_scaling=1, l1_ratio=None, max_iter=100,\n",
              "                   multi_class='auto', n_jobs=None, penalty='l2',\n",
              "                   random_state=1, solver='lbfgs', tol=0.0001, verbose=0,\n",
              "                   warm_start=False)"
            ]
          },
          "metadata": {
            "tags": []
          },
          "execution_count": 16
        }
      ]
    },
    {
      "cell_type": "code",
      "metadata": {
        "id": "xDj-MEhvrZOx",
        "colab_type": "code",
        "colab": {
          "base_uri": "https://localhost:8080/",
          "height": 33
        },
        "outputId": "e070265a-949f-46bd-86cc-e056fcb9c945"
      },
      "source": [
        "weights = sentiment_model.coef_[0] \n",
        "type(weights)"
      ],
      "execution_count": null,
      "outputs": [
        {
          "output_type": "execute_result",
          "data": {
            "text/plain": [
              "numpy.ndarray"
            ]
          },
          "metadata": {
            "tags": []
          },
          "execution_count": 17
        }
      ]
    },
    {
      "cell_type": "code",
      "metadata": {
        "id": "NJekyIqXrdMY",
        "colab_type": "code",
        "colab": {
          "base_uri": "https://localhost:8080/",
          "height": 33
        },
        "outputId": "3f709e89-ec2f-4e5a-972f-5c372553ff31"
      },
      "source": [
        "feature_names = dictVectorizer.get_feature_names()\n",
        "len(feature_names)\n",
        "type(feature_names)"
      ],
      "execution_count": null,
      "outputs": [
        {
          "output_type": "execute_result",
          "data": {
            "text/plain": [
              "list"
            ]
          },
          "metadata": {
            "tags": []
          },
          "execution_count": 18
        }
      ]
    },
    {
      "cell_type": "code",
      "metadata": {
        "id": "Al0PeG_7st66",
        "colab_type": "code",
        "colab": {
          "base_uri": "https://localhost:8080/",
          "height": 33
        },
        "outputId": "da0bc036-5096-4853-8e6a-e699a5f99859"
      },
      "source": [
        "index = list(weights).index(min(weights))\n",
        "feature_names[index] #'Not'"
      ],
      "execution_count": null,
      "outputs": [
        {
          "output_type": "execute_result",
          "data": {
            "text/plain": [
              "'Not'"
            ]
          },
          "metadata": {
            "tags": []
          },
          "execution_count": 19
        }
      ]
    },
    {
      "cell_type": "code",
      "metadata": {
        "id": "M0uh_a2S0Rc1",
        "colab_type": "code",
        "colab": {}
      },
      "source": [
        "sample_data = validation_data[10:13]\n",
        "sample_data"
      ],
      "execution_count": null,
      "outputs": []
    },
    {
      "cell_type": "code",
      "metadata": {
        "id": "ilKjfDJo0U2V",
        "colab_type": "code",
        "colab": {
          "base_uri": "https://localhost:8080/",
          "height": 100
        },
        "outputId": "926797f8-2844-4433-ab24-aaa81ec15bea"
      },
      "source": [
        "print (\"Probability predictions on the sample data:\")\n",
        "print('Negative Sentiment  Positive Sentiment')\n",
        "print(sentiment_model.predict_proba(sample_data[features]))"
      ],
      "execution_count": null,
      "outputs": [
        {
          "output_type": "stream",
          "text": [
            "Probability predictions on the sample data:\n",
            "Negative Sentiment  Positive Sentiment\n",
            "[[1.00000000e+00 2.67447043e-21]\n",
            " [4.21884749e-15 1.00000000e+00]\n",
            " [0.00000000e+00 1.00000000e+00]]\n"
          ],
          "name": "stdout"
        }
      ]
    },
    {
      "cell_type": "code",
      "metadata": {
        "id": "7Hh4Aund0Yol",
        "colab_type": "code",
        "colab": {
          "base_uri": "https://localhost:8080/",
          "height": 33
        },
        "outputId": "f4d656df-ee5a-4534-d6ad-e4c84335122c"
      },
      "source": [
        "print(sentiment_model.predict(sample_data[features]))"
      ],
      "execution_count": null,
      "outputs": [
        {
          "output_type": "stream",
          "text": [
            "[-1  1  1]\n"
          ],
          "name": "stdout"
        }
      ]
    },
    {
      "cell_type": "code",
      "metadata": {
        "id": "TIvxV9wS0qh1",
        "colab_type": "code",
        "colab": {
          "base_uri": "https://localhost:8080/",
          "height": 33
        },
        "outputId": "44c061b8-d6c8-4424-850b-8cec8e91a89b"
      },
      "source": [
        "prob = sentiment_model.predict_proba(validation_data[features])\n",
        "# print(prob[:, 1])\n",
        "pos_prob = prob[:, 1]\n",
        "max_index = list(pos_prob).index(max(pos_prob))\n",
        "validation_data.iloc[max_index]['review_clean']\n",
        "#'Great pack of sugar cubes Pretty self explanatory what it is Makes a great treat Also great for giving to horses they love them'"
      ],
      "execution_count": null,
      "outputs": [
        {
          "output_type": "execute_result",
          "data": {
            "text/plain": [
              "'Great pack of sugar cubes Pretty self explanatory what it is Makes a great treat Also great for giving to horses they love them'"
            ]
          },
          "metadata": {
            "tags": []
          },
          "execution_count": 23
        }
      ]
    },
    {
      "cell_type": "code",
      "metadata": {
        "id": "j94TmBMkEv4H",
        "colab_type": "code",
        "colab": {
          "base_uri": "https://localhost:8080/",
          "height": 53
        },
        "outputId": "2e2465ec-9a62-4c8f-b877-62d7ae82bc89"
      },
      "source": [
        "neg_prob = prob[:, 0]\n",
        "max_negindex = list(neg_prob).index(max(neg_prob))\n",
        "validation_data.iloc[max_negindex]['review_clean']\n",
        "#'Last summer Amazon carried another organic brand that was superior to this one \n",
        "# Although Belle commenter doesnt agree it is bland tasting and chewy Maybe I just got a bad case \n",
        "# but I wont be buyng this againI do love other Newman organic products just not this one'"
      ],
      "execution_count": null,
      "outputs": [
        {
          "output_type": "execute_result",
          "data": {
            "text/plain": [
              "'Last summer Amazon carried another organic brand that was superior to this one Although Belle commenter doesnt agree it is bland tasting and chewy Maybe I just got a bad case but I wont be buyng this againI do love other Newman organic products just not this one'"
            ]
          },
          "metadata": {
            "tags": []
          },
          "execution_count": 24
        }
      ]
    },
    {
      "cell_type": "code",
      "metadata": {
        "id": "v10Xu_iYFQPU",
        "colab_type": "code",
        "colab": {}
      },
      "source": [
        "def plot_confusion_matrix(tp, fp, fn, tn):\n",
        "    #\"\"\"\n",
        "    #Plots a confusion matrix using the values \n",
        "    #   tp - True Positive\n",
        "    #   fp - False Positive\n",
        "    #   fn - False Negative\n",
        "    #   tn - True Negative\n",
        "    #\"\"\"\n",
        "  data = np.matrix([[tp, fp], [fn, tn]])\n",
        "\n",
        "  sns.heatmap(data, annot=True, xticklabels=['Actual Pos', 'Actual Neg']\n",
        "              , yticklabels=['Pred. Pos', 'Pred. Neg'])\n"
      ],
      "execution_count": null,
      "outputs": []
    },
    {
      "cell_type": "code",
      "metadata": {
        "id": "z5-lcsB-HUMI",
        "colab_type": "code",
        "colab": {
          "base_uri": "https://localhost:8080/",
          "height": 286
        },
        "outputId": "815becab-2ff8-49f5-d9b7-b1f81da1ce85"
      },
      "source": [
        "valid_pred = sentiment_model.predict(validation_data[features])\n",
        "tp = 0\n",
        "fp = 0\n",
        "tn = 0\n",
        "fn = 0\n",
        "for i in range(len(validation_data)):\n",
        "  sentiment1 = validation_data.iloc[i]['sentiment']\n",
        "  pred = valid_pred[i]\n",
        "  if sentiment1 == 1 and pred == 1:\n",
        "      tp = tp + 1\n",
        "  elif sentiment1 == -1 and pred == 1:\n",
        "      fp = fp + 1\n",
        "  elif sentiment1 == -1 and pred == -1:\n",
        "      tn = tn + 1\n",
        "  else:\n",
        "      fn = fn + 1\n",
        "plot_confusion_matrix(tp, fp, fn, tn)\n",
        "print(tp, fp, tn, fn)"
      ],
      "execution_count": null,
      "outputs": [
        {
          "output_type": "stream",
          "text": [
            "61 19 70 23\n"
          ],
          "name": "stdout"
        },
        {
          "output_type": "display_data",
          "data": {
            "image/png": "[encoded data removed]",
            "text/plain": [
              "<Figure size 432x288 with 2 Axes>"
            ]
          },
          "metadata": {
            "tags": [],
            "needs_background": "light"
          }
        }
      ]
    },
    {
      "cell_type": "code",
      "metadata": {
        "id": "NMo_UtgqMgEf",
        "colab_type": "code",
        "colab": {
          "base_uri": "https://localhost:8080/",
          "height": 33
        },
        "outputId": "f94623cf-72cd-40ea-efe1-9b6c6ecb682b"
      },
      "source": [
        "from sklearn.metrics import accuracy_score\n",
        "accuracy_score(validation_data['sentiment'], valid_pred)\n",
        "# 0.7572254335260116"
      ],
      "execution_count": null,
      "outputs": [
        {
          "output_type": "execute_result",
          "data": {
            "text/plain": [
              "0.7572254335260116"
            ]
          },
          "metadata": {
            "tags": []
          },
          "execution_count": 27
        }
      ]
    },
    {
      "cell_type": "code",
      "metadata": {
        "id": "xmTnR05AN1Qv",
        "colab_type": "code",
        "colab": {
          "base_uri": "https://localhost:8080/",
          "height": 197
        },
        "outputId": "5edb9beb-2cb6-4c90-f4d8-afab8e0332fe"
      },
      "source": [
        "import numpy as np\n",
        "# TODO Fill in the loop\n",
        "l2_penalties = [1, 4, 10, 1e2, 1e3, 1e5]\n",
        "l2_penalty_names = ['coefficients [L2=1]', 'coefficients [L2=4]', 'coefficients [L2=10]', \n",
        "                    'coefficients [L2=1e2]', 'coefficients [L2=1e3]', 'coefficients [L2=1e5]']\n",
        "\n",
        "# Add the coefficients to this table for each model\n",
        "table = pd.DataFrame(columns = ['word'] + l2_penalty_names)\n",
        "table['word'] = feature_names\n",
        "\n",
        "for l2_penalty, column_name in zip(l2_penalties, l2_penalty_names):\n",
        "    # TODO: Train the model and save the coefficients\n",
        "    sentiment_model1 = LogisticRegression(penalty='l2', random_state = 1, C = 1/l2_penalty, fit_intercept = False)\n",
        "    sentiment_model1.fit(train_data[features], train_data['sentiment'])\n",
        "    coeff = sentiment_model1.coef_[0] \n",
        "    coeff_t = np.transpose(coeff)\n",
        "    #print(coeff_t)\n",
        "    table[column_name] = coeff_t\n",
        "    \n",
        "table.head()"
      ],
      "execution_count": null,
      "outputs": [
        {
          "output_type": "execute_result",
          "data": {
            "text/html": [
              "<div>\n",
              "<style scoped>\n",
              "    .dataframe tbody tr th:only-of-type {\n",
              "        vertical-align: middle;\n",
              "    }\n",
              "\n",
              "    .dataframe tbody tr th {\n",
              "        vertical-align: top;\n",
              "    }\n",
              "\n",
              "    .dataframe thead th {\n",
              "        text-align: right;\n",
              "    }\n",
              "</style>\n",
              "<table border=\"1\" class=\"dataframe\">\n",
              "  <thead>\n",
              "    <tr style=\"text-align: right;\">\n",
              "      <th></th>\n",
              "      <th>word</th>\n",
              "      <th>coefficients [L2=1]</th>\n",
              "      <th>coefficients [L2=4]</th>\n",
              "      <th>coefficients [L2=10]</th>\n",
              "      <th>coefficients [L2=1e2]</th>\n",
              "      <th>coefficients [L2=1e3]</th>\n",
              "      <th>coefficients [L2=1e5]</th>\n",
              "    </tr>\n",
              "  </thead>\n",
              "  <tbody>\n",
              "    <tr>\n",
              "      <th>0</th>\n",
              "      <td></td>\n",
              "      <td>0.039986</td>\n",
              "      <td>0.030585</td>\n",
              "      <td>0.027101</td>\n",
              "      <td>0.026085</td>\n",
              "      <td>0.019572</td>\n",
              "      <td>-0.000500</td>\n",
              "    </tr>\n",
              "    <tr>\n",
              "      <th>1</th>\n",
              "      <td>0</td>\n",
              "      <td>0.137539</td>\n",
              "      <td>0.108952</td>\n",
              "      <td>0.087795</td>\n",
              "      <td>0.029446</td>\n",
              "      <td>0.003514</td>\n",
              "      <td>0.000027</td>\n",
              "    </tr>\n",
              "    <tr>\n",
              "      <th>2</th>\n",
              "      <td>0000</td>\n",
              "      <td>0.045089</td>\n",
              "      <td>0.023882</td>\n",
              "      <td>0.013161</td>\n",
              "      <td>0.002196</td>\n",
              "      <td>0.000387</td>\n",
              "      <td>0.000005</td>\n",
              "    </tr>\n",
              "    <tr>\n",
              "      <th>3</th>\n",
              "      <td>002</td>\n",
              "      <td>-0.001951</td>\n",
              "      <td>-0.001644</td>\n",
              "      <td>-0.001362</td>\n",
              "      <td>-0.000672</td>\n",
              "      <td>-0.000173</td>\n",
              "      <td>-0.000004</td>\n",
              "    </tr>\n",
              "    <tr>\n",
              "      <th>4</th>\n",
              "      <td>004</td>\n",
              "      <td>-0.001951</td>\n",
              "      <td>-0.001644</td>\n",
              "      <td>-0.001362</td>\n",
              "      <td>-0.000672</td>\n",
              "      <td>-0.000173</td>\n",
              "      <td>-0.000004</td>\n",
              "    </tr>\n",
              "  </tbody>\n",
              "</table>\n",
              "</div>"
            ],
            "text/plain": [
              "   word  coefficients [L2=1]  ...  coefficients [L2=1e3]  coefficients [L2=1e5]\n",
              "0                   0.039986  ...               0.019572              -0.000500\n",
              "1     0             0.137539  ...               0.003514               0.000027\n",
              "2  0000             0.045089  ...               0.000387               0.000005\n",
              "3   002            -0.001951  ...              -0.000173              -0.000004\n",
              "4   004            -0.001951  ...              -0.000173              -0.000004\n",
              "\n",
              "[5 rows x 7 columns]"
            ]
          },
          "metadata": {
            "tags": []
          },
          "execution_count": 28
        }
      ]
    },
    {
      "cell_type": "code",
      "metadata": {
        "id": "Xy38k9c4Sk3z",
        "colab_type": "code",
        "colab": {
          "base_uri": "https://localhost:8080/",
          "height": 417
        },
        "outputId": "177f0638-19b0-4817-fdda-3278d2dc6360"
      },
      "source": [
        "import pandas as pd\n",
        "penal1 = table['coefficients [L2=1]']\n",
        "posit = penal1.nlargest(5)\n",
        "print(posit)\n",
        "# 7620    1.370178\n",
        "# 6538    1.305986\n",
        "# 1693    1.213156\n",
        "# 4598    1.170125\n",
        "# 6056    1.050198\n",
        "positive_words = pd.Series([table.iloc[7620]['word'], table.iloc[6538]['word'], table.iloc[1693]['word'], table.iloc[4598]['word'], table.iloc[6056]['word']])\n",
        "print(positive_words)\n",
        "#positive_words = table.nlargest(5, 'coefficients [L2=1]')['word']\n",
        "#print(positive_words)\n",
        "negt = penal1.nsmallest(5)\n",
        "print(negt)\n",
        "# 2501    -1.019372\n",
        "# 4673    -0.919608\n",
        "# 12961   -0.903901\n",
        "# 9564    -0.900480\n",
        "# 4657    -0.859525\n",
        "negative_words = pd.Series([table.iloc[2501]['word'], table.iloc[4673]['word'], table.iloc[12961]['word'], table.iloc[9564]['word'], table.iloc[4657]['word']])\n",
        "print(negative_words)\n",
        "#negative_words = table.nsmallest(5, 'coefficients [L2=1]')['word']\n",
        "#print(negative_words)"
      ],
      "execution_count": null,
      "outputs": [
        {
          "output_type": "stream",
          "text": [
            "7620    1.370232\n",
            "6538    1.305986\n",
            "1693    1.213156\n",
            "4598    1.170125\n",
            "6056    1.050198\n",
            "Name: coefficients [L2=1], dtype: float64\n",
            "0        great\n",
            "1         easy\n",
            "2        Great\n",
            "3         best\n",
            "4    delicious\n",
            "dtype: object\n",
            "2501    -1.019372\n",
            "4673    -0.919608\n",
            "12961   -0.903961\n",
            "9564    -0.900480\n",
            "4657    -0.859525\n",
            "Name: coefficients [L2=1], dtype: float64\n",
            "0       Not\n",
            "1     bland\n",
            "2     tried\n",
            "3       not\n",
            "4    bitter\n",
            "dtype: object\n"
          ],
          "name": "stdout"
        }
      ]
    },
    {
      "cell_type": "code",
      "metadata": {
        "id": "jGTGJXzAWEZY",
        "colab_type": "code",
        "colab": {}
      },
      "source": [
        "plt.rcParams['figure.figsize'] = 10, 6\n",
        "\n",
        "def make_coefficient_plot(table, positive_words, negative_words, l2_penalty_list):\n",
        "    cmap_positive = plt.get_cmap('Reds')\n",
        "    cmap_negative = plt.get_cmap('Blues')\n",
        "    \n",
        "    xx = l2_penalty_list\n",
        "    plt.plot(xx, [0.]*len(xx), '--', lw=1, color='k')\n",
        "    \n",
        "    table_positive_words = table[table['word'].isin(positive_words)]\n",
        "    table_negative_words = table[table['word'].isin(negative_words)]\n",
        "    del table_positive_words['word']\n",
        "    del table_negative_words['word']\n",
        "    \n",
        "    for i in range(len(positive_words)):\n",
        "        color = cmap_positive(0.8*((i+1)/(len(positive_words)*1.2)+0.15))\n",
        "        plt.plot(xx, list(table_positive_words.iloc[i]),\n",
        "                 '-', label=positive_words.iloc[i], linewidth=4.0, color=color)\n",
        "        \n",
        "    for i in range(len(negative_words)):\n",
        "        color = cmap_negative(0.8*((i+1)/(len(negative_words)*1.2)+0.15))\n",
        "        plt.plot(xx, list(table_negative_words.iloc[i]),\n",
        "                 '-', label=negative_words.iloc[i], linewidth=4.0, color=color)\n",
        "        \n",
        "    plt.legend(loc='best', ncol=3, prop={'size':16}, columnspacing=0.5)\n",
        "    plt.axis([1, 1e5, -3, 2])\n",
        "    plt.title('Coefficient path')\n",
        "    plt.xlabel('L2 penalty ($\\lambda$)')\n",
        "    plt.ylabel('Coefficient value')\n",
        "    plt.xscale('log')\n",
        "    plt.rcParams.update({'font.size': 18})\n",
        "    plt.tight_layout()"
      ],
      "execution_count": null,
      "outputs": []
    },
    {
      "cell_type": "code",
      "metadata": {
        "id": "DshHFpBPWPSB",
        "colab_type": "code",
        "colab": {
          "base_uri": "https://localhost:8080/",
          "height": 424
        },
        "outputId": "e792a319-b7fa-4cff-9148-4579e626505b"
      },
      "source": [
        "make_coefficient_plot(table, positive_words, negative_words, l2_penalty_list=[1, 4, 10, 1e2, 1e3, 1e5])"
      ],
      "execution_count": null,
      "outputs": [
        {
          "output_type": "display_data",
          "data": {
            "image/png": "[encoded data removed]",
            "text/plain": [
              "<Figure size 720x432 with 1 Axes>"
            ]
          },
          "metadata": {
            "tags": [],
            "needs_background": "light"
          }
        }
      ]
    },
    {
      "cell_type": "code",
      "metadata": {
        "id": "tLHmmjKoZOvv",
        "colab_type": "code",
        "colab": {
          "base_uri": "https://localhost:8080/",
          "height": 417
        },
        "outputId": "9eac386a-dcf0-41bd-f794-e26e1866fc10"
      },
      "source": [
        "for l2_penalty, column_name in zip(l2_penalties, l2_penalty_names):\n",
        "    # TODO: Train the model and save the coefficients\n",
        "    modell = LogisticRegression(penalty = 'l2', random_state = 1, C = 1/l2_penalty, fit_intercept = False)\n",
        "    modell.fit(train_data[features], train_data['sentiment'])\n",
        "    accuracyy = accuracy_score(validation_data['sentiment'], modell.predict(validation_data[features]))\n",
        "    print(\"l2 penalty is \")  \n",
        "    print(l2_penalty)\n",
        "    print(\"accuracy is \") \n",
        "    print(accuracyy)"
      ],
      "execution_count": null,
      "outputs": [
        {
          "output_type": "stream",
          "text": [
            "l2 penalty is \n",
            "1\n",
            "accuracy is \n",
            "0.7630057803468208\n",
            "l2 penalty is \n",
            "4\n",
            "accuracy is \n",
            "0.7687861271676301\n",
            "l2 penalty is \n",
            "10\n",
            "accuracy is \n",
            "0.7687861271676301\n",
            "l2 penalty is \n",
            "100.0\n",
            "accuracy is \n",
            "0.7687861271676301\n",
            "l2 penalty is \n",
            "1000.0\n",
            "accuracy is \n",
            "0.7109826589595376\n",
            "l2 penalty is \n",
            "100000.0\n",
            "accuracy is \n",
            "0.5317919075144508\n"
          ],
          "name": "stdout"
        }
      ]
    }
  ]
}