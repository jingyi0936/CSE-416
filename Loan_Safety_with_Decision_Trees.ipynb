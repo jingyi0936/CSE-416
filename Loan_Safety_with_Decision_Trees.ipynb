{
  "nbformat": 4,
  "nbformat_minor": 0,
  "metadata": {
    "colab": {
      "name": "Loan_Safety_with_Decision_Trees.ipynb",
      "provenance": [],
      "collapsed_sections": [],
      "include_colab_link": true
    },
    "kernelspec": {
      "display_name": "Python 3",
      "language": "python",
      "name": "python3"
    },
    "language_info": {
      "codemirror_mode": {
        "name": "ipython",
        "version": 3
      },
      "file_extension": ".py",
      "mimetype": "text/x-python",
      "name": "python",
      "nbconvert_exporter": "python",
      "pygments_lexer": "ipython3",
      "version": "3.7.3"
    }
  },
  "cells": [
    {
      "cell_type": "markdown",
      "metadata": {
        "id": "view-in-github",
        "colab_type": "text"
      },
      "source": [
        "<a href=\"https://colab.research.google.com/github/jingyi0936/CSE-416/blob/master/Loan_Safety_with_Decision_Trees.ipynb\" target=\"_parent\"><img src=\"https://colab.research.google.com/assets/colab-badge.svg\" alt=\"Open In Colab\"/></a>"
      ]
    },
    {
      "cell_type": "markdown",
      "metadata": {
        "colab_type": "text",
        "id": "qQhwxRlZoKH5"
      },
      "source": [
        "# Loan Safety\n",
        "\n",
        "The LendingClub is a peer-to-peer lending company that directly connects borrowers and potential lenders/investors. In this notebook, you will build a classification model to predict whether or not a loan provided by LendingClub is likely to default. In this assignment, you will practice:\n",
        "\n",
        "* Visualize the decision tree\n",
        "* Predict the probability of a certain label using the tree\n",
        "* Investigate how the complexity of the tree affects the results\n",
        "\n",
        "Fill in the cells provided marked `TODO` with code to answer the questions. **Unless otherwise noted, every answer you submit should have code that clearly shows the answer in the output.** Answers submitted that do not have associated code that shows the answer may not be accepted for credit. \n",
        "\n",
        "**Make sure to restart the kernel and run all cells** (especially before turning it in) to make sure your code runs correctly. Answer the questions on Gradescope.\n",
        "\n",
        "> Copyright ©2020 Emily Fox, Hunter Schafer, Valentina Staneva.  All rights reserved.  Permission is hereby granted to students registered for University of Washington CSE/STAT 416 for use solely during Spring Quarter 2020 for purposes of the course.  No other use, copying, distribution, or modification is permitted without prior written consent. Copyrights for third-party components of this work must be honored.  Instructors interested in reusing these course materials should contact the author.\n",
        "\n",
        "---"
      ]
    },
    {
      "cell_type": "code",
      "metadata": {
        "id": "xFezAT_SGUHS",
        "colab_type": "code",
        "colab": {}
      },
      "source": [
        "import requests\n",
        "\n",
        "def save_file(url, file_name):\n",
        "    r = requests.get(url)\n",
        "    with open(file_name, 'wb') as f:\n",
        "        f.write(r.content)\n",
        "    \n",
        "save_file('https://raw.githubusercontent.com/valentina-s/cse-stat-416-sp20/master/data/lending-club-data.csv', 'lending-club-data.csv')"
      ],
      "execution_count": null,
      "outputs": []
    },
    {
      "cell_type": "code",
      "metadata": {
        "colab_type": "code",
        "id": "oI0Mi7T7oKH7",
        "colab": {
          "base_uri": "https://localhost:8080/",
          "height": 50
        },
        "outputId": "7efbe757-e29d-4347-ca51-cdbadf8855ff"
      },
      "source": [
        "import warnings\n",
        "\n",
        "import matplotlib.pyplot as plt # for graphing\n",
        "import numpy as np\n",
        "import pandas as pd\n",
        "import seaborn as sns\n",
        "from mpl_toolkits.mplot3d import Axes3D\n",
        "\n",
        "%matplotlib inline\n",
        "warnings.filterwarnings('ignore')\n",
        "sns.set()"
      ],
      "execution_count": null,
      "outputs": [
        {
          "output_type": "stream",
          "text": [
            "/usr/local/lib/python3.6/dist-packages/statsmodels/tools/_testing.py:19: FutureWarning: pandas.util.testing is deprecated. Use the functions in the public API at pandas.testing instead.\n",
            "  import pandas.util.testing as tm\n"
          ],
          "name": "stderr"
        }
      ]
    },
    {
      "cell_type": "markdown",
      "metadata": {
        "id": "ECCeTFxYF3Ln",
        "colab_type": "text"
      },
      "source": [
        "# Investigate Data\n",
        "In this first part of the assignment, we will investigate the data to get a better sense of what we are working with. For this section, you won't need to write any code but there will be questions at the end of the section that you should answer based on the discussion here.\n",
        "\n",
        "First we load in the dataset"
      ]
    },
    {
      "cell_type": "code",
      "metadata": {
        "id": "B3WT-EtzQirR",
        "colab_type": "code",
        "colab": {}
      },
      "source": [
        "loans = pd.read_csv('lending-club-data.csv')"
      ],
      "execution_count": null,
      "outputs": []
    },
    {
      "cell_type": "markdown",
      "metadata": {
        "id": "kb3LnDf8F3Lq",
        "colab_type": "text"
      },
      "source": [
        "First, we will quickly look at the columns of the dataset. We won't end up using all of them, but it's still a good idea to look at what's available."
      ]
    },
    {
      "cell_type": "code",
      "metadata": {
        "id": "LcLyBrKDF3Lr",
        "colab_type": "code",
        "colab": {
          "base_uri": "https://localhost:8080/",
          "height": 617
        },
        "outputId": "1c6dba7a-d65e-4ccf-b71f-6fd840f3f62c"
      },
      "source": [
        "loans.head()"
      ],
      "execution_count": null,
      "outputs": [
        {
          "output_type": "execute_result",
          "data": {
            "text/html": [
              "<div>\n",
              "<style scoped>\n",
              "    .dataframe tbody tr th:only-of-type {\n",
              "        vertical-align: middle;\n",
              "    }\n",
              "\n",
              "    .dataframe tbody tr th {\n",
              "        vertical-align: top;\n",
              "    }\n",
              "\n",
              "    .dataframe thead th {\n",
              "        text-align: right;\n",
              "    }\n",
              "</style>\n",
              "<table border=\"1\" class=\"dataframe\">\n",
              "  <thead>\n",
              "    <tr style=\"text-align: right;\">\n",
              "      <th></th>\n",
              "      <th>id</th>\n",
              "      <th>member_id</th>\n",
              "      <th>loan_amnt</th>\n",
              "      <th>funded_amnt</th>\n",
              "      <th>funded_amnt_inv</th>\n",
              "      <th>term</th>\n",
              "      <th>int_rate</th>\n",
              "      <th>installment</th>\n",
              "      <th>grade</th>\n",
              "      <th>sub_grade</th>\n",
              "      <th>emp_title</th>\n",
              "      <th>emp_length</th>\n",
              "      <th>home_ownership</th>\n",
              "      <th>annual_inc</th>\n",
              "      <th>is_inc_v</th>\n",
              "      <th>issue_d</th>\n",
              "      <th>loan_status</th>\n",
              "      <th>pymnt_plan</th>\n",
              "      <th>url</th>\n",
              "      <th>desc</th>\n",
              "      <th>purpose</th>\n",
              "      <th>title</th>\n",
              "      <th>zip_code</th>\n",
              "      <th>addr_state</th>\n",
              "      <th>dti</th>\n",
              "      <th>delinq_2yrs</th>\n",
              "      <th>earliest_cr_line</th>\n",
              "      <th>inq_last_6mths</th>\n",
              "      <th>mths_since_last_delinq</th>\n",
              "      <th>mths_since_last_record</th>\n",
              "      <th>open_acc</th>\n",
              "      <th>pub_rec</th>\n",
              "      <th>revol_bal</th>\n",
              "      <th>revol_util</th>\n",
              "      <th>total_acc</th>\n",
              "      <th>initial_list_status</th>\n",
              "      <th>out_prncp</th>\n",
              "      <th>out_prncp_inv</th>\n",
              "      <th>total_pymnt</th>\n",
              "      <th>total_pymnt_inv</th>\n",
              "      <th>total_rec_prncp</th>\n",
              "      <th>total_rec_int</th>\n",
              "      <th>total_rec_late_fee</th>\n",
              "      <th>recoveries</th>\n",
              "      <th>collection_recovery_fee</th>\n",
              "      <th>last_pymnt_d</th>\n",
              "      <th>last_pymnt_amnt</th>\n",
              "      <th>next_pymnt_d</th>\n",
              "      <th>last_credit_pull_d</th>\n",
              "      <th>collections_12_mths_ex_med</th>\n",
              "      <th>mths_since_last_major_derog</th>\n",
              "      <th>policy_code</th>\n",
              "      <th>not_compliant</th>\n",
              "      <th>status</th>\n",
              "      <th>inactive_loans</th>\n",
              "      <th>bad_loans</th>\n",
              "      <th>emp_length_num</th>\n",
              "      <th>grade_num</th>\n",
              "      <th>sub_grade_num</th>\n",
              "      <th>delinq_2yrs_zero</th>\n",
              "      <th>pub_rec_zero</th>\n",
              "      <th>collections_12_mths_zero</th>\n",
              "      <th>short_emp</th>\n",
              "      <th>payment_inc_ratio</th>\n",
              "      <th>final_d</th>\n",
              "      <th>last_delinq_none</th>\n",
              "      <th>last_record_none</th>\n",
              "      <th>last_major_derog_none</th>\n",
              "    </tr>\n",
              "  </thead>\n",
              "  <tbody>\n",
              "    <tr>\n",
              "      <th>0</th>\n",
              "      <td>1077430</td>\n",
              "      <td>1314167</td>\n",
              "      <td>2500</td>\n",
              "      <td>2500</td>\n",
              "      <td>2500</td>\n",
              "      <td>60 months</td>\n",
              "      <td>15.27</td>\n",
              "      <td>59.83</td>\n",
              "      <td>C</td>\n",
              "      <td>C4</td>\n",
              "      <td>Ryder</td>\n",
              "      <td>&lt; 1 year</td>\n",
              "      <td>RENT</td>\n",
              "      <td>30000.0</td>\n",
              "      <td>Source Verified</td>\n",
              "      <td>20111201T000000</td>\n",
              "      <td>Charged Off</td>\n",
              "      <td>n</td>\n",
              "      <td>https://www.lendingclub.com/browse/loanDetail....</td>\n",
              "      <td>Borrower added on 12/22/11 &gt; I plan to use t...</td>\n",
              "      <td>car</td>\n",
              "      <td>bike</td>\n",
              "      <td>309xx</td>\n",
              "      <td>GA</td>\n",
              "      <td>1.00</td>\n",
              "      <td>0.0</td>\n",
              "      <td>19990401T000000</td>\n",
              "      <td>5.0</td>\n",
              "      <td>NaN</td>\n",
              "      <td>NaN</td>\n",
              "      <td>3.0</td>\n",
              "      <td>0.0</td>\n",
              "      <td>1687</td>\n",
              "      <td>9.4</td>\n",
              "      <td>4.0</td>\n",
              "      <td>f</td>\n",
              "      <td>0.0</td>\n",
              "      <td>0.0</td>\n",
              "      <td>1008.71</td>\n",
              "      <td>1008.71</td>\n",
              "      <td>456.46</td>\n",
              "      <td>435.17</td>\n",
              "      <td>0.0</td>\n",
              "      <td>117.08</td>\n",
              "      <td>1.1100</td>\n",
              "      <td>20130401T000000</td>\n",
              "      <td>119.66</td>\n",
              "      <td>NaN</td>\n",
              "      <td>20130901T000000</td>\n",
              "      <td>0.0</td>\n",
              "      <td>NaN</td>\n",
              "      <td>1</td>\n",
              "      <td>0</td>\n",
              "      <td>Charged Off</td>\n",
              "      <td>1</td>\n",
              "      <td>1</td>\n",
              "      <td>1</td>\n",
              "      <td>4</td>\n",
              "      <td>0.8</td>\n",
              "      <td>1.0</td>\n",
              "      <td>1.0</td>\n",
              "      <td>1.0</td>\n",
              "      <td>1</td>\n",
              "      <td>2.39320</td>\n",
              "      <td>20161201T000000</td>\n",
              "      <td>1</td>\n",
              "      <td>1</td>\n",
              "      <td>1</td>\n",
              "    </tr>\n",
              "    <tr>\n",
              "      <th>1</th>\n",
              "      <td>1071795</td>\n",
              "      <td>1306957</td>\n",
              "      <td>5600</td>\n",
              "      <td>5600</td>\n",
              "      <td>5600</td>\n",
              "      <td>60 months</td>\n",
              "      <td>21.28</td>\n",
              "      <td>152.39</td>\n",
              "      <td>F</td>\n",
              "      <td>F2</td>\n",
              "      <td>NaN</td>\n",
              "      <td>4 years</td>\n",
              "      <td>OWN</td>\n",
              "      <td>40000.0</td>\n",
              "      <td>Source Verified</td>\n",
              "      <td>20111201T000000</td>\n",
              "      <td>Charged Off</td>\n",
              "      <td>n</td>\n",
              "      <td>https://www.lendingclub.com/browse/loanDetail....</td>\n",
              "      <td>Borrower added on 12/21/11 &gt; I own a small h...</td>\n",
              "      <td>small_business</td>\n",
              "      <td>Expand Business &amp; Buy Debt Portfolio</td>\n",
              "      <td>958xx</td>\n",
              "      <td>CA</td>\n",
              "      <td>5.55</td>\n",
              "      <td>0.0</td>\n",
              "      <td>20040401T000000</td>\n",
              "      <td>2.0</td>\n",
              "      <td>NaN</td>\n",
              "      <td>NaN</td>\n",
              "      <td>11.0</td>\n",
              "      <td>0.0</td>\n",
              "      <td>5210</td>\n",
              "      <td>32.6</td>\n",
              "      <td>13.0</td>\n",
              "      <td>f</td>\n",
              "      <td>0.0</td>\n",
              "      <td>0.0</td>\n",
              "      <td>646.02</td>\n",
              "      <td>646.02</td>\n",
              "      <td>162.02</td>\n",
              "      <td>294.94</td>\n",
              "      <td>0.0</td>\n",
              "      <td>189.06</td>\n",
              "      <td>2.0900</td>\n",
              "      <td>20120401T000000</td>\n",
              "      <td>152.39</td>\n",
              "      <td>NaN</td>\n",
              "      <td>20120801T000000</td>\n",
              "      <td>0.0</td>\n",
              "      <td>NaN</td>\n",
              "      <td>1</td>\n",
              "      <td>0</td>\n",
              "      <td>Charged Off</td>\n",
              "      <td>1</td>\n",
              "      <td>1</td>\n",
              "      <td>5</td>\n",
              "      <td>1</td>\n",
              "      <td>0.4</td>\n",
              "      <td>1.0</td>\n",
              "      <td>1.0</td>\n",
              "      <td>1.0</td>\n",
              "      <td>0</td>\n",
              "      <td>4.57170</td>\n",
              "      <td>20161201T000000</td>\n",
              "      <td>1</td>\n",
              "      <td>1</td>\n",
              "      <td>1</td>\n",
              "    </tr>\n",
              "    <tr>\n",
              "      <th>2</th>\n",
              "      <td>1071570</td>\n",
              "      <td>1306721</td>\n",
              "      <td>5375</td>\n",
              "      <td>5375</td>\n",
              "      <td>5350</td>\n",
              "      <td>60 months</td>\n",
              "      <td>12.69</td>\n",
              "      <td>121.45</td>\n",
              "      <td>B</td>\n",
              "      <td>B5</td>\n",
              "      <td>Starbucks</td>\n",
              "      <td>&lt; 1 year</td>\n",
              "      <td>RENT</td>\n",
              "      <td>15000.0</td>\n",
              "      <td>Verified</td>\n",
              "      <td>20111201T000000</td>\n",
              "      <td>Charged Off</td>\n",
              "      <td>n</td>\n",
              "      <td>https://www.lendingclub.com/browse/loanDetail....</td>\n",
              "      <td>Borrower added on 12/16/11 &gt; I'm trying to b...</td>\n",
              "      <td>other</td>\n",
              "      <td>Building my credit history.</td>\n",
              "      <td>774xx</td>\n",
              "      <td>TX</td>\n",
              "      <td>18.08</td>\n",
              "      <td>0.0</td>\n",
              "      <td>20040901T000000</td>\n",
              "      <td>0.0</td>\n",
              "      <td>NaN</td>\n",
              "      <td>NaN</td>\n",
              "      <td>2.0</td>\n",
              "      <td>0.0</td>\n",
              "      <td>9279</td>\n",
              "      <td>36.5</td>\n",
              "      <td>3.0</td>\n",
              "      <td>f</td>\n",
              "      <td>0.0</td>\n",
              "      <td>0.0</td>\n",
              "      <td>1476.19</td>\n",
              "      <td>1469.34</td>\n",
              "      <td>673.48</td>\n",
              "      <td>533.42</td>\n",
              "      <td>0.0</td>\n",
              "      <td>269.29</td>\n",
              "      <td>2.5200</td>\n",
              "      <td>20121101T000000</td>\n",
              "      <td>121.45</td>\n",
              "      <td>NaN</td>\n",
              "      <td>20130301T000000</td>\n",
              "      <td>0.0</td>\n",
              "      <td>NaN</td>\n",
              "      <td>1</td>\n",
              "      <td>0</td>\n",
              "      <td>Charged Off</td>\n",
              "      <td>1</td>\n",
              "      <td>1</td>\n",
              "      <td>1</td>\n",
              "      <td>5</td>\n",
              "      <td>1.0</td>\n",
              "      <td>1.0</td>\n",
              "      <td>1.0</td>\n",
              "      <td>1.0</td>\n",
              "      <td>1</td>\n",
              "      <td>9.71600</td>\n",
              "      <td>20161201T000000</td>\n",
              "      <td>1</td>\n",
              "      <td>1</td>\n",
              "      <td>1</td>\n",
              "    </tr>\n",
              "    <tr>\n",
              "      <th>3</th>\n",
              "      <td>1064687</td>\n",
              "      <td>1298717</td>\n",
              "      <td>9000</td>\n",
              "      <td>9000</td>\n",
              "      <td>9000</td>\n",
              "      <td>36 months</td>\n",
              "      <td>13.49</td>\n",
              "      <td>305.38</td>\n",
              "      <td>C</td>\n",
              "      <td>C1</td>\n",
              "      <td>Va. Dept of Conservation/Recreation</td>\n",
              "      <td>&lt; 1 year</td>\n",
              "      <td>RENT</td>\n",
              "      <td>30000.0</td>\n",
              "      <td>Source Verified</td>\n",
              "      <td>20111201T000000</td>\n",
              "      <td>Charged Off</td>\n",
              "      <td>n</td>\n",
              "      <td>https://www.lendingclub.com/browse/loanDetail....</td>\n",
              "      <td>Borrower added on 12/15/11 &gt; Plan to pay off...</td>\n",
              "      <td>debt_consolidation</td>\n",
              "      <td>freedom</td>\n",
              "      <td>245xx</td>\n",
              "      <td>VA</td>\n",
              "      <td>10.08</td>\n",
              "      <td>0.0</td>\n",
              "      <td>20040401T000000</td>\n",
              "      <td>1.0</td>\n",
              "      <td>NaN</td>\n",
              "      <td>NaN</td>\n",
              "      <td>4.0</td>\n",
              "      <td>0.0</td>\n",
              "      <td>10452</td>\n",
              "      <td>91.7</td>\n",
              "      <td>9.0</td>\n",
              "      <td>f</td>\n",
              "      <td>0.0</td>\n",
              "      <td>0.0</td>\n",
              "      <td>2270.70</td>\n",
              "      <td>2270.70</td>\n",
              "      <td>1256.14</td>\n",
              "      <td>570.26</td>\n",
              "      <td>0.0</td>\n",
              "      <td>444.30</td>\n",
              "      <td>4.1600</td>\n",
              "      <td>20120701T000000</td>\n",
              "      <td>305.38</td>\n",
              "      <td>NaN</td>\n",
              "      <td>20121101T000000</td>\n",
              "      <td>0.0</td>\n",
              "      <td>NaN</td>\n",
              "      <td>1</td>\n",
              "      <td>0</td>\n",
              "      <td>Charged Off</td>\n",
              "      <td>1</td>\n",
              "      <td>1</td>\n",
              "      <td>1</td>\n",
              "      <td>4</td>\n",
              "      <td>0.2</td>\n",
              "      <td>1.0</td>\n",
              "      <td>1.0</td>\n",
              "      <td>1.0</td>\n",
              "      <td>1</td>\n",
              "      <td>12.21520</td>\n",
              "      <td>20141201T000000</td>\n",
              "      <td>1</td>\n",
              "      <td>1</td>\n",
              "      <td>1</td>\n",
              "    </tr>\n",
              "    <tr>\n",
              "      <th>4</th>\n",
              "      <td>1069057</td>\n",
              "      <td>1303503</td>\n",
              "      <td>10000</td>\n",
              "      <td>10000</td>\n",
              "      <td>10000</td>\n",
              "      <td>36 months</td>\n",
              "      <td>10.65</td>\n",
              "      <td>325.74</td>\n",
              "      <td>B</td>\n",
              "      <td>B2</td>\n",
              "      <td>SFMTA</td>\n",
              "      <td>3 years</td>\n",
              "      <td>RENT</td>\n",
              "      <td>100000.0</td>\n",
              "      <td>Source Verified</td>\n",
              "      <td>20111201T000000</td>\n",
              "      <td>Charged Off</td>\n",
              "      <td>n</td>\n",
              "      <td>https://www.lendingclub.com/browse/loanDetail....</td>\n",
              "      <td>NaN</td>\n",
              "      <td>other</td>\n",
              "      <td>Other Loan</td>\n",
              "      <td>951xx</td>\n",
              "      <td>CA</td>\n",
              "      <td>7.06</td>\n",
              "      <td>0.0</td>\n",
              "      <td>19910501T000000</td>\n",
              "      <td>2.0</td>\n",
              "      <td>NaN</td>\n",
              "      <td>NaN</td>\n",
              "      <td>14.0</td>\n",
              "      <td>0.0</td>\n",
              "      <td>11997</td>\n",
              "      <td>55.5</td>\n",
              "      <td>29.0</td>\n",
              "      <td>f</td>\n",
              "      <td>0.0</td>\n",
              "      <td>0.0</td>\n",
              "      <td>7471.99</td>\n",
              "      <td>7471.99</td>\n",
              "      <td>5433.47</td>\n",
              "      <td>1393.42</td>\n",
              "      <td>0.0</td>\n",
              "      <td>645.10</td>\n",
              "      <td>6.3145</td>\n",
              "      <td>20131001T000000</td>\n",
              "      <td>325.74</td>\n",
              "      <td>NaN</td>\n",
              "      <td>20140301T000000</td>\n",
              "      <td>0.0</td>\n",
              "      <td>NaN</td>\n",
              "      <td>1</td>\n",
              "      <td>0</td>\n",
              "      <td>Charged Off</td>\n",
              "      <td>1</td>\n",
              "      <td>1</td>\n",
              "      <td>4</td>\n",
              "      <td>5</td>\n",
              "      <td>0.4</td>\n",
              "      <td>1.0</td>\n",
              "      <td>1.0</td>\n",
              "      <td>1.0</td>\n",
              "      <td>0</td>\n",
              "      <td>3.90888</td>\n",
              "      <td>20141201T000000</td>\n",
              "      <td>1</td>\n",
              "      <td>1</td>\n",
              "      <td>1</td>\n",
              "    </tr>\n",
              "  </tbody>\n",
              "</table>\n",
              "</div>"
            ],
            "text/plain": [
              "        id  member_id  ...  last_record_none  last_major_derog_none\n",
              "0  1077430    1314167  ...                 1                      1\n",
              "1  1071795    1306957  ...                 1                      1\n",
              "2  1071570    1306721  ...                 1                      1\n",
              "3  1064687    1298717  ...                 1                      1\n",
              "4  1069057    1303503  ...                 1                      1\n",
              "\n",
              "[5 rows x 68 columns]"
            ]
          },
          "metadata": {
            "tags": []
          },
          "execution_count": 5
        }
      ]
    },
    {
      "cell_type": "markdown",
      "metadata": {
        "id": "uUmdaJduF3Ls",
        "colab_type": "text"
      },
      "source": [
        "One feature we will use is the \"grade\" of the loan. We can investigate what this feature, \"grade\", looks like:"
      ]
    },
    {
      "cell_type": "code",
      "metadata": {
        "id": "AwqXo3eoF3Lt",
        "colab_type": "code",
        "colab": {}
      },
      "source": [
        "sns.countplot(x='grade', data=loans, order=sorted(loans['grade'].unique()))"
      ],
      "execution_count": null,
      "outputs": []
    },
    {
      "cell_type": "markdown",
      "metadata": {
        "id": "tsBvMTw8F3Lv",
        "colab_type": "text"
      },
      "source": [
        "We can see that over half of the loan grades are assigned values B or C. Each loan is assigned one of these grades, along with a more finely discretized feature called subgrade (feel free to explore that feature column as well!). These values depend on the loan application and credit report, and determine the interest rate of the loan. More information if you're interested can be found [here](https://www.lendingclub.com/investing/investor-education/interest-rates-and-fees).\n",
        "\n",
        "Now let's look at another feature that will be used, \"home ownership\". This feature describes whether the loanee is mortaging, renting, or owns a home. We can see that a small percentage of the loanees own a home."
      ]
    },
    {
      "cell_type": "code",
      "metadata": {
        "id": "LkBTtqOUF3Lw",
        "colab_type": "code",
        "colab": {}
      },
      "source": [
        "sns.countplot(x='home_ownership', data=loans, order=sorted(loans['home_ownership'].unique()))"
      ],
      "execution_count": null,
      "outputs": []
    },
    {
      "cell_type": "markdown",
      "metadata": {
        "id": "QRYioevbF3Lx",
        "colab_type": "text"
      },
      "source": [
        "## Investigate Data - Target\n",
        "The target column (label column) of the dataset that we are interested in is called `bad_loans`. In this column 1 means a risky (bad) loan 0 means a safe loan.\n",
        "\n",
        "In order to make this more intuitive and consistent with the lectures, we reassign the target to be:\n",
        "\n",
        "* +1 as a safe loan,\n",
        "* -1 as a risky (bad) loan.\n",
        "\n",
        "We put this in a new column called `safe_loans`."
      ]
    },
    {
      "cell_type": "code",
      "metadata": {
        "id": "uorqxuVRF3Ly",
        "colab_type": "code",
        "colab": {}
      },
      "source": [
        "loans['safe_loans'] = loans['bad_loans'].apply(lambda x : +1 if x==0 else -1)\n",
        "loans = loans.drop(columns='bad_loans')"
      ],
      "execution_count": null,
      "outputs": []
    },
    {
      "cell_type": "markdown",
      "metadata": {
        "id": "_dq1vf0wF3L0",
        "colab_type": "text"
      },
      "source": [
        "Now, let's explore the distribution of values for `safe_loans`. This gives us a sense of how many safe and risky loans are present in the dataset. "
      ]
    },
    {
      "cell_type": "code",
      "metadata": {
        "id": "qbRpgNFKF3L0",
        "colab_type": "code",
        "colab": {
          "base_uri": "https://localhost:8080/",
          "height": 50
        },
        "outputId": "48774395-4235-496a-88ff-cb03ea864c3b"
      },
      "source": [
        "only_safe = loans[loans['safe_loans'] == 1]\n",
        "only_bad = loans[loans['safe_loans'] == -1]\n",
        "\n",
        "print(f'Number safe  loans: {len(only_safe)} ({len(only_safe) * 100.0 / len(loans):.2f}%)')\n",
        "print(f'Number risky loans: {len(only_bad)} ({len(only_bad) * 100.0 / len(loans):.2f}%)')"
      ],
      "execution_count": null,
      "outputs": [
        {
          "output_type": "stream",
          "text": [
            "Number safe  loans: 42767 (64.88%)\n",
            "Number risky loans: 23150 (35.12%)\n"
          ],
          "name": "stdout"
        }
      ]
    },
    {
      "cell_type": "markdown",
      "metadata": {
        "id": "OE1J-exiF3L3",
        "colab_type": "text"
      },
      "source": [
        "## Investigate Data - Questions\n",
        "\n",
        "<div class=\"alert alert-block alert-success\">\n",
        "    <h4>Question 1</h4> \n",
        "    <p>\n",
        "        What was the most common loan grade?\n",
        "    </p>\n",
        "    <p>\n",
        "        <b>Gradescope:</b> Select one choice.\n",
        "    </p>\n",
        "    <ul>\n",
        "        <li>A</li>\n",
        "        <li>B</li>\n",
        "        <li>C</li>\n",
        "        <li>D</li>\n",
        "        <li>E</li>\n",
        "        <li>F</li>\n",
        "        <li>G</li>\n",
        "    </ul>\n",
        "</div>\n",
        "\n",
        "\n",
        "<div class=\"alert alert-block alert-success\">\n",
        "    <h4>Question 2</h4> \n",
        "    <p>\n",
        "        How many different types of home ownership are there?\n",
        "    </p>\n",
        "    <p>\n",
        "        <b>Gradescope:</b> Type your answer as an integer (e.g. 5).\n",
        "    </p>\n",
        "</div>\n",
        "\n",
        "<div class=\"alert alert-block alert-success\">"
      ]
    },
    {
      "cell_type": "code",
      "metadata": {
        "id": "97AT8xI6cWyz",
        "colab_type": "code",
        "colab": {
          "base_uri": "https://localhost:8080/",
          "height": 33
        },
        "outputId": "ae51d0fb-8875-4aae-c134-a8cae67fbaac"
      },
      "source": [
        "max_val = 0\n",
        "res = 'A'\n",
        "llist = loans['grade']\n",
        "grade_list = llist.tolist()\n",
        "count = {}\n",
        "for word in grade_list:\n",
        "  if word in count:\n",
        "    count[word] += 1\n",
        "  else:\n",
        "    count[word] = 1\n",
        "\n",
        "most_word = sorted(count, key = count.get, reverse = True)\n",
        "\n",
        "top_1= most_word[:1]\n",
        "print(top_1)"
      ],
      "execution_count": null,
      "outputs": [
        {
          "output_type": "execute_result",
          "data": {
            "text/plain": [
              "['B']"
            ]
          },
          "metadata": {
            "tags": []
          },
          "execution_count": 22
        }
      ]
    },
    {
      "cell_type": "code",
      "metadata": {
        "id": "env6bEtmiVgB",
        "colab_type": "code",
        "colab": {
          "base_uri": "https://localhost:8080/",
          "height": 33
        },
        "outputId": "803b732f-0816-4fa1-f6d6-cea7dc29e2ac"
      },
      "source": [
        "ownership = loans['home_ownership']\n",
        "owner_list = ownership.tolist()\n",
        "own = {}\n",
        "for word in owner_list:\n",
        "  if word in own:\n",
        "    own[word] += 1\n",
        "  else:\n",
        "    own[word] = 1\n",
        "\n",
        "ownershipp = sorted(own, key = own.get, reverse = True)\n",
        "print(len(ownershipp))"
      ],
      "execution_count": null,
      "outputs": [
        {
          "output_type": "stream",
          "text": [
            "4\n"
          ],
          "name": "stdout"
        }
      ]
    },
    {
      "cell_type": "markdown",
      "metadata": {
        "id": "bCq2GDTAF3L4",
        "colab_type": "text"
      },
      "source": [
        "---\n",
        "# Preprocess Data for Learning\n",
        "In this section, we pre-process the data to make it suitable for ML.\n",
        "\n",
        "## Encode Categorical Features\n",
        "We will be using both numeric and categorical features to predict if a loan is safe or risky. The features are described in code commments in the next cell. "
      ]
    },
    {
      "cell_type": "code",
      "metadata": {
        "id": "Oiil5_pqF3L5",
        "colab_type": "code",
        "colab": {
          "base_uri": "https://localhost:8080/",
          "height": 197
        },
        "outputId": "193a9cc6-08ed-492a-bea9-50b038f3968b"
      },
      "source": [
        "features = [\n",
        "    'grade',                     # grade of the loan (e.g. A or B)\n",
        "    'sub_grade',                 # sub-grade of the loan (e.g. A1, A2, B1)\n",
        "    'short_emp',                 # one year or less of employment (0 or 1)\n",
        "    'emp_length_num',            # number of years of employment (a number)\n",
        "    'home_ownership',            # home_ownership status (one of own, mortgage, rent or other)\n",
        "    'dti',                       # debt to income ratio (a number)\n",
        "    'purpose',                   # the purpose of the loan (one of many values)\n",
        "    'term',                      # the term of the loan (36 months or 60 months)\n",
        "    'last_delinq_none',          # has borrower had a delinquincy (0 or 1)\n",
        "    'last_major_derog_none',     # has borrower had 90 day or worse rating (0 or 1)\n",
        "    'revol_util',                # percent of available credit being used (number between 0 and 100)\n",
        "    'total_rec_late_fee',        # total late fees received to day (a number)\n",
        "]\n",
        "\n",
        "target = 'safe_loans'                   # prediction target (y) (+1 means safe, -1 is risky)\n",
        "\n",
        "# Extract the feature columns and target column\n",
        "loans = loans[features + [target]]\n",
        "loans.head()"
      ],
      "execution_count": null,
      "outputs": [
        {
          "output_type": "execute_result",
          "data": {
            "text/html": [
              "<div>\n",
              "<style scoped>\n",
              "    .dataframe tbody tr th:only-of-type {\n",
              "        vertical-align: middle;\n",
              "    }\n",
              "\n",
              "    .dataframe tbody tr th {\n",
              "        vertical-align: top;\n",
              "    }\n",
              "\n",
              "    .dataframe thead th {\n",
              "        text-align: right;\n",
              "    }\n",
              "</style>\n",
              "<table border=\"1\" class=\"dataframe\">\n",
              "  <thead>\n",
              "    <tr style=\"text-align: right;\">\n",
              "      <th></th>\n",
              "      <th>grade</th>\n",
              "      <th>sub_grade</th>\n",
              "      <th>short_emp</th>\n",
              "      <th>emp_length_num</th>\n",
              "      <th>home_ownership</th>\n",
              "      <th>dti</th>\n",
              "      <th>purpose</th>\n",
              "      <th>term</th>\n",
              "      <th>last_delinq_none</th>\n",
              "      <th>last_major_derog_none</th>\n",
              "      <th>revol_util</th>\n",
              "      <th>total_rec_late_fee</th>\n",
              "      <th>safe_loans</th>\n",
              "    </tr>\n",
              "  </thead>\n",
              "  <tbody>\n",
              "    <tr>\n",
              "      <th>0</th>\n",
              "      <td>C</td>\n",
              "      <td>C4</td>\n",
              "      <td>1</td>\n",
              "      <td>1</td>\n",
              "      <td>RENT</td>\n",
              "      <td>1.00</td>\n",
              "      <td>car</td>\n",
              "      <td>60 months</td>\n",
              "      <td>1</td>\n",
              "      <td>1</td>\n",
              "      <td>9.4</td>\n",
              "      <td>0.0</td>\n",
              "      <td>-1</td>\n",
              "    </tr>\n",
              "    <tr>\n",
              "      <th>1</th>\n",
              "      <td>F</td>\n",
              "      <td>F2</td>\n",
              "      <td>0</td>\n",
              "      <td>5</td>\n",
              "      <td>OWN</td>\n",
              "      <td>5.55</td>\n",
              "      <td>small_business</td>\n",
              "      <td>60 months</td>\n",
              "      <td>1</td>\n",
              "      <td>1</td>\n",
              "      <td>32.6</td>\n",
              "      <td>0.0</td>\n",
              "      <td>-1</td>\n",
              "    </tr>\n",
              "    <tr>\n",
              "      <th>2</th>\n",
              "      <td>B</td>\n",
              "      <td>B5</td>\n",
              "      <td>1</td>\n",
              "      <td>1</td>\n",
              "      <td>RENT</td>\n",
              "      <td>18.08</td>\n",
              "      <td>other</td>\n",
              "      <td>60 months</td>\n",
              "      <td>1</td>\n",
              "      <td>1</td>\n",
              "      <td>36.5</td>\n",
              "      <td>0.0</td>\n",
              "      <td>-1</td>\n",
              "    </tr>\n",
              "    <tr>\n",
              "      <th>3</th>\n",
              "      <td>C</td>\n",
              "      <td>C1</td>\n",
              "      <td>1</td>\n",
              "      <td>1</td>\n",
              "      <td>RENT</td>\n",
              "      <td>10.08</td>\n",
              "      <td>debt_consolidation</td>\n",
              "      <td>36 months</td>\n",
              "      <td>1</td>\n",
              "      <td>1</td>\n",
              "      <td>91.7</td>\n",
              "      <td>0.0</td>\n",
              "      <td>-1</td>\n",
              "    </tr>\n",
              "    <tr>\n",
              "      <th>4</th>\n",
              "      <td>B</td>\n",
              "      <td>B2</td>\n",
              "      <td>0</td>\n",
              "      <td>4</td>\n",
              "      <td>RENT</td>\n",
              "      <td>7.06</td>\n",
              "      <td>other</td>\n",
              "      <td>36 months</td>\n",
              "      <td>1</td>\n",
              "      <td>1</td>\n",
              "      <td>55.5</td>\n",
              "      <td>0.0</td>\n",
              "      <td>-1</td>\n",
              "    </tr>\n",
              "  </tbody>\n",
              "</table>\n",
              "</div>"
            ],
            "text/plain": [
              "  grade sub_grade  short_emp  ...  revol_util total_rec_late_fee  safe_loans\n",
              "0     C        C4          1  ...         9.4                0.0          -1\n",
              "1     F        F2          0  ...        32.6                0.0          -1\n",
              "2     B        B5          1  ...        36.5                0.0          -1\n",
              "3     C        C1          1  ...        91.7                0.0          -1\n",
              "4     B        B2          0  ...        55.5                0.0          -1\n",
              "\n",
              "[5 rows x 13 columns]"
            ]
          },
          "metadata": {
            "tags": []
          },
          "execution_count": 31
        }
      ]
    },
    {
      "cell_type": "markdown",
      "metadata": {
        "id": "oaxAZTtRF3L7",
        "colab_type": "text"
      },
      "source": [
        "With how `sklearn` implemented its `DecisionTreeClassifier`, it is only able to handle numerical features; the technical reason being it only allows binary splits and assumes (like other `sklearn` models), that the data is only numerical. This means we need to translate the categorical features into numeric ones. \n",
        "\n",
        "The easiest way to do this is a **one-hot encoding** of each categorical feature. Reminder from section last week, a one hot encoding of a feature creates new, derived, features that take on the value 0 or 1 (one new feature for each possible value of the original). For examples, if we had the dataset \n",
        "\n",
        "| Gender | HasHouse | Age |\n",
        "|--------|----------|-----|\n",
        "| M      | N        | 19  |\n",
        "| F      | Y        | 23  |\n",
        "| O      | Y        | 24  |\n",
        "| F      | N        | 21  |\n",
        "\n",
        "A one-hot encoding of the categorical features would be \n",
        "\n",
        "| Gender_M | Gender_F | Gender_O | HasHouse_N | HasHouse_Y | Age |\n",
        "|----------|----------|----------|------------|------------|-----|\n",
        "| 1        | 0        | 0        | 1          | 0          | 19  |\n",
        "| 0        | 1        | 0        | 0          | 1          | 23  |\n",
        "| 0        | 0        | 1        | 0          | 1          | 24  |\n",
        "| 0        | 1        | 0        | 1          | 0          | 21  |\n",
        "\n",
        "\n",
        "To do this in `pandas`, we use the `get_dummies()` method (another name for one-hot encoding, is dummy variable). We show the new features of the data after running the function in the next cell."
      ]
    },
    {
      "cell_type": "code",
      "metadata": {
        "id": "qR7QXseQF3L7",
        "colab_type": "code",
        "colab": {
          "base_uri": "https://localhost:8080/",
          "height": 1000
        },
        "outputId": "7689e893-9da3-4177-cf7d-f7ef73a1e587"
      },
      "source": [
        "loans = pd.get_dummies(loans)\n",
        "features = list(loans.columns)\n",
        "features.remove('safe_loans')\n",
        "features"
      ],
      "execution_count": null,
      "outputs": [
        {
          "output_type": "execute_result",
          "data": {
            "text/plain": [
              "['short_emp',\n",
              " 'emp_length_num',\n",
              " 'dti',\n",
              " 'last_delinq_none',\n",
              " 'last_major_derog_none',\n",
              " 'revol_util',\n",
              " 'total_rec_late_fee',\n",
              " 'grade_A',\n",
              " 'grade_B',\n",
              " 'grade_C',\n",
              " 'grade_D',\n",
              " 'grade_E',\n",
              " 'grade_F',\n",
              " 'grade_G',\n",
              " 'sub_grade_A1',\n",
              " 'sub_grade_A2',\n",
              " 'sub_grade_A3',\n",
              " 'sub_grade_A4',\n",
              " 'sub_grade_A5',\n",
              " 'sub_grade_B1',\n",
              " 'sub_grade_B2',\n",
              " 'sub_grade_B3',\n",
              " 'sub_grade_B4',\n",
              " 'sub_grade_B5',\n",
              " 'sub_grade_C1',\n",
              " 'sub_grade_C2',\n",
              " 'sub_grade_C3',\n",
              " 'sub_grade_C4',\n",
              " 'sub_grade_C5',\n",
              " 'sub_grade_D1',\n",
              " 'sub_grade_D2',\n",
              " 'sub_grade_D3',\n",
              " 'sub_grade_D4',\n",
              " 'sub_grade_D5',\n",
              " 'sub_grade_E1',\n",
              " 'sub_grade_E2',\n",
              " 'sub_grade_E3',\n",
              " 'sub_grade_E4',\n",
              " 'sub_grade_E5',\n",
              " 'sub_grade_F1',\n",
              " 'sub_grade_F2',\n",
              " 'sub_grade_F3',\n",
              " 'sub_grade_F4',\n",
              " 'sub_grade_F5',\n",
              " 'sub_grade_G1',\n",
              " 'sub_grade_G2',\n",
              " 'sub_grade_G3',\n",
              " 'sub_grade_G4',\n",
              " 'sub_grade_G5',\n",
              " 'home_ownership_MORTGAGE',\n",
              " 'home_ownership_OTHER',\n",
              " 'home_ownership_OWN',\n",
              " 'home_ownership_RENT',\n",
              " 'purpose_car',\n",
              " 'purpose_credit_card',\n",
              " 'purpose_debt_consolidation',\n",
              " 'purpose_home_improvement',\n",
              " 'purpose_house',\n",
              " 'purpose_major_purchase',\n",
              " 'purpose_medical',\n",
              " 'purpose_moving',\n",
              " 'purpose_other',\n",
              " 'purpose_small_business',\n",
              " 'purpose_vacation',\n",
              " 'purpose_wedding',\n",
              " 'term_36 months',\n",
              " 'term_60 months']"
            ]
          },
          "metadata": {
            "tags": []
          },
          "execution_count": 33
        }
      ]
    },
    {
      "cell_type": "markdown",
      "metadata": {
        "id": "ESPA-PyUF3L9",
        "colab_type": "text"
      },
      "source": [
        "Here is a preview of the new dataset. Notice our categorical features have become 0/1s represented over many columns (e.g. \"grade\" becamse \"grade_A\" through \"grade_F\")."
      ]
    },
    {
      "cell_type": "markdown",
      "metadata": {
        "id": "StiJXjBCF3L_",
        "colab_type": "text"
      },
      "source": [
        ""
      ]
    },
    {
      "cell_type": "markdown",
      "metadata": {
        "id": "BNKvJkj6F3ME",
        "colab_type": "text"
      },
      "source": [
        "---\n",
        "# Model Training\n",
        "In this section, you will start writing code to train the decision tree model. \n",
        "\n",
        "First we split the data into 80% training data and 20% validation data. For this assignment, we will not use a test set since we aren't going to be deploying this model in the future and don't need to make a claim on our accuracy guarantee. "
      ]
    },
    {
      "cell_type": "code",
      "metadata": {
        "id": "9AUjNieEF3MF",
        "colab_type": "code",
        "colab": {}
      },
      "source": [
        "from sklearn.model_selection import train_test_split\n",
        "\n",
        "train_data, validation_data = train_test_split(loans, test_size=0.2, random_state=1)"
      ],
      "execution_count": null,
      "outputs": []
    },
    {
      "cell_type": "markdown",
      "metadata": {
        "id": "2q51VUVqF3MG",
        "colab_type": "text"
      },
      "source": [
        "Now let's use `sklearn`'s `DecisionTreeClassifier` (documentation [here](https://scikit-learn.org/stable/modules/generated/sklearn.tree.DecisionTreeClassifier.html)) \n",
        "to create a loan-safety prediction model on the training data. \n",
        "\n",
        "When creating the model you should only pass in the values `max_depth=6` and `random_state=1` (to make sure we get the same values). Use the features and target defined earlier when training the model on the training data. Save the tree in a variable called `decision_tree_model`."
      ]
    },
    {
      "cell_type": "code",
      "metadata": {
        "id": "bwMYt8nfF3MH",
        "colab_type": "code",
        "colab": {
          "base_uri": "https://localhost:8080/",
          "height": 117
        },
        "outputId": "0f2bbf59-a355-4a5c-ff51-a987eb5d4894"
      },
      "source": [
        "# TODO train a model with max_depth=6\n",
        "from sklearn.tree import DecisionTreeClassifier\n",
        "decision_tree_model = DecisionTreeClassifier(max_depth = 6, random_state = 1)\n",
        "decision_tree_model.fit(train_data[features], train_data[target])"
      ],
      "execution_count": null,
      "outputs": [
        {
          "output_type": "execute_result",
          "data": {
            "text/plain": [
              "DecisionTreeClassifier(ccp_alpha=0.0, class_weight=None, criterion='gini',\n",
              "                       max_depth=6, max_features=None, max_leaf_nodes=None,\n",
              "                       min_impurity_decrease=0.0, min_impurity_split=None,\n",
              "                       min_samples_leaf=1, min_samples_split=2,\n",
              "                       min_weight_fraction_leaf=0.0, presort='deprecated',\n",
              "                       random_state=1, splitter='best')"
            ]
          },
          "metadata": {
            "tags": []
          },
          "execution_count": 39
        }
      ]
    },
    {
      "cell_type": "markdown",
      "metadata": {
        "id": "sbHw8Xv0F3MJ",
        "colab_type": "text"
      },
      "source": [
        "Next, we want you to visualize what the tree looks like. In the cell below, we have defined a function to visualize the tree. \n",
        "\n",
        "Visualizing a depth 7 tree can be hard, so instead we will train another model stored in a variable called `small_tree_model` that has `max_depth=2`.\n",
        "\n",
        "Installing Graphviz (especially on Windows) can be kind of tricky. If the code below doesn't run correctly, we provide an image to the picture you should have seen! "
      ]
    },
    {
      "cell_type": "code",
      "metadata": {
        "id": "w_A5ZTZ2F3MJ",
        "colab_type": "code",
        "colab": {
          "base_uri": "https://localhost:8080/",
          "height": 380
        },
        "outputId": "ba8ceeb5-af89-43e9-91ea-fd1a20bbffec"
      },
      "source": [
        "from sklearn import tree\n",
        "\n",
        "small_tree_model = DecisionTreeClassifier(max_depth=2, random_state=1)\n",
        "small_tree_model.fit(train_data[features], train_data[target])\n",
        "\n",
        "# Hack to fail gracefully if graphviz is not installed\n",
        "try:\n",
        "    import graphviz\n",
        "\n",
        "    def draw_tree(tree_model, features):\n",
        "        \"\"\"\n",
        "        visualizes a Decision Tree\n",
        "        \"\"\"\n",
        "        tree_data = tree.export_graphviz(tree_model, \n",
        "                                     impurity=False, \n",
        "                                     feature_names=features,\n",
        "                                     class_names=tree_model.classes_.astype(str),\n",
        "                                     filled=True,\n",
        "                                     out_file=None)\n",
        "        graph = graphviz.Source(tree_data) \n",
        "        display(graph)\n",
        "        \n",
        "    draw_tree(small_tree_model, features)\n",
        "except:\n",
        "    print('Graphviz not installed. You can view the picture here! https://courses.cs.washington.edu/courses/cse416/19su/files/assignment-resources/concept/cq4/tree.png')"
      ],
      "execution_count": null,
      "outputs": [
        {
          "output_type": "display_data",
          "data": {
            "text/plain": [
              "<graphviz.files.Source at 0x7f44a8c90eb8>"
            ],
            "image/svg+xml": "<?xml version=\"1.0\" encoding=\"UTF-8\" standalone=\"no\"?>\n<!DOCTYPE svg PUBLIC \"-//W3C//DTD SVG 1.1//EN\"\n \"http://www.w3.org/Graphics/SVG/1.1/DTD/svg11.dtd\">\n<!-- Generated by graphviz version 2.40.1 (20161225.0304)\n -->\n<!-- Title: Tree Pages: 1 -->\n<svg width=\"633pt\" height=\"269pt\"\n viewBox=\"0.00 0.00 632.50 269.00\" xmlns=\"http://www.w3.org/2000/svg\" xmlns:xlink=\"http://www.w3.org/1999/xlink\">\n<g id=\"graph0\" class=\"graph\" transform=\"scale(1 1) rotate(0) translate(4 265)\">\n<title>Tree</title>\n<polygon fill=\"#ffffff\" stroke=\"transparent\" points=\"-4,4 -4,-265 628.5,-265 628.5,4 -4,4\"/>\n<!-- 0 -->\n<g id=\"node1\" class=\"node\">\n<title>0</title>\n<polygon fill=\"#a3d2f3\" stroke=\"#000000\" points=\"410,-261 255,-261 255,-193 410,-193 410,-261\"/>\n<text text-anchor=\"middle\" x=\"332.5\" y=\"-245.8\" font-family=\"Times,serif\" font-size=\"14.00\" fill=\"#000000\">grade_A &lt;= 0.5</text>\n<text text-anchor=\"middle\" x=\"332.5\" y=\"-230.8\" font-family=\"Times,serif\" font-size=\"14.00\" fill=\"#000000\">samples = 52733</text>\n<text text-anchor=\"middle\" x=\"332.5\" y=\"-215.8\" font-family=\"Times,serif\" font-size=\"14.00\" fill=\"#000000\">value = [18405, 34328]</text>\n<text text-anchor=\"middle\" x=\"332.5\" y=\"-200.8\" font-family=\"Times,serif\" font-size=\"14.00\" fill=\"#000000\">class = 1</text>\n</g>\n<!-- 1 -->\n<g id=\"node2\" class=\"node\">\n<title>1</title>\n<polygon fill=\"#b7dbf5\" stroke=\"#000000\" points=\"317,-157 162,-157 162,-89 317,-89 317,-157\"/>\n<text text-anchor=\"middle\" x=\"239.5\" y=\"-141.8\" font-family=\"Times,serif\" font-size=\"14.00\" fill=\"#000000\">grade_B &lt;= 0.5</text>\n<text text-anchor=\"middle\" x=\"239.5\" y=\"-126.8\" font-family=\"Times,serif\" font-size=\"14.00\" fill=\"#000000\">samples = 44233</text>\n<text text-anchor=\"middle\" x=\"239.5\" y=\"-111.8\" font-family=\"Times,serif\" font-size=\"14.00\" fill=\"#000000\">value = [17164, 27069]</text>\n<text text-anchor=\"middle\" x=\"239.5\" y=\"-96.8\" font-family=\"Times,serif\" font-size=\"14.00\" fill=\"#000000\">class = 1</text>\n</g>\n<!-- 0&#45;&gt;1 -->\n<g id=\"edge1\" class=\"edge\">\n<title>0&#45;&gt;1</title>\n<path fill=\"none\" stroke=\"#000000\" d=\"M302.0483,-192.9465C294.0194,-183.968 285.263,-174.1758 276.9133,-164.8385\"/>\n<polygon fill=\"#000000\" stroke=\"#000000\" points=\"279.295,-162.2512 270.0201,-157.13 274.077,-166.9174 279.295,-162.2512\"/>\n<text text-anchor=\"middle\" x=\"268.6263\" y=\"-178.3911\" font-family=\"Times,serif\" font-size=\"14.00\" fill=\"#000000\">True</text>\n</g>\n<!-- 4 -->\n<g id=\"node5\" class=\"node\">\n<title>4</title>\n<polygon fill=\"#5baee9\" stroke=\"#000000\" points=\"517.5,-157 335.5,-157 335.5,-89 517.5,-89 517.5,-157\"/>\n<text text-anchor=\"middle\" x=\"426.5\" y=\"-141.8\" font-family=\"Times,serif\" font-size=\"14.00\" fill=\"#000000\">total_rec_late_fee &lt;= 14.877</text>\n<text text-anchor=\"middle\" x=\"426.5\" y=\"-126.8\" font-family=\"Times,serif\" font-size=\"14.00\" fill=\"#000000\">samples = 8500</text>\n<text text-anchor=\"middle\" x=\"426.5\" y=\"-111.8\" font-family=\"Times,serif\" font-size=\"14.00\" fill=\"#000000\">value = [1241, 7259]</text>\n<text text-anchor=\"middle\" x=\"426.5\" y=\"-96.8\" font-family=\"Times,serif\" font-size=\"14.00\" fill=\"#000000\">class = 1</text>\n</g>\n<!-- 0&#45;&gt;4 -->\n<g id=\"edge4\" class=\"edge\">\n<title>0&#45;&gt;4</title>\n<path fill=\"none\" stroke=\"#000000\" d=\"M363.2791,-192.9465C371.4755,-183.8782 380.422,-173.9799 388.9375,-164.5585\"/>\n<polygon fill=\"#000000\" stroke=\"#000000\" points=\"391.5429,-166.8957 395.6517,-157.13 386.3497,-162.2019 391.5429,-166.8957\"/>\n<text text-anchor=\"middle\" x=\"396.9128\" y=\"-178.3982\" font-family=\"Times,serif\" font-size=\"14.00\" fill=\"#000000\">False</text>\n</g>\n<!-- 2 -->\n<g id=\"node3\" class=\"node\">\n<title>2</title>\n<polygon fill=\"#d6ebfa\" stroke=\"#000000\" points=\"155,-53 0,-53 0,0 155,0 155,-53\"/>\n<text text-anchor=\"middle\" x=\"77.5\" y=\"-37.8\" font-family=\"Times,serif\" font-size=\"14.00\" fill=\"#000000\">samples = 29067</text>\n<text text-anchor=\"middle\" x=\"77.5\" y=\"-22.8\" font-family=\"Times,serif\" font-size=\"14.00\" fill=\"#000000\">value = [12872, 16195]</text>\n<text text-anchor=\"middle\" x=\"77.5\" y=\"-7.8\" font-family=\"Times,serif\" font-size=\"14.00\" fill=\"#000000\">class = 1</text>\n</g>\n<!-- 1&#45;&gt;2 -->\n<g id=\"edge2\" class=\"edge\">\n<title>1&#45;&gt;2</title>\n<path fill=\"none\" stroke=\"#000000\" d=\"M182.3849,-88.9777C165.7059,-79.0424 147.5431,-68.2232 131.0906,-58.4228\"/>\n<polygon fill=\"#000000\" stroke=\"#000000\" points=\"132.529,-55.2058 122.1466,-53.095 128.9467,-61.2197 132.529,-55.2058\"/>\n</g>\n<!-- 3 -->\n<g id=\"node4\" class=\"node\">\n<title>3</title>\n<polygon fill=\"#87c4ef\" stroke=\"#000000\" points=\"320,-53 173,-53 173,0 320,0 320,-53\"/>\n<text text-anchor=\"middle\" x=\"246.5\" y=\"-37.8\" font-family=\"Times,serif\" font-size=\"14.00\" fill=\"#000000\">samples = 15166</text>\n<text text-anchor=\"middle\" x=\"246.5\" y=\"-22.8\" font-family=\"Times,serif\" font-size=\"14.00\" fill=\"#000000\">value = [4292, 10874]</text>\n<text text-anchor=\"middle\" x=\"246.5\" y=\"-7.8\" font-family=\"Times,serif\" font-size=\"14.00\" fill=\"#000000\">class = 1</text>\n</g>\n<!-- 1&#45;&gt;3 -->\n<g id=\"edge3\" class=\"edge\">\n<title>1&#45;&gt;3</title>\n<path fill=\"none\" stroke=\"#000000\" d=\"M241.9679,-88.9777C242.5724,-80.6449 243.222,-71.6903 243.8352,-63.2364\"/>\n<polygon fill=\"#000000\" stroke=\"#000000\" points=\"247.3269,-63.4755 244.5597,-53.2485 240.3453,-62.969 247.3269,-63.4755\"/>\n</g>\n<!-- 5 -->\n<g id=\"node6\" class=\"node\">\n<title>5</title>\n<polygon fill=\"#58ace9\" stroke=\"#000000\" points=\"490,-53 351,-53 351,0 490,0 490,-53\"/>\n<text text-anchor=\"middle\" x=\"420.5\" y=\"-37.8\" font-family=\"Times,serif\" font-size=\"14.00\" fill=\"#000000\">samples = 8313</text>\n<text text-anchor=\"middle\" x=\"420.5\" y=\"-22.8\" font-family=\"Times,serif\" font-size=\"14.00\" fill=\"#000000\">value = [1123, 7190]</text>\n<text text-anchor=\"middle\" x=\"420.5\" y=\"-7.8\" font-family=\"Times,serif\" font-size=\"14.00\" fill=\"#000000\">class = 1</text>\n</g>\n<!-- 4&#45;&gt;5 -->\n<g id=\"edge5\" class=\"edge\">\n<title>4&#45;&gt;5</title>\n<path fill=\"none\" stroke=\"#000000\" d=\"M424.3846,-88.9777C423.8665,-80.6449 423.3098,-71.6903 422.7841,-63.2364\"/>\n<polygon fill=\"#000000\" stroke=\"#000000\" points=\"426.277,-63.012 422.1631,-53.2485 419.2905,-63.4464 426.277,-63.012\"/>\n</g>\n<!-- 6 -->\n<g id=\"node7\" class=\"node\">\n<title>6</title>\n<polygon fill=\"#f4cbad\" stroke=\"#000000\" points=\"624.5,-53 508.5,-53 508.5,0 624.5,0 624.5,-53\"/>\n<text text-anchor=\"middle\" x=\"566.5\" y=\"-37.8\" font-family=\"Times,serif\" font-size=\"14.00\" fill=\"#000000\">samples = 187</text>\n<text text-anchor=\"middle\" x=\"566.5\" y=\"-22.8\" font-family=\"Times,serif\" font-size=\"14.00\" fill=\"#000000\">value = [118, 69]</text>\n<text text-anchor=\"middle\" x=\"566.5\" y=\"-7.8\" font-family=\"Times,serif\" font-size=\"14.00\" fill=\"#000000\">class = &#45;1</text>\n</g>\n<!-- 4&#45;&gt;6 -->\n<g id=\"edge6\" class=\"edge\">\n<title>4&#45;&gt;6</title>\n<path fill=\"none\" stroke=\"#000000\" d=\"M475.8588,-88.9777C489.9406,-79.2713 505.2463,-68.7213 519.202,-59.1018\"/>\n<polygon fill=\"#000000\" stroke=\"#000000\" points=\"521.4467,-61.8055 527.6939,-53.2485 517.474,-56.042 521.4467,-61.8055\"/>\n</g>\n</g>\n</svg>\n"
          },
          "metadata": {
            "tags": []
          }
        }
      ]
    },
    {
      "cell_type": "markdown",
      "metadata": {
        "id": "2UZNs44CF3ML",
        "colab_type": "text"
      },
      "source": [
        "Each node in the tree shows\n",
        "* If it's an internal node, show what feature and value it splits on\n",
        "* `samples`: The number of samples at that node\n",
        "* `value`: The counts for each label at that node\n",
        "* `class`: The majority class at that node\n",
        "* The color showing how confident it is in the predictions at that node (blue is class +1, orange is class -1, white is in between). This corresponds to the probability of it predicting a certain label.\n",
        "\n",
        "## Making Predictions\n",
        "Now that we have trained the model, let's look at how it makes predictions on a couple of examples it hasn't seen before from the validation dataset."
      ]
    },
    {
      "cell_type": "code",
      "metadata": {
        "id": "U6Diga-kF3MN",
        "colab_type": "code",
        "colab": {}
      },
      "source": [
        "sample_validation_data_risky = validation_data[validation_data[target] == -1][0:2]\n",
        "sample_validation_data_safe = validation_data[validation_data[target] == +1][0:2]\n",
        "sample_validation_data = sample_validation_data_safe.append(sample_validation_data_risky)"
      ],
      "execution_count": null,
      "outputs": []
    },
    {
      "cell_type": "markdown",
      "metadata": {
        "id": "renx_zrAF3MP",
        "colab_type": "text"
      },
      "source": [
        "Use the `decision_tree_model` to make predictions on the examples in `sample_validation_data` using its `predict` method. Calculate which percentage of those examples it classified correctly. You will likely want to also print the predictions themselves to help with the next problem."
      ]
    },
    {
      "cell_type": "code",
      "metadata": {
        "id": "nUrUtOIeF3MQ",
        "colab_type": "code",
        "colab": {
          "base_uri": "https://localhost:8080/",
          "height": 133
        },
        "outputId": "ff26604d-88a7-412d-e8b0-48a46b3d362d"
      },
      "source": [
        "#TODO \n",
        "pred = decision_tree_model.predict(sample_validation_data[features])\n",
        "print(pred)\n",
        "print(sample_validation_data[target])\n",
        "i = 0\n",
        "count = 0\n",
        "for val in sample_validation_data[target]:\n",
        "  if val == pred[i]:\n",
        "    count += 1\n",
        "  i = i + 1 \n",
        "print(count/len(sample_validation_data[target]))"
      ],
      "execution_count": null,
      "outputs": [
        {
          "output_type": "stream",
          "text": [
            "[ 1  1 -1 -1]\n",
            "42463    1\n",
            "29448    1\n",
            "7952    -1\n",
            "16927   -1\n",
            "Name: safe_loans, dtype: int64\n",
            "1.0\n"
          ],
          "name": "stdout"
        }
      ]
    },
    {
      "cell_type": "markdown",
      "metadata": {
        "id": "m2fPbE6IF3MT",
        "colab_type": "text"
      },
      "source": [
        "<div class=\"alert alert-block alert-success\">\n",
        "    <h4>Question 3</h4> \n",
        "    <p>\n",
        "        What percentage of the predictions were correct for <code>sample_validation_data</code>?\n",
        "    </p>\n",
        "    <p>\n",
        "        <b>Gradescope:</b> Select one choice.\n",
        "    </p>\n",
        "    <ul>\n",
        "        <li>0%</li>\n",
        "        <li>25%</li>\n",
        "        <li>50%</li>\n",
        "        <li>75%</li>\n",
        "        <li>100%</li>\n",
        "    </ul>\n",
        "</div>"
      ]
    },
    {
      "cell_type": "markdown",
      "metadata": {
        "id": "ar0mbHDUF3MU",
        "colab_type": "text"
      },
      "source": [
        "Next, we will have the `decision_tree_model` make predictions and tell us its confidence by using the `predict_proba` method instead that returns the probabilities for each label. \n",
        "\n",
        "In the cell below, make predictions with probabilities and identify which load is considered the most likely to be safe.\n",
        "\n",
        "*Hint:* The probabilities returned will be an array of arrays. To figure out which entry corresponds to \"safe\", you should look the predictions from the previous question.\n"
      ]
    },
    {
      "cell_type": "code",
      "metadata": {
        "id": "BH_8ArdapiTr",
        "colab_type": "code",
        "colab": {
          "base_uri": "https://localhost:8080/",
          "height": 83
        },
        "outputId": "c81ce403-f482-45ae-df7e-98344a80bbb8"
      },
      "source": [
        "prob = decision_tree_model.predict_proba(sample_validation_data[features])\n",
        "print(prob)\n"
      ],
      "execution_count": null,
      "outputs": [
        {
          "output_type": "stream",
          "text": [
            "[[0.04524181 0.95475819]\n",
            " [0.30762676 0.69237324]\n",
            " [0.90540541 0.09459459]\n",
            " [0.60175055 0.39824945]]\n"
          ],
          "name": "stdout"
        }
      ]
    },
    {
      "cell_type": "markdown",
      "metadata": {
        "id": "VycxxVnHF3MX",
        "colab_type": "text"
      },
      "source": [
        "<div class=\"alert alert-block alert-success\">\n",
        "    <h4>Question 4</h4> \n",
        "    <p>\n",
        "        Looking at the output from <code>predict_proba</code>, what is the label predicted for loans with probability &gt; 0.5 in the first column?\n",
        "    </p>\n",
        "    <p>\n",
        "        <b>Gradescope:</b> Select one choice.\n",
        "    </p>\n",
        "    <ul>\n",
        "        <li>-1</li>\n",
        "        <li>0</li>\n",
        "        <li>1</li>\n",
        "    </ul>\n",
        "</div>\n",
        "<div class=\"alert alert-block alert-success\">\n",
        "    <h4>Question 5</h4> \n",
        "    <p>\n",
        "        Which loan is the most likely to be classified as safe?\n",
        "    </p>\n",
        "    <p>\n",
        "        <b>Gradescope:</b> Select one choice.\n",
        "    </p>\n",
        "    <ul>\n",
        "        <li>Loan 0</li>\n",
        "        <li>Loan 1</li>\n",
        "        <li>Loan 2</li>\n",
        "        <li>Loan 3</li>\n",
        "    </ul>\n",
        "</div>"
      ]
    },
    {
      "cell_type": "markdown",
      "metadata": {
        "id": "s7JJgidLF3MX",
        "colab_type": "text"
      },
      "source": [
        "Now let's turn to the `small_tree_model` and have it make probability predictions for `sample_validation_data`. "
      ]
    },
    {
      "cell_type": "markdown",
      "metadata": {
        "id": "KyUxK70gF3Ma",
        "colab_type": "text"
      },
      "source": [
        "## Evaluating Accuracy of Model\n",
        "\n",
        "Recall that the accuracy of a classifier is \n",
        "\n",
        "$$accuracy = \\frac{\\text{# correctly classified examples}}{\\text{# total examples}}$$\n",
        "\n",
        "For `sklearn`, we generally use `sklearn.metrics.accuracy_score` (documentation [here](https://scikit-learn.org/stable/modules/generated/sklearn.metrics.accuracy_score.html)) to instead of having to write out the formula itself.\n",
        "\n",
        "First, calculate the training accuracy and the validation accuracy for the `small_tree_model`."
      ]
    },
    {
      "cell_type": "code",
      "metadata": {
        "id": "WyQj-fNfF3Mb",
        "colab_type": "code",
        "colab": {
          "base_uri": "https://localhost:8080/",
          "height": 33
        },
        "outputId": "a34da445-c8dc-45c4-ad00-e6c8857353fd"
      },
      "source": [
        "# TODO\n",
        "from sklearn.metrics import accuracy_score\n",
        "y_true = train_data[target]\n",
        "y_pred = small_tree_model.predict(train_data[features])\n",
        "accuracy_score(y_true, y_pred)\n",
        "# 0.6519067756433353"
      ],
      "execution_count": null,
      "outputs": [
        {
          "output_type": "execute_result",
          "data": {
            "text/plain": [
              "0.6519067756433353"
            ]
          },
          "metadata": {
            "tags": []
          },
          "execution_count": 60
        }
      ]
    },
    {
      "cell_type": "code",
      "metadata": {
        "id": "hco1yB_JzI2O",
        "colab_type": "code",
        "colab": {
          "base_uri": "https://localhost:8080/",
          "height": 33
        },
        "outputId": "15bf9e98-c670-4c73-fd22-1ceadc430940"
      },
      "source": [
        "y_true = validation_data[target]\n",
        "y_pred = small_tree_model.predict(validation_data[features])\n",
        "accuracy_score(y_true, y_pred)\n",
        "# 0.640625"
      ],
      "execution_count": null,
      "outputs": [
        {
          "output_type": "execute_result",
          "data": {
            "text/plain": [
              "0.640625"
            ]
          },
          "metadata": {
            "tags": []
          },
          "execution_count": 63
        }
      ]
    },
    {
      "cell_type": "markdown",
      "metadata": {
        "id": "gwWnFlGeF3Mc",
        "colab_type": "text"
      },
      "source": [
        "<div class=\"alert alert-block alert-success\">\n",
        "    <h4>Question 6</h4> \n",
        "    <p>\n",
        "        What is the accuracy of the <code>small_tree_model</code> on the <b>validation</b> data?\n",
        "    </p>\n",
        "    <p>\n",
        "        <b>Gradescope:</b> Enter your answer as a number between 0 and 1, rounded to the nearest 0.01.\n",
        "    </p>\n",
        "</div>\n",
        "\n",
        "In the cell below, compute the train and validation accuracy for the `decision_tree_model`."
      ]
    },
    {
      "cell_type": "code",
      "metadata": {
        "id": "h1liQ46iF3Md",
        "colab_type": "code",
        "colab": {
          "base_uri": "https://localhost:8080/",
          "height": 33
        },
        "outputId": "a7c1ad67-2ee1-42df-c57b-87f15b06ca2a"
      },
      "source": [
        "# TODO\n",
        "y_true = validation_data[target]\n",
        "y_pred = decision_tree_model.predict(validation_data[features])\n",
        "accuracy_score(y_true, y_pred)\n",
        "# 0.6623179611650486"
      ],
      "execution_count": null,
      "outputs": [
        {
          "output_type": "execute_result",
          "data": {
            "text/plain": [
              "0.6623179611650486"
            ]
          },
          "metadata": {
            "tags": []
          },
          "execution_count": 64
        }
      ]
    },
    {
      "cell_type": "markdown",
      "metadata": {
        "id": "ZrGeoZaGF3Me",
        "colab_type": "text"
      },
      "source": [
        "<div class=\"alert alert-block alert-success\">\n",
        "    <h4>Question 7</h4> \n",
        "    <p>\n",
        "        What is the accuracy of the <code>decision_tree_model</code> on the <b>validation</b> data?\n",
        "    </p>\n",
        "    <p>\n",
        "        <b>Gradescope:</b> Enter your answer as a number between 0 and 1, rounded to the nearest 0.01.\n",
        "    </p>\n",
        "</div>\n",
        "\n",
        "Next, you should train another decision tree model with `max_depth=10` (remember to also pass in `random_state=1`!). This will make a much deeper tree. \n",
        "\n",
        "In the cell below, train the model on the training data and report its training and validation accuracy. Save the model in a variable called `big_tree_model`. Answer the questions below."
      ]
    },
    {
      "cell_type": "code",
      "metadata": {
        "id": "K_1ipF6nF3Me",
        "colab_type": "code",
        "colab": {
          "base_uri": "https://localhost:8080/",
          "height": 117
        },
        "outputId": "eb23add0-12fd-445e-c7b7-3d6776f8b40e"
      },
      "source": [
        "# TODO train a model with max_depth=10\n",
        "big_tree_model = DecisionTreeClassifier(max_depth = 10, random_state = 1)\n",
        "big_tree_model.fit(train_data[features], train_data[target])"
      ],
      "execution_count": null,
      "outputs": [
        {
          "output_type": "execute_result",
          "data": {
            "text/plain": [
              "DecisionTreeClassifier(ccp_alpha=0.0, class_weight=None, criterion='gini',\n",
              "                       max_depth=10, max_features=None, max_leaf_nodes=None,\n",
              "                       min_impurity_decrease=0.0, min_impurity_split=None,\n",
              "                       min_samples_leaf=1, min_samples_split=2,\n",
              "                       min_weight_fraction_leaf=0.0, presort='deprecated',\n",
              "                       random_state=1, splitter='best')"
            ]
          },
          "metadata": {
            "tags": []
          },
          "execution_count": 65
        }
      ]
    },
    {
      "cell_type": "code",
      "metadata": {
        "id": "U-3zqvGZF3Mg",
        "colab_type": "code",
        "colab": {
          "base_uri": "https://localhost:8080/",
          "height": 33
        },
        "outputId": "d7574f8e-6836-4ec2-fc3b-f28747aa99a9"
      },
      "source": [
        "# TODO assess the training and validation accuracy of that model\n",
        "y_train_true = train_data[target]\n",
        "y_train_pred = big_tree_model.predict(train_data[features])\n",
        "accuracy_score(y_train_true, y_train_pred)\n",
        "# 0.7063887888039747"
      ],
      "execution_count": null,
      "outputs": [
        {
          "output_type": "execute_result",
          "data": {
            "text/plain": [
              "0.7063887888039747"
            ]
          },
          "metadata": {
            "tags": []
          },
          "execution_count": 66
        }
      ]
    },
    {
      "cell_type": "code",
      "metadata": {
        "id": "O8yfx5eR0RqR",
        "colab_type": "code",
        "colab": {
          "base_uri": "https://localhost:8080/",
          "height": 33
        },
        "outputId": "433289ef-22e0-4fb1-e5c4-e6f78f5bdc6a"
      },
      "source": [
        "y_val_true = validation_data[target]\n",
        "y_val_pred = big_tree_model.predict(validation_data[features])\n",
        "accuracy_score(y_val_true, y_val_pred)\n",
        "# 0.6612560679611651\n"
      ],
      "execution_count": null,
      "outputs": [
        {
          "output_type": "execute_result",
          "data": {
            "text/plain": [
              "0.6612560679611651"
            ]
          },
          "metadata": {
            "tags": []
          },
          "execution_count": 69
        }
      ]
    },
    {
      "cell_type": "markdown",
      "metadata": {
        "id": "Zfcr3APxF3Mi",
        "colab_type": "text"
      },
      "source": [
        "<div class=\"alert alert-block alert-success\">\n",
        "    <h4>Question 8</h4> \n",
        "    <p>\n",
        "        How does the validation accuracy of the <code>big_tree_model</code> compare to the accuracy of the <code>decision_tree_model</code>? \n",
        "    </p>\n",
        "    <p>\n",
        "        <b>Gradescope:</b> Select one option.\n",
        "    </p>\n",
        "    <ul>\n",
        "        <li>It is more accurate.</li>\n",
        "        <li>It is equally accurate.</li>\n",
        "        <li>It is less accurate.</li>\n",
        "    </ul>\n",
        "</div>\n",
        "\n",
        "<div class=\"alert alert-block alert-success\">\n",
        "    <h4>Question 9</h4> \n",
        "    <p>\n",
        "        What might this, along with the difference in training set accuracy, suggest about whether or not the <code>big_tree_model</code> is overfitting? \n",
        "    </p>\n",
        "    <p>\n",
        "        <b>Gradescope:</b> Select <b>all</b> options that apply.\n",
        "    </p>\n",
        "    <ul>\n",
        "        <li>The big model is underfit</li>\n",
        "        <li>The big model is overfit</li>\n",
        "        <li>The big model is not deep enough to generalize well.</li>\n",
        "        <li>The big model is too deep.</li>\n",
        "        <li>The big model will likely not generalize to unseen data as well as <code>decision_tree_model</code>.</li>\n",
        "    </ul>\n",
        "</div>\n",
        "\n",
        "---\n",
        "# Finding Right Fit\n",
        "As we saw in the previous example, if we aren't careful with how we set `max_depth`, our model can potentially overfit or underfit. \n",
        "\n",
        "A common way of limiting the depth of the tree is to consider two early stopping rules:\n",
        "* When when the tree reaches a maximum depth (`max_depth`)\n",
        "* When the leaf nodes have too few data samples in them (`min_samples_leaf`)\n",
        "\n",
        "Instead of writing the standard hyper-parameter tuning loop you've written before (i.e. loop over possible choices of something like $\\lambda$, train on the training data with that value of $\\lambda$, and validate using a validation set), we will use a `sklearn` module that does this for us using k-fold cross validation.\n",
        "\n",
        "The reason we want to use a library for this task is it gets more complicated when we want to find the best combination of both `max_depth` and `min_samples_leaf`. The code becomes quite tedious to write since your loop would need to try all pairs of values for `max_depth` and `min_samples_leaf` and have some way of storing the results to compare.\n",
        "\n",
        "Instead, we use use `sklearn`'s `GridSearchCV` (documentation [here](https://scikit-learn.org/stable/modules/generated/sklearn.model_selection.GridSearchCV.html#sklearn.model_selection.GridSearchCV)) to do all this book-keeping for us! You should look at the documentation on that page (there is a good example underneath the method reference) to solve the following step.\n",
        "\n",
        "Use `GridSearchCV` to try all combinations of \n",
        "* `min_samples_leaf`: [1, 10, 50, 100, 200, 300]\n",
        "* `max_depth`: [1, 5, 10, 15, 20]\n",
        "\n",
        "Some implementation details:\n",
        "* For our code later, save the `GridSearchCV` object in a variable called `search` and the dictionary specifying parameters in a variable called `hyperparameters`.\n",
        "* You should use 6-fold valudation `cv=6` and make sure it records the training accuracies by using `return_train_score=True`.\n",
        "* Print the result using the `best_params_` property on the `GridSearchCV` object. \n",
        "* This might take a minute or two to run! "
      ]
    },
    {
      "cell_type": "code",
      "metadata": {
        "id": "iZAjreSxF3Mi",
        "colab_type": "code",
        "colab": {
          "base_uri": "https://localhost:8080/",
          "height": 33
        },
        "outputId": "c0856cd5-da0f-4666-9ec5-ea623780ae95"
      },
      "source": [
        "from sklearn.model_selection import GridSearchCV\n",
        "parameters = {'min_samples_leaf':[1, 10, 50, 100, 200, 300], 'max_depth':[1, 5, 10, 15, 20]}\n",
        "search = GridSearchCV(DecisionTreeClassifier(), param_grid = parameters, cv = 6, return_train_score = True)\n",
        "search.fit(train_data[features], train_data[target])\n",
        "print(search.best_params_)\n",
        "# {'max_depth': 10, 'min_samples_leaf': 300}"
      ],
      "execution_count": null,
      "outputs": [
        {
          "output_type": "stream",
          "text": [
            "{'max_depth': 10, 'min_samples_leaf': 300}\n"
          ],
          "name": "stdout"
        }
      ]
    },
    {
      "cell_type": "code",
      "metadata": {
        "id": "k3_g8cpbBTHT",
        "colab_type": "code",
        "colab": {}
      },
      "source": [
        "hyperparameters = parameters"
      ],
      "execution_count": null,
      "outputs": []
    },
    {
      "cell_type": "markdown",
      "metadata": {
        "id": "BhbV2yHvF3Mk",
        "colab_type": "text"
      },
      "source": [
        "*italicized text*<div class=\"alert alert-block alert-success\">\n",
        "    <h4>Question 10</h4> \n",
        "    <p>\n",
        "        Which settings of the hyper-parameters were chosen in the grid search?\n",
        "    </p>\n",
        "    <p>\n",
        "        <b>Gradescope:</b> Select the option that applies for each hyper-parameter.\n",
        "    </p>\n",
        "    <code>min_samples_leaf</code>\n",
        "    <ul>\n",
        "        <li>1</li>\n",
        "        <li>10</li>\n",
        "        <li>50</li>\n",
        "        <li>100</li>\n",
        "        <li>200</li>\n",
        "        <li>300</li>\n",
        "    </ul>\n",
        "    <code>max_depth</code>\n",
        "    <ul>\n",
        "        <li>1</li>\n",
        "        <li>5</li>\n",
        "        <li>10</li>\n",
        "        <li>15</li>\n",
        "        <li>20</li>\n",
        "    </ul>\n",
        "</div>"
      ]
    },
    {
      "cell_type": "markdown",
      "metadata": {
        "id": "yu8l0Gl1F3Mk",
        "colab_type": "text"
      },
      "source": [
        "We can also plot the train and validation accuracy of the models for different settings of the hyper-parameters. The plot will be in 3D since there are 2 inputs for each model specification."
      ]
    },
    {
      "cell_type": "code",
      "metadata": {
        "id": "-RZ-jyC2F3Ml",
        "colab_type": "code",
        "colab": {
          "base_uri": "https://localhost:8080/",
          "height": 411
        },
        "outputId": "34e9c1f4-da26-48e8-e72e-6e8338e1877a"
      },
      "source": [
        "def plot_scores(ax, title, search, hyperparameters, score_key):\n",
        "    cv_results = search.cv_results_\n",
        "    scores = cv_results[score_key]\n",
        "    scores = scores.reshape((len(hyperparameters['max_depth']), len(hyperparameters['min_samples_leaf'])))\n",
        "    max_depths = cv_results['param_max_depth'].reshape(scores.shape).data.astype(int)\n",
        "    min_samples_leafs = cv_results['param_min_samples_leaf'].reshape(scores.shape).data.astype(int)\n",
        "    \n",
        "    ax.plot_wireframe(max_depths, min_samples_leafs, scores)\n",
        "    ax.view_init(20, 220)\n",
        "    ax.set_xlabel('Maximum Depth')\n",
        "    ax.set_ylabel('Minimum Samples Leaf')\n",
        "    ax.set_zlabel('Accuracy')\n",
        "    ax.set_title(title)\n",
        "\n",
        "\n",
        "fig = plt.figure(figsize=(15,7))\n",
        "ax1 = fig.add_subplot(121, projection='3d')\n",
        "ax2 = fig.add_subplot(122, projection='3d')\n",
        "\n",
        "plot_scores(ax1, 'Train Accuracy', search, hyperparameters, 'mean_train_score')\n",
        "plot_scores(ax2, 'Validation Accuracy', search, hyperparameters, 'mean_test_score')"
      ],
      "execution_count": null,
      "outputs": [
        {
          "output_type": "display_data",
          "data": {
            "image/png": "[encoded data removed]",
            "text/plain": [
              "<Figure size 1080x504 with 2 Axes>"
            ]
          },
          "metadata": {
            "tags": []
          }
        }
      ]
    },
    {
      "cell_type": "markdown",
      "metadata": {
        "id": "faOnxBnDF3Mn",
        "colab_type": "text"
      },
      "source": [
        "There is no question for this part, but make sure you understand why we see the trends we do here. Make sure you can answer the following questions:\n",
        "* Why does the train accuracy spike up in the left graph, but go downward on the right graph?\n",
        "* Which graph should we look at to pick the model that will hopefully do best in the future?\n",
        "* Why is the spike in training accuracy only for the point with `max_depth=20` and `min_samples_leaf=1`? Why isn't the training accuracy very high for the other settings of `min_samples_leaf` even when `max_depth=20`?"
      ]
    },
    {
      "cell_type": "markdown",
      "metadata": {
        "id": "CXYs0E_AF3Mo",
        "colab_type": "text"
      },
      "source": [
        "--- \n",
        "# Random Forest\n",
        "In class, we talked about the random forest ensemble. To show us empirically that such a simple idea of adding multiple classifiers works in practice, in this section we are going to implement a type of random forest and analyze its performance. \n",
        "\n",
        "Below, we have written the starter code for a class called `RandomForest416` that has methods similar to most sklearn models (it is a bit simplified version which does not change the features for each tree). You only have to implement the `fit` method, all other parts are implemented for you. However, you should understand how the other code works to help you identify what you need to do.\n",
        "\n",
        "The `fit` method should train each tree on a different random sample of the examples in the given dataset with $n$ examples. Each random sample should select examples uniformly at random (with replacement) to make a new, modified, dataset of $n$ examples for that tree. To do this, you will want to use `np.random.randint` (documentation [here](https://docs.scipy.org/doc/numpy/reference/generated/numpy.random.randint.html#numpy.random.randint)) to generate a random sequence of indices, and then use the `iloc` property on the given `pandas` objects to select those rows.  (If classes are unfamiliar to you can implement this portion without them by using functions and storing the models in a list).\n"
      ]
    },
    {
      "cell_type": "code",
      "metadata": {
        "id": "j0ZxGvPKF3Mo",
        "colab_type": "code",
        "colab": {}
      },
      "source": [
        "import scipy.stats \n",
        "\n",
        "class RandomForest416: \n",
        "    #\"\"\"\n",
        "    #This class implements the common sklearn model interface (has a fit and predict function).\n",
        "    \n",
        "    #A random forest is a collection of decision trees that are trained on random subsets of the \n",
        "    #dataset. When predicting the value for an example, takes a majority vote from the trees.\n",
        "    #\"\"\"\n",
        "    \n",
        "    def __init__(self, num_trees, max_depth=None):\n",
        "        #\"\"\"\n",
        "        #Constructs a RandomForest416 that uses the given numbner of trees, each with a \n",
        "        #max depth of max_depth.\n",
        "        #\"\"\"\n",
        "        # the self._trees object is a list of models, you can use it in the next function to loop over\n",
        "        # and fit the models one by one\n",
        "        self._trees = [\n",
        "            DecisionTreeClassifier(max_depth=max_depth) \n",
        "            for i in range(num_trees)\n",
        "        ]\n",
        "        \n",
        "    def fit(self, X, y):\n",
        "        #\"\"\"\n",
        "        #Takes an input dataset X and a series of targets y and trains the RandomForest416.\n",
        "        \n",
        "        #Each tree will be trained on a random sample of the data that samples the examples\n",
        "        #uniformly at random (with replacement). Each random dataset will have the same number\n",
        "        #of examples as the original dataset, but some examples may be missing or appear more \n",
        "        #than once due to the random sampling with replacement.\n",
        "        #\"\"\"    \n",
        "        # TODO implement this method!\n",
        "        for i in range(len(self._trees)):\n",
        "          num = np.random.randint(low = 0, high = X.shape[0], size = X.shape[0])\n",
        "          xx = X.iloc[num,]\n",
        "          yy = y.iloc[num]\n",
        "          self._trees[i].fit(xx, yy)    \n",
        "            \n",
        "    def predict(self, X):\n",
        "        \"\"\"\n",
        "        Takes an input dataset X and returns the predictions for each example in X.\n",
        "        \"\"\"\n",
        "        \n",
        "        # Builds up a 2d array with n rows and T columns\n",
        "        # where n is the number of points to classify and T is the number of trees\n",
        "        predictions = np.zeros((len(X), len(self._trees)))\n",
        "        for i, tree in enumerate(self._trees):\n",
        "            # Make predictions using the current tree\n",
        "            preds = tree.predict(X)\n",
        "            \n",
        "            # Store those predictions in ith column of the 2d array\n",
        "            predictions[:, i] = preds\n",
        "            \n",
        "        # For each row of predictions, find the most frequent label (axis=1 means across columns)\n",
        "        return scipy.stats.mode(predictions, axis=1)[0]"
      ],
      "execution_count": null,
      "outputs": []
    },
    {
      "cell_type": "markdown",
      "metadata": {
        "id": "ncGxnVzuF3Mp",
        "colab_type": "text"
      },
      "source": [
        "You can test out your implemenation by running the following cell:"
      ]
    },
    {
      "cell_type": "code",
      "metadata": {
        "id": "kUNg31-SF3Mq",
        "colab_type": "code",
        "colab": {
          "base_uri": "https://localhost:8080/",
          "height": 83
        },
        "outputId": "43eee85d-6486-4b32-e773-9e59853379a4"
      },
      "source": [
        "rf = RandomForest416(2, max_depth=1)\n",
        "rf.fit(sample_validation_data[features], sample_validation_data[target])\n",
        "rf.predict(sample_validation_data[features])"
      ],
      "execution_count": null,
      "outputs": [
        {
          "output_type": "execute_result",
          "data": {
            "text/plain": [
              "array([[-1.],\n",
              "       [-1.],\n",
              "       [-1.],\n",
              "       [-1.]])"
            ]
          },
          "metadata": {
            "tags": []
          },
          "execution_count": 89
        }
      ]
    },
    {
      "cell_type": "markdown",
      "metadata": {
        "id": "GljrLHrOF3Ms",
        "colab_type": "text"
      },
      "source": [
        "We can then compare how `sklearn`'s `DecisionTreeClassifier` to our `RandomForest416` to see how its training and validation accuracies compare as a function of the depth of the trees. The code below trains each model with a different max depth and then plots their accuracies. It might take a minute or two to run, but it also prints the progress by showing the current depth it is on (it will range from 1 to 25)."
      ]
    },
    {
      "cell_type": "code",
      "metadata": {
        "id": "S_uxMNLMF3Mt",
        "colab_type": "code",
        "colab": {
          "base_uri": "https://localhost:8080/",
          "height": 572
        },
        "outputId": "03e8ab65-6c33-4dd3-c689-3e6792c52b20"
      },
      "source": [
        "# First calculate the accuracies for each depth\n",
        "depths = list(range(1, 26, 2))\n",
        "dt_accuracies = []\n",
        "rf_accuracies = []\n",
        "\n",
        "for i in depths:\n",
        "    print(f'Depth {i}')\n",
        "    tree = DecisionTreeClassifier(max_depth=i)\n",
        "    tree.fit(train_data[features], train_data[target])\n",
        "\n",
        "    dt_accuracies.append((\n",
        "        accuracy_score(tree.predict(train_data[features]), train_data[target]),\n",
        "        accuracy_score(tree.predict(validation_data[features]), validation_data[target])\n",
        "    ))\n",
        "    \n",
        "    \n",
        "    rf = RandomForest416(15, max_depth=i)\n",
        "    rf.fit(train_data[features], train_data[target])\n",
        "    \n",
        "    rf_accuracies.append((     \n",
        "        accuracy_score(rf.predict(train_data[features]), train_data[target]),\n",
        "        accuracy_score(rf.predict(validation_data[features]), validation_data[target])\n",
        "    ))\n",
        "    \n",
        "# Then plot them \n",
        "fig, axs = plt.subplots(1, 2, figsize=(15, 5))\n",
        "\n",
        "axs[0].plot(depths, [acc[0] for acc in dt_accuracies], label='DecisionTree')\n",
        "axs[0].plot(depths, [acc[0] for acc in rf_accuracies], label='RandomForest416')\n",
        "\n",
        "axs[1].plot(depths, [acc[1] for acc in dt_accuracies], label='DecisionTree')\n",
        "axs[1].plot(depths, [acc[1] for acc in rf_accuracies], label='RandomForest416')\n",
        "\n",
        "# Customize plots\n",
        "axs[0].set_title('Train Data')\n",
        "axs[1].set_title('Validation Data')\n",
        "for ax in axs:\n",
        "    ax.legend()\n",
        "    ax.set_xlabel('Max Depth')\n",
        "    ax.set_ylabel('Accuracy')"
      ],
      "execution_count": null,
      "outputs": [
        {
          "output_type": "stream",
          "text": [
            "Depth 1\n",
            "Depth 3\n",
            "Depth 5\n",
            "Depth 7\n",
            "Depth 9\n",
            "Depth 11\n",
            "Depth 13\n",
            "Depth 15\n",
            "Depth 17\n",
            "Depth 19\n",
            "Depth 21\n",
            "Depth 23\n",
            "Depth 25\n"
          ],
          "name": "stdout"
        },
        {
          "output_type": "display_data",
          "data": {
            "image/png": "[encoded data removed]",
            "text/plain": [
              "<Figure size 1080x360 with 2 Axes>"
            ]
          },
          "metadata": {
            "tags": []
          }
        }
      ]
    },
    {
      "cell_type": "markdown",
      "metadata": {
        "id": "6wFGGlpzF3Mu",
        "colab_type": "text"
      },
      "source": [
        "<div class=\"alert alert-block alert-success\">\n",
        "    <h4>Question 11</h4> \n",
        "    <p>\n",
        "        Which model, when using max depth of 25, would we expect to perform the best in the future?\n",
        "    </p>\n",
        "    <p>\n",
        "        <b>Gradescope:</b> Select one option.\n",
        "    </p>\n",
        "    <ul>\n",
        "        <li><code>DecistionTreeClassifier</code></li>\n",
        "        <li><code>RandomForest416</code></li>\n",
        "    </ul>\n",
        "</div>"
      ]
    }
  ]
}