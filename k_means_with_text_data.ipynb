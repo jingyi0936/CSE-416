{
  "nbformat": 4,
  "nbformat_minor": 0,
  "metadata": {
    "colab": {
      "name": "k_means_with_text_data.ipynb",
      "provenance": [],
      "authorship_tag": "ABX9TyPWcIrW10XSYykDbAtHxEuT",
      "include_colab_link": true
    },
    "kernelspec": {
      "name": "python3",
      "display_name": "Python 3"
    }
  },
  "cells": [
    {
      "cell_type": "markdown",
      "metadata": {
        "id": "view-in-github",
        "colab_type": "text"
      },
      "source": [
        "<a href=\"https://colab.research.google.com/github/jingyi0936/CSE-416/blob/master/k_means_with_text_data.ipynb\" target=\"_parent\"><img src=\"https://colab.research.google.com/assets/colab-badge.svg\" alt=\"Open In Colab\"/></a>"
      ]
    },
    {
      "cell_type": "code",
      "metadata": {
        "id": "-6CMOv72b3Ef",
        "colab_type": "code",
        "colab": {}
      },
      "source": [
        "import requests\n",
        "\n",
        "def save_file(url, file_name):\n",
        "    r = requests.get(url)\n",
        "    with open(file_name, 'wb') as f:\n",
        "        f.write(r.content)\n",
        "    \n",
        "save_file('https://homes.cs.washington.edu/~hschafer/cse416/a6/people_wiki.csv',\n",
        "          'people_wiki.csv')"
      ],
      "execution_count": null,
      "outputs": []
    },
    {
      "cell_type": "code",
      "metadata": {
        "id": "Mqcddj9Cs92y",
        "colab_type": "code",
        "colab": {}
      },
      "source": [
        "import pandas as pd\n",
        "import matplotlib.pyplot as plt\n",
        "import numpy as np\n",
        "import sys\n",
        "import os\n",
        "from scipy.sparse import csr_matrix\n",
        "from sklearn.model_selection import train_test_split\n",
        "%matplotlib inline"
      ],
      "execution_count": null,
      "outputs": []
    },
    {
      "cell_type": "code",
      "metadata": {
        "id": "iTB-9sIZs_ly",
        "colab_type": "code",
        "colab": {
          "base_uri": "https://localhost:8080/",
          "height": 197
        },
        "outputId": "c3b7a67d-cb62-4e4d-8a15-9cdceb775199"
      },
      "source": [
        "wiki = pd.read_csv('people_wiki.csv')\n",
        "wiki = wiki.sample(frac=0.1, random_state=0) # Using 10% of the data as to reduce compute time\n",
        "wiki.head()"
      ],
      "execution_count": null,
      "outputs": [
        {
          "output_type": "execute_result",
          "data": {
            "text/html": [
              "<div>\n",
              "<style scoped>\n",
              "    .dataframe tbody tr th:only-of-type {\n",
              "        vertical-align: middle;\n",
              "    }\n",
              "\n",
              "    .dataframe tbody tr th {\n",
              "        vertical-align: top;\n",
              "    }\n",
              "\n",
              "    .dataframe thead th {\n",
              "        text-align: right;\n",
              "    }\n",
              "</style>\n",
              "<table border=\"1\" class=\"dataframe\">\n",
              "  <thead>\n",
              "    <tr style=\"text-align: right;\">\n",
              "      <th></th>\n",
              "      <th>URI</th>\n",
              "      <th>name</th>\n",
              "      <th>text</th>\n",
              "    </tr>\n",
              "  </thead>\n",
              "  <tbody>\n",
              "    <tr>\n",
              "      <th>50034</th>\n",
              "      <td>&lt;http://dbpedia.org/resource/Mauno_J%C3%A4rvel...</td>\n",
              "      <td>Mauno J%C3%A4rvel%C3%A4</td>\n",
              "      <td>mauno jrvel born 25 november 1949 in kaustinen...</td>\n",
              "    </tr>\n",
              "    <tr>\n",
              "      <th>39362</th>\n",
              "      <td>&lt;http://dbpedia.org/resource/David_W._Jourdan&gt;</td>\n",
              "      <td>David W. Jourdan</td>\n",
              "      <td>david walter jourdan born december 5 1954 is a...</td>\n",
              "    </tr>\n",
              "    <tr>\n",
              "      <th>20786</th>\n",
              "      <td>&lt;http://dbpedia.org/resource/Patrick_Roach&gt;</td>\n",
              "      <td>Patrick Roach</td>\n",
              "      <td>patrick roach born march 4 1969 is a canadian ...</td>\n",
              "    </tr>\n",
              "    <tr>\n",
              "      <th>26367</th>\n",
              "      <td>&lt;http://dbpedia.org/resource/Louis_Sauer&gt;</td>\n",
              "      <td>Louis Sauer</td>\n",
              "      <td>louis lou sauer aka louis edward sauer born 19...</td>\n",
              "    </tr>\n",
              "    <tr>\n",
              "      <th>14855</th>\n",
              "      <td>&lt;http://dbpedia.org/resource/Marty_Keough&gt;</td>\n",
              "      <td>Marty Keough</td>\n",
              "      <td>richard martin keough born april 14 1934 in oa...</td>\n",
              "    </tr>\n",
              "  </tbody>\n",
              "</table>\n",
              "</div>"
            ],
            "text/plain": [
              "                                                     URI  ...                                               text\n",
              "50034  <http://dbpedia.org/resource/Mauno_J%C3%A4rvel...  ...  mauno jrvel born 25 november 1949 in kaustinen...\n",
              "39362     <http://dbpedia.org/resource/David_W._Jourdan>  ...  david walter jourdan born december 5 1954 is a...\n",
              "20786        <http://dbpedia.org/resource/Patrick_Roach>  ...  patrick roach born march 4 1969 is a canadian ...\n",
              "26367          <http://dbpedia.org/resource/Louis_Sauer>  ...  louis lou sauer aka louis edward sauer born 19...\n",
              "14855         <http://dbpedia.org/resource/Marty_Keough>  ...  richard martin keough born april 14 1934 in oa...\n",
              "\n",
              "[5 rows x 3 columns]"
            ]
          },
          "metadata": {
            "tags": []
          },
          "execution_count": 56
        }
      ]
    },
    {
      "cell_type": "code",
      "metadata": {
        "id": "Q0wFy_UjtBh6",
        "colab_type": "code",
        "colab": {}
      },
      "source": [
        "from sklearn.feature_extraction.text import TfidfVectorizer\n",
        "\n",
        "vectorizer = TfidfVectorizer(max_df=0.95)  # ignore words with very high doc frequency\n",
        "tf_idf = vectorizer.fit_transform(wiki['text'])\n",
        "words = vectorizer.get_feature_names()"
      ],
      "execution_count": null,
      "outputs": []
    },
    {
      "cell_type": "code",
      "metadata": {
        "id": "BELF38MItDcC",
        "colab_type": "code",
        "colab": {
          "base_uri": "https://localhost:8080/",
          "height": 33
        },
        "outputId": "0cd3acca-4699-4923-ebd3-1dd964ef2c9a"
      },
      "source": [
        "tf_idf = csr_matrix(tf_idf)\n",
        "\n",
        "tf_idf.shape"
      ],
      "execution_count": null,
      "outputs": [
        {
          "output_type": "execute_result",
          "data": {
            "text/plain": [
              "(5907, 112801)"
            ]
          },
          "metadata": {
            "tags": []
          },
          "execution_count": 58
        }
      ]
    },
    {
      "cell_type": "code",
      "metadata": {
        "id": "93OCFc4-tGvp",
        "colab_type": "code",
        "colab": {}
      },
      "source": [
        "from sklearn.preprocessing import normalize\n",
        "tf_idf = normalize(tf_idf)"
      ],
      "execution_count": null,
      "outputs": []
    },
    {
      "cell_type": "code",
      "metadata": {
        "id": "iJjG9JZNtIaT",
        "colab_type": "code",
        "colab": {}
      },
      "source": [
        "def get_initial_centroids(data, k, seed=None):\n",
        "    \"\"\"\n",
        "    Randomly choose k data points as initial centroids\n",
        "    \"\"\"\n",
        "    if seed is not None: # useful for obtaining consistent results\n",
        "        np.random.seed(seed)\n",
        "        \n",
        "    n = data.shape[0] # number of data points\n",
        "        \n",
        "    # Pick K indices from range [0, N).\n",
        "    rand_indices = np.random.randint(0, n, k)\n",
        "    \n",
        "    # Keep centroids as dense format, as many entries will be nonzero due to averaging.\n",
        "    # As long as at least one document in a cluster contains a word,\n",
        "    # it will carry a nonzero weight in the TF-IDF vector of the centroid.\n",
        "    centroids = data[rand_indices,:].toarray()\n",
        "    \n",
        "    return centroids"
      ],
      "execution_count": null,
      "outputs": []
    },
    {
      "cell_type": "code",
      "metadata": {
        "id": "t7kVURvrtKxa",
        "colab_type": "code",
        "colab": {
          "base_uri": "https://localhost:8080/",
          "height": 133
        },
        "outputId": "7c377be4-5993-4532-ac48-35ef9e2b290f"
      },
      "source": [
        "from sklearn.metrics import pairwise_distances\n",
        "\n",
        "# Get the TF-IDF vectors for documents 100 through 102.\n",
        "queries = tf_idf[100:102,:]\n",
        "\n",
        "# Compute pairwise distances from every data point to each query vector.\n",
        "dist = pairwise_distances(tf_idf, queries, metric='euclidean')\n",
        "print(dist)"
      ],
      "execution_count": null,
      "outputs": [
        {
          "output_type": "stream",
          "text": [
            "[[1.39996239 1.39958932]\n",
            " [1.40386156 1.39754968]\n",
            " [1.38421176 1.39682604]\n",
            " ...\n",
            " [1.40562888 1.39024794]\n",
            " [1.39673862 1.38306708]\n",
            " [1.40872806 1.40250208]]\n"
          ],
          "name": "stdout"
        }
      ]
    },
    {
      "cell_type": "code",
      "metadata": {
        "id": "Q0leUdCNtMkW",
        "colab_type": "code",
        "colab": {
          "base_uri": "https://localhost:8080/",
          "height": 33
        },
        "outputId": "b30e6c74-e875-4ecb-c1b9-05533667aaf4"
      },
      "source": [
        "# TODO Fill out this cell\n",
        "cent= tf_idf[0:3, :]\n",
        "distances = pairwise_distances(tf_idf, cent, metric = 'euclidean') \n",
        "# distances.shape\n",
        "dist = pairwise_distances(tf_idf[430,], cent[1])\n",
        "print(dist)"
      ],
      "execution_count": null,
      "outputs": [
        {
          "output_type": "stream",
          "text": [
            "[[1.40319922]]\n"
          ],
          "name": "stdout"
        }
      ]
    },
    {
      "cell_type": "code",
      "metadata": {
        "id": "NAWr-wh-tOLD",
        "colab_type": "code",
        "colab": {
          "base_uri": "https://localhost:8080/",
          "height": 33
        },
        "outputId": "a00bb2b3-c85e-45b0-b65b-4b8b0e5bf77b"
      },
      "source": [
        "# Test Cell\n",
        "if distances.shape == (5907, 3) and np.allclose(dist, pairwise_distances(tf_idf[430,:], tf_idf[1,:])):\n",
        "    print('Pass')\n",
        "else:\n",
        "    print('Check your code again')"
      ],
      "execution_count": null,
      "outputs": [
        {
          "output_type": "stream",
          "text": [
            "Pass\n"
          ],
          "name": "stdout"
        }
      ]
    },
    {
      "cell_type": "code",
      "metadata": {
        "id": "x2CUOpw4tP0v",
        "colab_type": "code",
        "colab": {
          "base_uri": "https://localhost:8080/",
          "height": 33
        },
        "outputId": "ece8de83-6e13-4880-9f9f-ecc1234aa54b"
      },
      "source": [
        "# TODO Fill out this cell\n",
        "closest_cluster = np.argmin(distances, axis = 1)\n",
        "print(closest_cluster)"
      ],
      "execution_count": null,
      "outputs": [
        {
          "output_type": "stream",
          "text": [
            "[0 1 2 ... 2 2 2]\n"
          ],
          "name": "stdout"
        }
      ]
    },
    {
      "cell_type": "code",
      "metadata": {
        "id": "Ypeg9CwitRTD",
        "colab_type": "code",
        "colab": {
          "base_uri": "https://localhost:8080/",
          "height": 33
        },
        "outputId": "8c5d99c9-5f0e-45f5-8361-ea956a3fd0bc"
      },
      "source": [
        "# Test Cell\n",
        "reference = [list(row).index(min(row)) for row in distances]\n",
        "if np.allclose(closest_cluster, reference):\n",
        "    print('Pass')\n",
        "else:\n",
        "    print('Check your code again')"
      ],
      "execution_count": null,
      "outputs": [
        {
          "output_type": "stream",
          "text": [
            "Pass\n"
          ],
          "name": "stdout"
        }
      ]
    },
    {
      "cell_type": "code",
      "metadata": {
        "id": "l0afVDBatR2n",
        "colab_type": "code",
        "colab": {}
      },
      "source": [
        "# Students should write code here\n",
        "cen = tf_idf[:3, :]\n",
        "dis = pairwise_distances(tf_idf, cen, metric = 'euclidean')\n",
        "cluster_assignment = np.argmin(dis, axis = 1)"
      ],
      "execution_count": null,
      "outputs": []
    },
    {
      "cell_type": "code",
      "metadata": {
        "id": "-_k_dxh8tT2o",
        "colab_type": "code",
        "colab": {
          "base_uri": "https://localhost:8080/",
          "height": 33
        },
        "outputId": "aac30259-7593-44ae-fe3f-7b4339e0aa67"
      },
      "source": [
        "if len(cluster_assignment)==5907 and \\\n",
        "   np.array_equal(np.bincount(cluster_assignment), np.array([515,  440, 4952])):\n",
        "    print('Pass') # count number of data points for each cluster\n",
        "else:\n",
        "    print('Check your code again.')"
      ],
      "execution_count": null,
      "outputs": [
        {
          "output_type": "stream",
          "text": [
            "Pass\n"
          ],
          "name": "stdout"
        }
      ]
    },
    {
      "cell_type": "code",
      "metadata": {
        "id": "E2c96zf6tVMj",
        "colab_type": "code",
        "colab": {}
      },
      "source": [
        "# TODO \n",
        "def assign_clusters(data, centroids):\n",
        "    distancee = pairwise_distances(data, centroids, metric='euclidean')\n",
        "    cluster_assignment = np.argmin(distancee, axis = 1)\n",
        "    return cluster_assignment"
      ],
      "execution_count": null,
      "outputs": []
    },
    {
      "cell_type": "code",
      "metadata": {
        "id": "gjJQOm1EtW6-",
        "colab_type": "code",
        "colab": {
          "base_uri": "https://localhost:8080/",
          "height": 33
        },
        "outputId": "438e432b-0c91-498a-fe0b-cd5f979e8497"
      },
      "source": [
        "if np.allclose(assign_clusters(tf_idf[0:100:10], tf_idf[0:8:2]), np.array([0, 3, 3, 3, 3, 2, 2, 1, 1, 1])):\n",
        "    print('Pass')\n",
        "else:\n",
        "    print('Check your code again.')"
      ],
      "execution_count": null,
      "outputs": [
        {
          "output_type": "stream",
          "text": [
            "Pass\n"
          ],
          "name": "stdout"
        }
      ]
    },
    {
      "cell_type": "code",
      "metadata": {
        "id": "BzaCic4DtYgJ",
        "colab_type": "code",
        "colab": {}
      },
      "source": [
        "data = np.array([[1., 2., 0.],\n",
        "                 [0., 0., 0.],\n",
        "                 [2., 2., 0.]])\n",
        "centroids = np.array([[0.5, 0.5, 0.],\n",
        "                      [0., -0.5, 0.]])"
      ],
      "execution_count": null,
      "outputs": []
    },
    {
      "cell_type": "code",
      "metadata": {
        "id": "z2XRzYR2tbKK",
        "colab_type": "code",
        "colab": {
          "base_uri": "https://localhost:8080/",
          "height": 33
        },
        "outputId": "65913a94-5145-4023-e8bd-9cf037677273"
      },
      "source": [
        "cluster_assignment = assign_clusters(data, centroids)\n",
        "print(cluster_assignment)"
      ],
      "execution_count": null,
      "outputs": [
        {
          "output_type": "stream",
          "text": [
            "[0 1 0]\n"
          ],
          "name": "stdout"
        }
      ]
    },
    {
      "cell_type": "code",
      "metadata": {
        "id": "vlS7VdJJtdgg",
        "colab_type": "code",
        "colab": {
          "base_uri": "https://localhost:8080/",
          "height": 33
        },
        "outputId": "ce378cf2-b8af-44b2-db65-d7d3ca876bb8"
      },
      "source": [
        "cluster_assignment==1"
      ],
      "execution_count": null,
      "outputs": [
        {
          "output_type": "execute_result",
          "data": {
            "text/plain": [
              "array([False,  True, False])"
            ]
          },
          "metadata": {
            "tags": []
          },
          "execution_count": 72
        }
      ]
    },
    {
      "cell_type": "code",
      "metadata": {
        "id": "-CGlW_yZtfTX",
        "colab_type": "code",
        "colab": {
          "base_uri": "https://localhost:8080/",
          "height": 33
        },
        "outputId": "d4ee1513-5e18-429b-a59d-491c5512d9a7"
      },
      "source": [
        "cluster_assignment==0"
      ],
      "execution_count": null,
      "outputs": [
        {
          "output_type": "execute_result",
          "data": {
            "text/plain": [
              "array([ True, False,  True])"
            ]
          },
          "metadata": {
            "tags": []
          },
          "execution_count": 73
        }
      ]
    },
    {
      "cell_type": "code",
      "metadata": {
        "id": "Ps4U-1ybtg4l",
        "colab_type": "code",
        "colab": {
          "base_uri": "https://localhost:8080/",
          "height": 33
        },
        "outputId": "121240eb-1434-4c97-91db-4ad2b68425cc"
      },
      "source": [
        "data[cluster_assignment==1]"
      ],
      "execution_count": null,
      "outputs": [
        {
          "output_type": "execute_result",
          "data": {
            "text/plain": [
              "array([[0., 0., 0.]])"
            ]
          },
          "metadata": {
            "tags": []
          },
          "execution_count": 74
        }
      ]
    },
    {
      "cell_type": "code",
      "metadata": {
        "id": "anrXqyp-tiXd",
        "colab_type": "code",
        "colab": {
          "base_uri": "https://localhost:8080/",
          "height": 50
        },
        "outputId": "fdfdf491-3eee-47b8-da6b-42953f8a2657"
      },
      "source": [
        "data[cluster_assignment==0]"
      ],
      "execution_count": null,
      "outputs": [
        {
          "output_type": "execute_result",
          "data": {
            "text/plain": [
              "array([[1., 2., 0.],\n",
              "       [2., 2., 0.]])"
            ]
          },
          "metadata": {
            "tags": []
          },
          "execution_count": 75
        }
      ]
    },
    {
      "cell_type": "code",
      "metadata": {
        "id": "y4feAjK2tj9O",
        "colab_type": "code",
        "colab": {
          "base_uri": "https://localhost:8080/",
          "height": 33
        },
        "outputId": "c5a54071-ec21-48f2-acd4-27da3a98b059"
      },
      "source": [
        "data[cluster_assignment==0].mean(axis=0)"
      ],
      "execution_count": null,
      "outputs": [
        {
          "output_type": "execute_result",
          "data": {
            "text/plain": [
              "array([1.5, 2. , 0. ])"
            ]
          },
          "metadata": {
            "tags": []
          },
          "execution_count": 76
        }
      ]
    },
    {
      "cell_type": "code",
      "metadata": {
        "id": "ZKyG8FbWtpaE",
        "colab_type": "code",
        "colab": {}
      },
      "source": [
        "# TODO\n",
        "def revise_centroids(data, k, cluster_assignment):\n",
        "    new_centroids = []\n",
        "    for i in range(k):\n",
        "        # Select all data points that belong to cluster i. Fill in the blank (RHS only)\n",
        "        member_data_points = data[cluster_assignment==i]\n",
        "        # Compute the mean of the data points. Fill in the blank (RHS only)\n",
        "        centroid = member_data_points.mean(axis=0)\n",
        "        \n",
        "        # Convert numpy.matrix type to numpy.ndarray type\n",
        "        centroid = centroid.A1\n",
        "        new_centroids.append(centroid)\n",
        "        \n",
        "    new_centroids = np.array(new_centroids)\n",
        "    return new_centroids"
      ],
      "execution_count": null,
      "outputs": []
    },
    {
      "cell_type": "code",
      "metadata": {
        "id": "bL9sKJgjtp_b",
        "colab_type": "code",
        "colab": {
          "base_uri": "https://localhost:8080/",
          "height": 33
        },
        "outputId": "22c81099-e331-4a8a-eddf-9f541509bfdd"
      },
      "source": [
        "result = revise_centroids(tf_idf[0:100:10], 3, np.array([0, 1, 1, 0, 0, 2, 0, 2, 2, 1]))\n",
        "if np.allclose(result[0], np.mean(tf_idf[[0,30,40,60]].toarray(), axis=0)) and \\\n",
        "   np.allclose(result[1], np.mean(tf_idf[[10,20,90]].toarray(), axis=0))   and \\\n",
        "   np.allclose(result[2], np.mean(tf_idf[[50,70,80]].toarray(), axis=0)):\n",
        "    print('Pass')\n",
        "else:\n",
        "    print('Check your code')"
      ],
      "execution_count": null,
      "outputs": [
        {
          "output_type": "stream",
          "text": [
            "Pass\n"
          ],
          "name": "stdout"
        }
      ]
    },
    {
      "cell_type": "code",
      "metadata": {
        "id": "JzH3k_UDtrji",
        "colab_type": "code",
        "colab": {}
      },
      "source": [
        "def compute_heterogeneity(data, k, centroids, cluster_assignment):\n",
        "  \n",
        "    heterogeneity = 0.0\n",
        "    for i in range(k):\n",
        "        \n",
        "        # Select all data points that belong to cluster i. Fill in the blank (RHS only)\n",
        "        member_data_points = data[cluster_assignment==i,:]\n",
        "        \n",
        "        if member_data_points.shape[0] > 0: # check if i-th cluster is non-empty\n",
        "            # Compute distances from centroid to data point\n",
        "            distances = pairwise_distances(member_data_points, [centroids[i]], metric='euclidean')\n",
        "            squared_distances = distances**2\n",
        "            heterogeneity += np.sum(squared_distances)\n",
        "        \n",
        "    return heterogeneity"
      ],
      "execution_count": null,
      "outputs": []
    },
    {
      "cell_type": "code",
      "metadata": {
        "id": "58_ikIpztuNd",
        "colab_type": "code",
        "colab": {
          "base_uri": "https://localhost:8080/",
          "height": 33
        },
        "outputId": "6652ea61-ea24-4174-bd51-bdc636e0af37"
      },
      "source": [
        "compute_heterogeneity(data, 2, centroids, cluster_assignment)"
      ],
      "execution_count": null,
      "outputs": [
        {
          "output_type": "execute_result",
          "data": {
            "text/plain": [
              "7.25"
            ]
          },
          "metadata": {
            "tags": []
          },
          "execution_count": 80
        }
      ]
    },
    {
      "cell_type": "code",
      "metadata": {
        "id": "f23X7bXNtufu",
        "colab_type": "code",
        "colab": {}
      },
      "source": [
        "# TODO Fill in the blanks\n",
        "def kmeans(data, k, initial_centroids, maxiter, record_heterogeneity=None, verbose=False):\n",
        "    centroids = initial_centroids[:]\n",
        "    prev_cluster_assignment = None\n",
        "    \n",
        "    for itr in range(maxiter):  \n",
        "        # Print itereation number\n",
        "        if verbose:\n",
        "            print(itr)\n",
        "        \n",
        "        # 1. Make cluster assignments using nearest centroids\n",
        "        cluster_assignment = assign_clusters(data, centroids)\n",
        "            \n",
        "        # 2. Compute a new centroid for each of the k clusters, averaging all data points assigned to that cluster.\n",
        "        centroids = revise_centroids(data, k ,cluster_assignment)\n",
        "            \n",
        "        # Check for convergence: if none of the assignments changed, stop\n",
        "        if prev_cluster_assignment is not None and \\\n",
        "          (prev_cluster_assignment == cluster_assignment).all():\n",
        "            break\n",
        "        \n",
        "        # Print number of new assignments \n",
        "        if prev_cluster_assignment is not None:\n",
        "            num_changed = sum(abs(prev_cluster_assignment - cluster_assignment))\n",
        "            if verbose:\n",
        "                print(f'    {num_changed:5d} elements changed their cluster assignment.')  \n",
        "        \n",
        "        # Record heterogeneity convergence metric\n",
        "        if record_heterogeneity is not None:\n",
        "            score = compute_heterogeneity(data, k, centroids, cluster_assignment)\n",
        "            record_heterogeneity.append(score)\n",
        "        \n",
        "        prev_cluster_assignment = cluster_assignment[:]\n",
        "        \n",
        "    return centroids, cluster_assignment"
      ],
      "execution_count": null,
      "outputs": []
    },
    {
      "cell_type": "code",
      "metadata": {
        "id": "f6yLvadJtxRf",
        "colab_type": "code",
        "colab": {}
      },
      "source": [
        "def plot_heterogeneity(heterogeneity, k):\n",
        "    plt.figure(figsize=(7,4))\n",
        "    plt.plot(heterogeneity, linewidth=4)\n",
        "    plt.xlabel('# Iterations')\n",
        "    plt.ylabel('Heterogeneity')\n",
        "    plt.title(f'Heterogeneity of clustering over time, K={k}')\n",
        "    plt.rcParams.update({'font.size': 16})\n",
        "    plt.tight_layout()"
      ],
      "execution_count": null,
      "outputs": []
    },
    {
      "cell_type": "code",
      "metadata": {
        "id": "Q8FvQ_uJty29",
        "colab_type": "code",
        "colab": {
          "base_uri": "https://localhost:8080/",
          "height": 651
        },
        "outputId": "23f629f3-f593-4ec7-9ee4-765e5e10164e"
      },
      "source": [
        "k = 3\n",
        "heterogeneity = []\n",
        "initial_centroids = get_initial_centroids(tf_idf, k, seed=0)\n",
        "centroids, cluster_assignment = kmeans(tf_idf, k, initial_centroids, maxiter=400,\n",
        "                                       record_heterogeneity=heterogeneity, verbose=True)\n",
        "plot_heterogeneity(heterogeneity, k)"
      ],
      "execution_count": null,
      "outputs": [
        {
          "output_type": "stream",
          "text": [
            "0\n",
            "1\n",
            "     2036 elements changed their cluster assignment.\n",
            "2\n",
            "      654 elements changed their cluster assignment.\n",
            "3\n",
            "      376 elements changed their cluster assignment.\n",
            "4\n",
            "      264 elements changed their cluster assignment.\n",
            "5\n",
            "      112 elements changed their cluster assignment.\n",
            "6\n",
            "       37 elements changed their cluster assignment.\n",
            "7\n",
            "       10 elements changed their cluster assignment.\n",
            "8\n",
            "        6 elements changed their cluster assignment.\n",
            "9\n",
            "        2 elements changed their cluster assignment.\n",
            "10\n",
            "        2 elements changed their cluster assignment.\n",
            "11\n"
          ],
          "name": "stdout"
        },
        {
          "output_type": "display_data",
          "data": {
            "image/png": "[encoded data removed]",
            "text/plain": [
              "<Figure size 504x288 with 1 Axes>"
            ]
          },
          "metadata": {
            "tags": [],
            "needs_background": "light"
          }
        }
      ]
    },
    {
      "cell_type": "code",
      "metadata": {
        "id": "kYl7zS-R3GqH",
        "colab_type": "code",
        "colab": {
          "base_uri": "https://localhost:8080/",
          "height": 33
        },
        "outputId": "51a00457-84cc-4d62-b742-a3740e978d64"
      },
      "source": [
        "occurence = np.bincount(cluster_assignment)\n",
        "print(occurence)\n",
        "# [4689  404  814]"
      ],
      "execution_count": null,
      "outputs": [
        {
          "output_type": "stream",
          "text": [
            "[4689  404  814]\n"
          ],
          "name": "stdout"
        }
      ]
    },
    {
      "cell_type": "code",
      "metadata": {
        "id": "aWLUMV3E30MJ",
        "colab_type": "code",
        "colab": {
          "base_uri": "https://localhost:8080/",
          "height": 167
        },
        "outputId": "aa8e0d24-9c9d-43a7-b7d7-bceb7f0e501d"
      },
      "source": [
        "%%time\n",
        "# ^ Magic command to time how long it takes for this cell to run!\n",
        "# You can see how long it took with the output that says \"Wall time\"\n",
        "\n",
        "k = 10\n",
        "heterogeneity = {}\n",
        "for seed in [0, 20000, 40000, 60000, 80000, 100000, 120000]:\n",
        "    initial_centroids = get_initial_centroids(tf_idf, k, seed)\n",
        "    centroids, cluster_assignment = kmeans(tf_idf, k, initial_centroids, maxiter=400,\n",
        "                                           record_heterogeneity=None, verbose=False)\n",
        "    # To save time, compute heterogeneity only once in the end\n",
        "    heterogeneity[seed] = compute_heterogeneity(tf_idf, k, centroids, cluster_assignment)\n",
        "    print(f'seed={seed:06d}, heterogeneity={heterogeneity[seed]:.5f}')\n",
        "    \n",
        "    sys.stdout.flush()"
      ],
      "execution_count": null,
      "outputs": [
        {
          "output_type": "stream",
          "text": [
            "seed=000000, heterogeneity=5569.17352\n",
            "seed=020000, heterogeneity=5563.93396\n",
            "seed=040000, heterogeneity=5562.09533\n",
            "seed=060000, heterogeneity=5574.80813\n",
            "seed=080000, heterogeneity=5563.38377\n",
            "seed=100000, heterogeneity=5565.93209\n",
            "seed=120000, heterogeneity=5572.40064\n",
            "CPU times: user 9.31 s, sys: 144 ms, total: 9.46 s\n",
            "Wall time: 9.46 s\n"
          ],
          "name": "stdout"
        }
      ]
    },
    {
      "cell_type": "code",
      "metadata": {
        "id": "RMx0Dw8W4Mv9",
        "colab_type": "code",
        "colab": {}
      },
      "source": [
        "def smart_initialize(data, k, seed=None):\n",
        "    \"\"\"\n",
        "    Use k-means++ to initialize a good set of centroids\n",
        "    \"\"\"\n",
        "    if seed is not None: # useful for obtaining consistent results\n",
        "        np.random.seed(seed)\n",
        "        \n",
        "    centroids = np.zeros((k, data.shape[1]))\n",
        "    \n",
        "    # Randomly choose the first centroid.\n",
        "    # Since we have no prior knowledge, choose uniformly at random\n",
        "    idx = np.random.randint(data.shape[0])\n",
        "    centroids[0] = data[idx,:].toarray()\n",
        "    \n",
        "    # Compute distances from the first centroid chosen to all the other data points\n",
        "    distances = pairwise_distances(data, centroids[0:1], metric='euclidean').flatten()\n",
        "    \n",
        "    for i in range(1, k):\n",
        "        # Choose the next centroid randomly, so that the probability for each data point to be chosen\n",
        "        # is directly proportional to its squared distance from the nearest centroid.\n",
        "        # Roughtly speaking, a new centroid should be as far as from ohter centroids as possible.\n",
        "        idx = np.random.choice(data.shape[0], 1, p=distances/sum(distances))\n",
        "        centroids[i] = data[idx,:].toarray()\n",
        "        \n",
        "        # Now compute distances from the centroids to all data points\n",
        "        distances = np.min(pairwise_distances(data, centroids[0:i+1], metric='euclidean'),axis=1)\n",
        "    \n",
        "    return centroids"
      ],
      "execution_count": null,
      "outputs": []
    },
    {
      "cell_type": "code",
      "metadata": {
        "id": "UV54dU_S4OgD",
        "colab_type": "code",
        "colab": {
          "base_uri": "https://localhost:8080/",
          "height": 167
        },
        "outputId": "37d501d0-8e5c-4ba9-de50-2bdf033a0f49"
      },
      "source": [
        "%%time\n",
        "\n",
        "k = 10\n",
        "heterogeneity_smart = {}\n",
        "for seed in [0, 20000, 40000, 60000, 80000, 100000, 120000]:\n",
        "    initial_centroids = smart_initialize(tf_idf, k, seed)\n",
        "    centroids, cluster_assignment = kmeans(tf_idf, k, initial_centroids, maxiter=400,\n",
        "                                           record_heterogeneity=None, verbose=False)\n",
        "    # To save time, compute heterogeneity only once in the end\n",
        "    heterogeneity_smart[seed] = compute_heterogeneity(tf_idf, k, centroids, cluster_assignment)\n",
        "    print(f'seed={seed:06d}, heterogeneity={heterogeneity_smart[seed]:.5f}')\n",
        "\n",
        "    sys.stdout.flush()"
      ],
      "execution_count": null,
      "outputs": [
        {
          "output_type": "stream",
          "text": [
            "seed=000000, heterogeneity=5563.24947\n",
            "seed=020000, heterogeneity=5569.53006\n",
            "seed=040000, heterogeneity=5563.95996\n",
            "seed=060000, heterogeneity=5567.74848\n",
            "seed=080000, heterogeneity=5557.53663\n",
            "seed=100000, heterogeneity=5559.45113\n",
            "seed=120000, heterogeneity=5559.02003\n",
            "CPU times: user 12.8 s, sys: 181 ms, total: 13 s\n",
            "Wall time: 13.2 s\n"
          ],
          "name": "stdout"
        }
      ]
    },
    {
      "cell_type": "code",
      "metadata": {
        "id": "7ROTiMIV4aP8",
        "colab_type": "code",
        "colab": {
          "base_uri": "https://localhost:8080/",
          "height": 356
        },
        "outputId": "b26bf70a-84e1-4ac1-c31a-f9ded7165a67"
      },
      "source": [
        "plt.figure(figsize=(10,5))\n",
        "plt.boxplot([list(heterogeneity.values()), list(heterogeneity_smart.values())], vert=False)\n",
        "plt.yticks([1, 2], ['k-means', 'k-means++'])\n",
        "plt.rcParams.update({'font.size': 16})\n",
        "plt.xlabel('Heterogeneity')\n",
        "plt.tight_layout()"
      ],
      "execution_count": null,
      "outputs": [
        {
          "output_type": "display_data",
          "data": {
            "image/png": "[encoded data removed]",
            "text/plain": [
              "<Figure size 720x360 with 1 Axes>"
            ]
          },
          "metadata": {
            "tags": [],
            "needs_background": "light"
          }
        }
      ]
    },
    {
      "cell_type": "code",
      "metadata": {
        "id": "3a_oj3fd4dEc",
        "colab_type": "code",
        "colab": {}
      },
      "source": [
        "# TODO\n",
        "def kmeans_multiple_runs(data, k, maxiter, seeds, verbose=False):\n",
        "    \n",
        "    min_heterogeneity_achieved = float('inf')\n",
        "    final_centroids = None\n",
        "    final_cluster_assignment = None\n",
        "    if type(seeds) == int:\n",
        "        seeds = np.random.randint(low=0, high=10000, size=seeds)\n",
        "    \n",
        "    num_runs = len(seeds)\n",
        "    \n",
        "    for seed in seeds:\n",
        "        \n",
        "        # Use k-means++ initialization with the provided seed: Fill in the blank\n",
        "        # Set record_heterogeneity=None because we will compute that once at the end.\n",
        "        initial_centroids = smart_initialize(data, k, seeds)\n",
        "        \n",
        "        # Run k-means: Fill in the blank \n",
        "        centroids, cluster_assignment = kmeans(data, k, initial_centroids, maxiter, record_heterogeneity=None, verbose = False)\n",
        "        \n",
        "        # To save time, compute heterogeneity only once in the end\n",
        "        # Fill in the blank on the right\n",
        "        seed_heterogeneity = compute_heterogeneity(data, k, centroids, cluster_assignment)\n",
        "        \n",
        "        if verbose:\n",
        "            print(f'seed={seed:06d}, heterogeneity={seed_heterogeneity:.5f}')\n",
        "            sys.stdout.flush()\n",
        "        \n",
        "        # if current measurement of heterogeneity is lower than previously seen,\n",
        "        # update the minimum record of heterogeneity.\n",
        "        if seed_heterogeneity < min_heterogeneity_achieved:\n",
        "            min_heterogeneity_achieved = seed_heterogeneity\n",
        "            final_centroids = centroids\n",
        "            final_cluster_assignment = cluster_assignment\n",
        "    \n",
        "    # Return the centroids and cluster assignments that minimize heterogeneity.\n",
        "    return final_centroids, final_cluster_assignment"
      ],
      "execution_count": null,
      "outputs": []
    },
    {
      "cell_type": "code",
      "metadata": {
        "id": "VsrFGm7j5w8l",
        "colab_type": "code",
        "colab": {
          "base_uri": "https://localhost:8080/",
          "height": 651
        },
        "outputId": "e35eaec7-e941-4723-cfb2-0f2fb99a844a"
      },
      "source": [
        "%%time\n",
        "\n",
        "def plot_k_vs_heterogeneity(k_values, heterogeneity_values):\n",
        "    \"\"\"\n",
        "    Given list of k-values and their heterogeneities, will make a plot\n",
        "    showing how heterogeneity varies with k.\n",
        "    \"\"\"\n",
        "    plt.figure(figsize=(7,4))\n",
        "    plt.plot(k_values, heterogeneity_values, linewidth=4)\n",
        "    plt.xlabel('K')\n",
        "    plt.ylabel('Heterogeneity')\n",
        "    plt.title('K vs. Heterogeneity')\n",
        "    plt.rcParams.update({'font.size': 16})\n",
        "    plt.tight_layout()\n",
        "\n",
        "all_centroids = {}\n",
        "all_cluster_assignment = {}\n",
        "heterogeneity_values = []\n",
        "seeds = [20000, 40000, 80000]\n",
        "k_list = [2, 10, 25, 50, 100]\n",
        "\n",
        "for k in k_list:\n",
        "    print(f'Running k = {k}')\n",
        "    heterogeneity = []\n",
        "    all_centroids[k], all_cluster_assignment[k] = kmeans_multiple_runs(tf_idf, k, maxiter=400,\n",
        "                                                                       seeds=seeds, verbose=True)\n",
        "    score = compute_heterogeneity(tf_idf, k, all_centroids[k], all_cluster_assignment[k])\n",
        "    heterogeneity_values.append(score)\n",
        "\n",
        "plot_k_vs_heterogeneity(k_list, heterogeneity_values)"
      ],
      "execution_count": null,
      "outputs": [
        {
          "output_type": "stream",
          "text": [
            "Running k = 2\n",
            "seed=020000, heterogeneity=5680.07682\n",
            "seed=040000, heterogeneity=5680.07682\n",
            "seed=080000, heterogeneity=5680.07682\n",
            "Running k = 10\n",
            "seed=020000, heterogeneity=5558.77631\n",
            "seed=040000, heterogeneity=5558.77631\n",
            "seed=080000, heterogeneity=5558.77631\n",
            "Running k = 25\n",
            "seed=020000, heterogeneity=5477.27655\n",
            "seed=040000, heterogeneity=5477.27655\n",
            "seed=080000, heterogeneity=5477.27655\n",
            "Running k = 50\n",
            "seed=020000, heterogeneity=5400.32444\n",
            "seed=040000, heterogeneity=5400.32444\n",
            "seed=080000, heterogeneity=5400.32444\n",
            "Running k = 100\n",
            "seed=020000, heterogeneity=5314.55812\n",
            "seed=040000, heterogeneity=5314.55812\n",
            "seed=080000, heterogeneity=5314.55812\n",
            "CPU times: user 1min 23s, sys: 672 ms, total: 1min 23s\n",
            "Wall time: 1min 23s\n"
          ],
          "name": "stdout"
        },
        {
          "output_type": "display_data",
          "data": {
            "image/png": "[encoded data removed]",
            "text/plain": [
              "<Figure size 504x288 with 1 Axes>"
            ]
          },
          "metadata": {
            "tags": [],
            "needs_background": "light"
          }
        }
      ]
    },
    {
      "cell_type": "code",
      "metadata": {
        "id": "DxAbtYaG5NwJ",
        "colab_type": "code",
        "colab": {}
      },
      "source": [
        "def visualize_document_clusters(wiki, tf_idf, centroids, cluster_assignment, k, words, \n",
        "                                display_docs=5):\n",
        "    print('=' * 90)\n",
        "\n",
        "    # Visualize each cluster c\n",
        "    for c in range(k):\n",
        "        # Cluster heading\n",
        "        print(f'Cluster {c}  ({(cluster_assignment == c).sum()} docs)'),\n",
        "        # Print top 5 words with largest TF-IDF weights in the cluster\n",
        "        idx = centroids[c].argsort()[::-1]\n",
        "        for i in range(5): # Print each word along with the TF-IDF weight\n",
        "            print(f'{words[idx[i]]}:{centroids[c,idx[i]]:.3f}', end=' '),\n",
        "        print()\n",
        "        \n",
        "        if display_docs > 0:\n",
        "            print()\n",
        "            # Compute distances from the centroid to all data points in the cluster,\n",
        "            # and compute nearest neighbors of the centroids within the cluster.\n",
        "            distances = pairwise_distances(tf_idf, centroids[c].reshape(1, -1), metric='euclidean').flatten()\n",
        "            distances[cluster_assignment!=c] = float('inf') # remove non-members from consideration\n",
        "            nearest_neighbors = distances.argsort()\n",
        "            # For the nearest neighbors, print the title as well as first 180 characters of text.\n",
        "            # Wrap the text at 80-character mark.\n",
        "            for i in range(display_docs):\n",
        "                text = ' '.join(wiki.iloc[nearest_neighbors[i]]['text'].split(None, 25)[0:25])\n",
        "                print(f'* {wiki.iloc[nearest_neighbors[i]][\"name\"]:50s} {distances[nearest_neighbors[i]]:.5f}')\n",
        "                print(f'  {text[:90]}')\n",
        "                if len(text) > 90:\n",
        "                    print(f'  {text[90:180]}')\n",
        "                print()\n",
        "        print('=' * 90)"
      ],
      "execution_count": null,
      "outputs": []
    },
    {
      "cell_type": "code",
      "metadata": {
        "id": "Xz_p-bCM5PH5",
        "colab_type": "code",
        "colab": {
          "base_uri": "https://localhost:8080/",
          "height": 833
        },
        "outputId": "ecf0c5ce-a9ff-4e41-9f00-d977dc056efc"
      },
      "source": [
        "k = 2\n",
        "visualize_document_clusters(wiki, tf_idf, all_centroids[k], all_cluster_assignment[k], k, words)"
      ],
      "execution_count": null,
      "outputs": [
        {
          "output_type": "stream",
          "text": [
            "==========================================================================================\n",
            "Cluster 0  (4761 docs)\n",
            "he:0.055 was:0.038 she:0.038 for:0.036 as:0.034 \n",
            "\n",
            "* Wilson McLean                                      0.94368\n",
            "  wilson mclean born 1937 is a scottish illustrator and artist he has illustrated primarily \n",
            "  in the field of advertising but has also provided cover art\n",
            "\n",
            "* Vipin Sharma                                       0.95052\n",
            "  vipin sharma is an indian actor born in new delhi he is a graduate of national school of d\n",
            "  rama new delhi india and the canadian\n",
            "\n",
            "* Natashia Williams                                  0.95231\n",
            "  natashia williamsblach born august 2 1978 is an american actress and former wonderbra camp\n",
            "  aign model who is perhaps best known for her role as shane\n",
            "\n",
            "* Peter Paret                                        0.95393\n",
            "  peter paret is a cultural and intellectual historian whose two principal areas of research\n",
            "   are war and the interaction of art and politics from 18th\n",
            "\n",
            "* Bhama Srinivasan                                   0.95546\n",
            "  bhama srinivasan april 22 1935 is a mathematician known for her work in the representation\n",
            "   theory of finite groups her contributions were honored with the\n",
            "\n",
            "==========================================================================================\n",
            "Cluster 1  (1146 docs)\n",
            "he:0.090 league:0.054 his:0.050 season:0.049 for:0.046 \n",
            "\n",
            "* Tony Smith (footballer, born 1957)                 0.92279\n",
            "  anthony tony smith born 20 february 1957 is a former footballer who played as a central de\n",
            "  fender in the football league in the 1970s and\n",
            "\n",
            "* Sixto Lezcano                                      0.92591\n",
            "  sixto joaquin lezcano curras born november 28 1953 in arecibo puerto rico is a retired bas\n",
            "  eball player who played for 12 seasons as an outfielder\n",
            "\n",
            "* Steve Bruce                                        0.92746\n",
            "  stephen roger steve bruce born 31 december 1960 is an english football manager and former \n",
            "  player who is currently the manager at hull city born\n",
            "\n",
            "* Billy Bingham                                      0.92779\n",
            "  william laurence billy bingham mbe born 5 august 1931 is a former international footballer\n",
            "   and football manager who now works as a scout for english\n",
            "\n",
            "* Wally Whitehurst                                   0.92810\n",
            "  walter richard whitehurst born april 11 1964 in shreveport louisiana is a former righthand\n",
            "  ed pitcher in major league baseball who played from 1989 to 1996\n",
            "\n",
            "==========================================================================================\n"
          ],
          "name": "stdout"
        }
      ]
    },
    {
      "cell_type": "code",
      "metadata": {
        "id": "Py4rsBhS6p2C",
        "colab_type": "code",
        "colab": {
          "base_uri": "https://localhost:8080/",
          "height": 1000
        },
        "outputId": "ec803d74-202f-4042-a0b0-849dc0f3c6fc"
      },
      "source": [
        "k = 10\n",
        "visualize_document_clusters(wiki, tf_idf, all_centroids[k], all_cluster_assignment[k], k, words)"
      ],
      "execution_count": null,
      "outputs": [
        {
          "output_type": "stream",
          "text": [
            "==========================================================================================\n",
            "Cluster 0  (794 docs)\n",
            "he:0.084 was:0.059 as:0.045 for:0.038 from:0.036 \n",
            "\n",
            "* Doug Naysmith                                      0.93341\n",
            "  john douglas naysmith born 1 april 1941 is a british labour cooperative politician who was\n",
            "   the member of parliament mp for bristol north west from\n",
            "\n",
            "* John Garamendi                                     0.93806\n",
            "  john raymond garamendi born january 24 1945 is an american rancher businessman politician \n",
            "  and member of the democratic party who has represented areas of northern\n",
            "\n",
            "* Bill Clinton                                       0.93884\n",
            "  william jefferson bill clinton born william jefferson blythe iii august 19 1946 is an amer\n",
            "  ican politician who served from 1993 to 2001 as the 42nd\n",
            "\n",
            "* Jim Elder (politician)                             0.94140\n",
            "  james peter jim elder born 14 december 1950 is a former australian politician he was a mem\n",
            "  ber of the legislative assembly of queensland from 1989\n",
            "\n",
            "* Levin H. Campbell                                  0.94439\n",
            "  levin hicks campbell born january 2 1927 is an american federal appellate judge on senior \n",
            "  status with the united states court of appeals for the\n",
            "\n",
            "==========================================================================================\n",
            "Cluster 1  (429 docs)\n",
            "he:0.100 his:0.061 football:0.060 league:0.058 played:0.056 \n",
            "\n",
            "* Tony Smith (footballer, born 1957)                 0.89838\n",
            "  anthony tony smith born 20 february 1957 is a former footballer who played as a central de\n",
            "  fender in the football league in the 1970s and\n",
            "\n",
            "* Steve Bruce                                        0.90894\n",
            "  stephen roger steve bruce born 31 december 1960 is an english football manager and former \n",
            "  player who is currently the manager at hull city born\n",
            "\n",
            "* Billy Bingham                                      0.91298\n",
            "  william laurence billy bingham mbe born 5 august 1931 is a former international footballer\n",
            "   and football manager who now works as a scout for english\n",
            "\n",
            "* Shane Hobbs                                        0.91359\n",
            "  shane hobbs born 30 april 1985 is a former professional footballer who played in the footb\n",
            "  all league for bristol rovers in 2003 and currently plays\n",
            "\n",
            "* Roy Keane                                          0.91588\n",
            "  royston maurice roy keane born 10 august 1971 is an irish football manager and former prof\n",
            "  essional football player he is the assistant manager of the\n",
            "\n",
            "==========================================================================================\n",
            "Cluster 2  (404 docs)\n",
            "art:0.069 music:0.067 he:0.062 orchestra:0.047 his:0.043 \n",
            "\n",
            "* David Oei                                          0.92249\n",
            "  david oei chinese name pinyin hung jln surname pronounced wee is hong kongborn american cl\n",
            "  assical pianist b 1950 in hong kongoei was born in hong\n",
            "\n",
            "* Wilson McLean                                      0.92769\n",
            "  wilson mclean born 1937 is a scottish illustrator and artist he has illustrated primarily \n",
            "  in the field of advertising but has also provided cover art\n",
            "\n",
            "* Tom Moody (artist)                                 0.93369\n",
            "  tom moody is a visual artist critic and blogger based in new york city he began his career\n",
            "   as a painter using traditional materials but\n",
            "\n",
            "* Robert Creech                                      0.93761\n",
            "  robert edward creech born 26 september 1928 victoria british columbia is a canadian french\n",
            "   hornist music educator and arts administrator he served as director of\n",
            "\n",
            "* Robert Scott Thompson                              0.93844\n",
            "  robert scott thompson born 1959 california is a composer of ambient instrumental and elect\n",
            "  roacoustic music he earned the bmus degree from the university of oregon\n",
            "\n",
            "==========================================================================================\n",
            "Cluster 3  (277 docs)\n",
            "he:0.077 world:0.051 championships:0.050 at:0.045 team:0.044 \n",
            "\n",
            "* Christopher Hedquist                               0.92968\n",
            "  christopher hedquist born june 4 1980 salt lake city utah is an american skeleton racer in\n",
            "   2004 he won the overall european cup becoming the\n",
            "\n",
            "* Marty Krulee                                       0.93188\n",
            "  marty krulee born november 4 1956 is an american world class track and field athlete prima\n",
            "  rily known for running sprint races while never achieving outstanding\n",
            "\n",
            "* Dickson Huru                                       0.93369\n",
            "  dickson huru born 10 september 1990 is a ugandan longdistance runner who competes in cross\n",
            "   country running competitions he has represented his country in the\n",
            "\n",
            "* Yordanis Garc%C3%ADa                               0.93478\n",
            "  yordanis garca barrisonte spanish pronunciation oranis arsia arisonte born november 21 198\n",
            "  8 in san juan y martnez pinar del ro is a male decathlete from\n",
            "\n",
            "* Yang Yansheng                                      0.93523\n",
            "  yang yansheng simplified chinese born 5 january 1988 is a chinese pole vaulter he is the c\n",
            "  hinese record holder for the event both indoors and\n",
            "\n",
            "==========================================================================================\n",
            "Cluster 4  (1234 docs)\n",
            "he:0.053 his:0.044 was:0.035 with:0.033 on:0.032 \n",
            "\n",
            "* Graham Ord                                         0.94778\n",
            "  graham ord born 22 march 1961 is an english musician and songwriter he has garnered respec\n",
            "  t internationally as a fine musician and engaging communicator his\n",
            "\n",
            "* Mark Wilkinson (singer)                            0.94991\n",
            "  mark wilkinson singer born buckinghamshire england is an australian country singersongwrit\n",
            "  er whose lyrical depth gift for melody and impassioned delivery are quickly establishing h\n",
            "\n",
            "* Richard Warren (musician)                          0.95027\n",
            "  richard daniel warren born 3 june 1973 is a british musician songwriter and producerhe sig\n",
            "  ned his first record deal with heavenly records at the height\n",
            "\n",
            "* Stewart Levine                                     0.95179\n",
            "  stewart levine is an american record producer he has worked with such artists as the crusa\n",
            "  ders minnie riperton lionel richie simply red hugh masekela dr\n",
            "\n",
            "* Josh Wilson (musician)                             0.95580\n",
            "  joshua david josh wilson born november 14 1983 is a contemporary christian musician from e\n",
            "  l dorado arkansas he is best known for the radio singles\n",
            "\n",
            "==========================================================================================\n",
            "Cluster 5  (504 docs)\n",
            "film:0.077 he:0.072 for:0.050 as:0.042 on:0.041 \n",
            "\n",
            "* Bruce Redman                                       0.92489\n",
            "  dr bruce redman born 25 april 1960 is an australian film director film critic radio person\n",
            "  ality and media relations manager he currently works for the\n",
            "\n",
            "* Paul Swadel                                        0.93088\n",
            "  paul swadel is a new zealand film director and producerhe has directed and produced many s\n",
            "  uccessful short films which have screened in competition at cannes\n",
            "\n",
            "* Robert Braiden                                     0.93116\n",
            "  robert braiden is an australian film director and writer born in sydney he grew up in moor\n",
            "  ebank liverpool new south wales and now currently lives\n",
            "\n",
            "* James Nesbitt                                      0.93250\n",
            "  james nesbitt born 15 january 1965 is an actor presenter and comedian from northern irelan\n",
            "  d born in ballymena county antrim nesbitt grew up in the\n",
            "\n",
            "* Vipin Sharma                                       0.93471\n",
            "  vipin sharma is an indian actor born in new delhi he is a graduate of national school of d\n",
            "  rama new delhi india and the canadian\n",
            "\n",
            "==========================================================================================\n",
            "Cluster 6  (904 docs)\n",
            "she:0.180 her:0.126 was:0.042 for:0.039 as:0.034 \n",
            "\n",
            "* Bhama Srinivasan                                   0.88856\n",
            "  bhama srinivasan april 22 1935 is a mathematician known for her work in the representation\n",
            "   theory of finite groups her contributions were honored with the\n",
            "\n",
            "* Delores Brumfield                                  0.89506\n",
            "  delores brumfield white born may 26 1932 is a former utility infielderoutfielder who playe\n",
            "  d from 1947 through 1953 in the allamerican girls professional baseball league\n",
            "\n",
            "* Natashia Williams                                  0.89718\n",
            "  natashia williamsblach born august 2 1978 is an american actress and former wonderbra camp\n",
            "  aign model who is perhaps best known for her role as shane\n",
            "\n",
            "* Gila Golan                                         0.90089\n",
            "  gila golan hebrew born 1940 is a polishborn israeli former fashion model and actressgolan \n",
            "  was born in krakw poland around 1940 her exact birthday is\n",
            "\n",
            "* Bette McLaurin                                     0.90437\n",
            "  bette mclaurin born c1929 is an africanamerican singer best known for her jazzinfluenced b\n",
            "  allad and rb performances in the 1950s two of her recordings i\n",
            "\n",
            "==========================================================================================\n",
            "Cluster 7  (174 docs)\n",
            "league:0.136 baseball:0.123 he:0.097 major:0.070 season:0.063 \n",
            "\n",
            "* Alfonso Pulido                                     0.85994\n",
            "  alfonso pulido manzo born january 23 1957 in tierra blanca veracruz is a former major leag\n",
            "  ue baseball pitcher pulido played parts of three seasons in\n",
            "\n",
            "* Joe Strong                                         0.86384\n",
            "  joseph benjamin strong born september 9 1962 in fairfield california is a former major lea\n",
            "  gue baseball pitcher who played for the florida marlins from 2000\n",
            "\n",
            "* Dom Zanni                                          0.86748\n",
            "  dominick thomas zanni born march 1 1932 in the bronx new york is a former professional bas\n",
            "  eball player a righthanded pitcher he pitched in 111\n",
            "\n",
            "* Clyde Mashore                                      0.86868\n",
            "  clyde wayne mashore born may 29 1945 in concord california is a former major league baseba\n",
            "  ll outfielder who played in 241 games over five seasons\n",
            "\n",
            "* Wally Whitehurst                                   0.87299\n",
            "  walter richard whitehurst born april 11 1964 in shreveport louisiana is a former righthand\n",
            "  ed pitcher in major league baseball who played from 1989 to 1996\n",
            "\n",
            "==========================================================================================\n",
            "Cluster 8  (911 docs)\n",
            "he:0.074 university:0.057 at:0.042 research:0.039 for:0.036 \n",
            "\n",
            "* Elijah Anderson                                    0.93182\n",
            "  elijah anderson is an american sociologist he holds the william k lanman jr professorship \n",
            "  in sociology at yale university where he teaches and directs the\n",
            "\n",
            "* Sal Restivo                                        0.93791\n",
            "  sal restivo born 1940 is a sociologistanthropologist he is a leading contributor to scienc\n",
            "  e studies and in particular to the sociology of mathematical knowledge his\n",
            "\n",
            "* Daniel Berg (educator)                             0.93818\n",
            "  daniel berg is a scientist educator and was the fifteenth president of rensselaer polytech\n",
            "  nic institutehe was born on june 1 1929 in new york city\n",
            "\n",
            "* Archie Brown                                       0.93907\n",
            "  archibald haworth brown cmg fba commonly known as archie brown born 10 may 1938 is a briti\n",
            "  sh political scientist and historian in 2005 he became\n",
            "\n",
            "* Stuart Henry (criminologist)                       0.93954\n",
            "  stuart henry is professor of criminal justice and director of the school of public affairs\n",
            "   san diego state university 2006 he has also been appointed\n",
            "\n",
            "==========================================================================================\n",
            "Cluster 9  (276 docs)\n",
            "coach:0.086 he:0.077 football:0.057 season:0.056 hockey:0.054 \n",
            "\n",
            "* Tyrone Wheatley                                    0.90337\n",
            "  tyrone anthony wheatley born january 19 1972 is the running backs coach of michigan and a \n",
            "  former professional american football player who played 10 seasons\n",
            "\n",
            "* Mike Houston (American football)                   0.90598\n",
            "  mike houston born c 1971 is an american college football coach currently serving as head c\n",
            "  oach of the citadel bulldogs football team he was named\n",
            "\n",
            "* Don Jackson (ice hockey)                           0.90611\n",
            "  donald clinton jackson born september 2 1956 in minneapolis minnesota and bloomington minn\n",
            "  esota is an ice hockey coach and a retired professional ice hockey player\n",
            "\n",
            "* Pete Richardson                                    0.91358\n",
            "  pete richardson born october 17 1946 in youngstown ohio is a former american football defe\n",
            "  nsive back in the national football league and former college head\n",
            "\n",
            "* Robert McCullum                                    0.91455\n",
            "  robert l mccullum born june 20 1954 is an american mens college basketball coach he previo\n",
            "  usly served as the head coach of the western michigan\n",
            "\n",
            "==========================================================================================\n"
          ],
          "name": "stdout"
        }
      ]
    },
    {
      "cell_type": "code",
      "metadata": {
        "id": "a4x-wOdf6sFW",
        "colab_type": "code",
        "colab": {
          "base_uri": "https://localhost:8080/",
          "height": 33
        },
        "outputId": "b108ea7f-a463-4230-af94-0be0607d780b"
      },
      "source": [
        "np.bincount(all_cluster_assignment[10])"
      ],
      "execution_count": null,
      "outputs": [
        {
          "output_type": "execute_result",
          "data": {
            "text/plain": [
              "array([ 794,  429,  404,  277, 1234,  504,  904,  174,  911,  276])"
            ]
          },
          "metadata": {
            "tags": []
          },
          "execution_count": 94
        }
      ]
    },
    {
      "cell_type": "code",
      "metadata": {
        "id": "cg__yx-H7s6D",
        "colab_type": "code",
        "colab": {
          "base_uri": "https://localhost:8080/",
          "height": 1000
        },
        "outputId": "f559cebe-fca6-4457-afbb-dd5abcd0e06f"
      },
      "source": [
        "k = 25\n",
        "visualize_document_clusters(wiki, tf_idf, all_centroids[k], all_cluster_assignment[k], k,\n",
        "                            words, display_docs=0) # turn off text for brevity"
      ],
      "execution_count": null,
      "outputs": [
        {
          "output_type": "stream",
          "text": [
            "==========================================================================================\n",
            "Cluster 0  (351 docs)\n",
            "he:0.082 was:0.061 election:0.057 party:0.056 as:0.042 \n",
            "==========================================================================================\n",
            "Cluster 1  (46 docs)\n",
            "tour:0.317 pga:0.243 golf:0.125 he:0.117 his:0.083 \n",
            "==========================================================================================\n",
            "Cluster 2  (45 docs)\n",
            "air:0.141 force:0.088 command:0.087 commander:0.073 he:0.073 \n",
            "==========================================================================================\n",
            "Cluster 3  (74 docs)\n",
            "racing:0.137 he:0.080 race:0.074 championship:0.074 car:0.070 \n",
            "==========================================================================================\n",
            "Cluster 4  (208 docs)\n",
            "was:0.062 he:0.056 that:0.049 his:0.038 on:0.033 \n",
            "==========================================================================================\n",
            "Cluster 5  (94 docs)\n",
            "radio:0.157 show:0.083 he:0.076 on:0.059 for:0.048 \n",
            "==========================================================================================\n",
            "Cluster 6  (672 docs)\n",
            "she:0.189 her:0.130 was:0.043 for:0.037 as:0.032 \n",
            "==========================================================================================\n",
            "Cluster 7  (104 docs)\n",
            "league:0.136 baseball:0.126 he:0.099 season:0.074 major:0.071 \n",
            "==========================================================================================\n",
            "Cluster 8  (219 docs)\n",
            "law:0.106 he:0.083 as:0.048 was:0.047 from:0.047 \n",
            "==========================================================================================\n",
            "Cluster 9  (171 docs)\n",
            "hockey:0.084 coach:0.083 basketball:0.078 he:0.077 season:0.064 \n",
            "==========================================================================================\n",
            "Cluster 10  (155 docs)\n",
            "he:0.056 business:0.044 chairman:0.043 board:0.041 as:0.037 \n",
            "==========================================================================================\n",
            "Cluster 11  (314 docs)\n",
            "he:0.102 football:0.081 league:0.074 club:0.068 season:0.065 \n",
            "==========================================================================================\n",
            "Cluster 12  (494 docs)\n",
            "album:0.068 band:0.061 he:0.051 music:0.051 with:0.047 \n",
            "==========================================================================================\n",
            "Cluster 13  (1034 docs)\n",
            "he:0.066 his:0.044 for:0.035 as:0.033 was:0.033 \n",
            "==========================================================================================\n",
            "Cluster 14  (277 docs)\n",
            "he:0.075 world:0.052 championships:0.047 team:0.045 at:0.045 \n",
            "==========================================================================================\n",
            "Cluster 15  (148 docs)\n",
            "art:0.178 museum:0.087 gallery:0.061 he:0.047 his:0.045 \n",
            "==========================================================================================\n",
            "Cluster 16  (51 docs)\n",
            "design:0.161 architecture:0.082 he:0.057 architectural:0.048 designer:0.042 \n",
            "==========================================================================================\n",
            "Cluster 17  (510 docs)\n",
            "he:0.078 university:0.073 research:0.061 at:0.050 professor:0.046 \n",
            "==========================================================================================\n",
            "Cluster 18  (45 docs)\n",
            "chicago:0.119 he:0.049 for:0.037 she:0.032 has:0.032 \n",
            "==========================================================================================\n",
            "Cluster 19  (96 docs)\n",
            "football:0.152 nfl:0.090 coach:0.082 he:0.078 yards:0.070 \n",
            "==========================================================================================\n",
            "Cluster 20  (216 docs)\n",
            "she:0.110 her:0.084 series:0.061 television:0.058 film:0.049 \n",
            "==========================================================================================\n",
            "Cluster 21  (119 docs)\n",
            "minister:0.159 he:0.077 was:0.063 party:0.051 prime:0.050 \n",
            "==========================================================================================\n",
            "Cluster 22  (197 docs)\n",
            "film:0.173 he:0.064 films:0.057 for:0.048 his:0.042 \n",
            "==========================================================================================\n",
            "Cluster 23  (70 docs)\n",
            "league:0.135 baseball:0.118 he:0.091 runs:0.083 games:0.073 \n",
            "==========================================================================================\n",
            "Cluster 24  (197 docs)\n",
            "music:0.126 orchestra:0.099 he:0.069 symphony:0.054 piano:0.048 \n",
            "==========================================================================================\n"
          ],
          "name": "stdout"
        }
      ]
    },
    {
      "cell_type": "code",
      "metadata": {
        "id": "m95Ub4NH7us1",
        "colab_type": "code",
        "colab": {
          "base_uri": "https://localhost:8080/",
          "height": 1000
        },
        "outputId": "c950d132-c49d-4f8c-a8ad-3596d0703a7b"
      },
      "source": [
        "k=100\n",
        "visualize_document_clusters(wiki, tf_idf, all_centroids[k], all_cluster_assignment[k], k,\n",
        "                            words, display_docs=0)"
      ],
      "execution_count": null,
      "outputs": [
        {
          "output_type": "stream",
          "text": [
            "==========================================================================================\n",
            "Cluster 0  (23 docs)\n",
            "election:0.101 gael:0.090 he:0.088 was:0.084 general:0.080 \n",
            "==========================================================================================\n",
            "Cluster 1  (15 docs)\n",
            "club:0.127 he:0.117 played:0.068 bc:0.060 season:0.059 \n",
            "==========================================================================================\n",
            "Cluster 2  (28 docs)\n",
            "air:0.209 force:0.102 command:0.097 commander:0.075 naval:0.068 \n",
            "==========================================================================================\n",
            "Cluster 3  (20 docs)\n",
            "racing:0.170 championship:0.091 rally:0.079 driver:0.068 motocross:0.067 \n",
            "==========================================================================================\n",
            "Cluster 4  (79 docs)\n",
            "was:0.071 he:0.067 prison:0.049 that:0.048 his:0.043 \n",
            "==========================================================================================\n",
            "Cluster 5  (7 docs)\n",
            "gary:0.176 detroit:0.110 kilpatrick:0.097 shiels:0.075 sailing:0.069 \n",
            "==========================================================================================\n",
            "Cluster 6  (297 docs)\n",
            "she:0.225 her:0.114 was:0.045 for:0.037 at:0.034 \n",
            "==========================================================================================\n",
            "Cluster 7  (61 docs)\n",
            "league:0.137 baseball:0.113 he:0.111 era:0.097 season:0.090 \n",
            "==========================================================================================\n",
            "Cluster 8  (51 docs)\n",
            "coach:0.251 head:0.103 he:0.069 basketball:0.069 assistant:0.066 \n",
            "==========================================================================================\n",
            "Cluster 9  (55 docs)\n",
            "hockey:0.256 nhl:0.116 ice:0.084 season:0.083 he:0.075 \n",
            "==========================================================================================\n",
            "Cluster 10  (7 docs)\n",
            "fresh:0.096 gharda:0.095 chino:0.071 business:0.065 dr:0.054 \n",
            "==========================================================================================\n",
            "Cluster 11  (194 docs)\n",
            "he:0.105 league:0.082 football:0.065 club:0.062 season:0.062 \n",
            "==========================================================================================\n",
            "Cluster 12  (89 docs)\n",
            "music:0.077 song:0.049 he:0.046 for:0.044 his:0.044 \n",
            "==========================================================================================\n",
            "Cluster 13  (93 docs)\n",
            "he:0.093 news:0.090 for:0.061 journalist:0.046 was:0.045 \n",
            "==========================================================================================\n",
            "Cluster 14  (74 docs)\n",
            "rugby:0.192 he:0.082 for:0.064 played:0.063 wales:0.060 \n",
            "==========================================================================================\n",
            "Cluster 15  (39 docs)\n",
            "museum:0.134 russian:0.107 art:0.105 he:0.050 his:0.048 \n",
            "==========================================================================================\n",
            "Cluster 16  (25 docs)\n",
            "architecture:0.126 design:0.091 architectural:0.076 he:0.066 architect:0.056 \n",
            "==========================================================================================\n",
            "Cluster 17  (130 docs)\n",
            "research:0.090 he:0.079 university:0.060 science:0.054 engineering:0.048 \n",
            "==========================================================================================\n",
            "Cluster 18  (17 docs)\n",
            "chicago:0.201 chicagos:0.060 she:0.052 squire:0.047 illinois:0.040 \n",
            "==========================================================================================\n",
            "Cluster 19  (56 docs)\n",
            "football:0.131 nfl:0.120 yards:0.101 he:0.079 for:0.057 \n",
            "==========================================================================================\n",
            "Cluster 20  (117 docs)\n",
            "she:0.174 her:0.122 film:0.070 actress:0.068 television:0.066 \n",
            "==========================================================================================\n",
            "Cluster 21  (8 docs)\n",
            "ali:0.144 rahim:0.076 he:0.066 government:0.060 porsche:0.058 \n",
            "==========================================================================================\n",
            "Cluster 22  (55 docs)\n",
            "theatre:0.127 he:0.089 film:0.062 actor:0.061 television:0.050 \n",
            "==========================================================================================\n",
            "Cluster 23  (36 docs)\n",
            "league:0.137 baseball:0.130 he:0.094 games:0.091 major:0.079 \n",
            "==========================================================================================\n",
            "Cluster 24  (28 docs)\n",
            "zealand:0.117 he:0.066 piano:0.064 new:0.059 organ:0.059 \n",
            "==========================================================================================\n",
            "Cluster 25  (16 docs)\n",
            "cancer:0.104 research:0.068 society:0.059 theory:0.055 university:0.054 \n",
            "==========================================================================================\n",
            "Cluster 26  (42 docs)\n",
            "district:0.088 he:0.069 republican:0.053 house:0.050 was:0.039 \n",
            "==========================================================================================\n",
            "Cluster 27  (18 docs)\n",
            "chess:0.392 grandmaster:0.089 he:0.078 tied:0.078 championship:0.072 \n",
            "==========================================================================================\n",
            "Cluster 28  (72 docs)\n",
            "she:0.200 her:0.074 university:0.060 at:0.045 was:0.041 \n",
            "==========================================================================================\n",
            "Cluster 29  (21 docs)\n",
            "anchor:0.111 hughes:0.093 news:0.074 reporter:0.061 he:0.053 \n",
            "==========================================================================================\n",
            "Cluster 30  (6 docs)\n",
            "hilton:0.142 paris:0.127 arazm:0.116 hats:0.086 she:0.084 \n",
            "==========================================================================================\n",
            "Cluster 31  (34 docs)\n",
            "rights:0.117 human:0.112 she:0.047 on:0.043 justice:0.040 \n",
            "==========================================================================================\n",
            "Cluster 32  (153 docs)\n",
            "her:0.201 she:0.120 was:0.040 for:0.034 as:0.033 \n",
            "==========================================================================================\n",
            "Cluster 33  (8 docs)\n",
            "hop:0.166 hip:0.164 pooh:0.079 wong:0.064 album:0.055 \n",
            "==========================================================================================\n",
            "Cluster 34  (90 docs)\n",
            "poetry:0.110 published:0.063 poems:0.056 fiction:0.054 literary:0.054 \n",
            "==========================================================================================\n",
            "Cluster 35  (53 docs)\n",
            "opera:0.199 ballet:0.123 dance:0.098 she:0.070 theatre:0.043 \n",
            "==========================================================================================\n",
            "Cluster 36  (10 docs)\n",
            "poster:0.092 rhode:0.086 peck:0.082 island:0.057 sullivan:0.055 \n",
            "==========================================================================================\n",
            "Cluster 37  (14 docs)\n",
            "animation:0.202 animated:0.094 animator:0.090 he:0.063 film:0.055 \n",
            "==========================================================================================\n",
            "Cluster 38  (28 docs)\n",
            "church:0.195 lds:0.133 mission:0.076 he:0.075 churchs:0.063 \n",
            "==========================================================================================\n",
            "Cluster 39  (12 docs)\n",
            "publishing:0.106 press:0.071 he:0.060 published:0.054 vegetarianism:0.050 \n",
            "==========================================================================================\n",
            "Cluster 40  (5 docs)\n",
            "he:0.143 landskrona:0.138 bois:0.135 cabinho:0.130 scored:0.096 \n",
            "==========================================================================================\n",
            "Cluster 41  (22 docs)\n",
            "phillies:0.168 baseball:0.119 league:0.110 yankees:0.106 he:0.083 \n",
            "==========================================================================================\n",
            "Cluster 42  (9 docs)\n",
            "greek:0.234 athens:0.170 greece:0.108 thessaloniki:0.075 he:0.074 \n",
            "==========================================================================================\n",
            "Cluster 43  (17 docs)\n",
            "aids:0.123 hiv:0.054 for:0.050 africa:0.048 phyu:0.048 \n",
            "==========================================================================================\n",
            "Cluster 44  (31 docs)\n",
            "soccer:0.305 he:0.099 league:0.091 team:0.078 season:0.060 \n",
            "==========================================================================================\n",
            "Cluster 45  (30 docs)\n",
            "song:0.133 her:0.096 she:0.095 eurovision:0.081 album:0.061 \n",
            "==========================================================================================\n",
            "Cluster 46  (4 docs)\n",
            "mortal:0.145 kombat:0.141 melndez:0.133 carlos:0.123 ufc:0.116 \n",
            "==========================================================================================\n",
            "Cluster 47  (15 docs)\n",
            "swiss:0.165 he:0.117 fc:0.060 his:0.053 season:0.052 \n",
            "==========================================================================================\n",
            "Cluster 48  (10 docs)\n",
            "album:0.078 dj:0.059 their:0.057 larvae:0.055 tattoo:0.052 \n",
            "==========================================================================================\n",
            "Cluster 49  (65 docs)\n",
            "football:0.136 afl:0.125 australian:0.096 he:0.080 played:0.076 \n",
            "==========================================================================================\n",
            "Cluster 50  (110 docs)\n",
            "championships:0.111 world:0.075 he:0.070 at:0.070 metres:0.064 \n",
            "==========================================================================================\n",
            "Cluster 51  (35 docs)\n",
            "software:0.089 computer:0.082 he:0.072 microsoft:0.056 programming:0.055 \n",
            "==========================================================================================\n",
            "Cluster 52  (8 docs)\n",
            "yoga:0.249 he:0.068 kathakali:0.064 sandip:0.063 khan:0.057 \n",
            "==========================================================================================\n",
            "Cluster 53  (70 docs)\n",
            "orchestra:0.209 symphony:0.115 music:0.096 philharmonic:0.083 conductor:0.069 \n",
            "==========================================================================================\n",
            "Cluster 54  (50 docs)\n",
            "he:0.074 church:0.071 theological:0.060 university:0.060 theology:0.053 \n",
            "==========================================================================================\n",
            "Cluster 55  (5 docs)\n",
            "mayor:0.141 gill:0.116 glace:0.096 malleshwaram:0.078 mandsaur:0.078 \n",
            "==========================================================================================\n",
            "Cluster 56  (108 docs)\n",
            "film:0.234 festival:0.059 films:0.058 he:0.048 for:0.043 \n",
            "==========================================================================================\n",
            "Cluster 57  (6 docs)\n",
            "curling:0.302 rink:0.228 provincial:0.135 team:0.135 canadian:0.100 \n",
            "==========================================================================================\n",
            "Cluster 58  (11 docs)\n",
            "sabha:0.135 lok:0.129 party:0.091 constituency:0.088 he:0.082 \n",
            "==========================================================================================\n",
            "Cluster 59  (43 docs)\n",
            "art:0.103 paintings:0.075 painting:0.075 his:0.063 he:0.060 \n",
            "==========================================================================================\n",
            "Cluster 60  (31 docs)\n",
            "football:0.222 he:0.076 team:0.054 was:0.052 quarterback:0.051 \n",
            "==========================================================================================\n",
            "Cluster 61  (74 docs)\n",
            "she:0.130 her:0.072 was:0.052 as:0.043 for:0.043 \n",
            "==========================================================================================\n",
            "Cluster 62  (10 docs)\n",
            "irving:0.109 he:0.078 rebounds:0.074 his:0.067 c2:0.067 \n",
            "==========================================================================================\n",
            "Cluster 63  (56 docs)\n",
            "basketball:0.169 nba:0.118 points:0.085 he:0.079 player:0.060 \n",
            "==========================================================================================\n",
            "Cluster 64  (95 docs)\n",
            "he:0.089 economic:0.044 for:0.043 university:0.041 economics:0.040 \n",
            "==========================================================================================\n",
            "Cluster 65  (198 docs)\n",
            "he:0.073 was:0.048 state:0.044 governor:0.043 as:0.041 \n",
            "==========================================================================================\n",
            "Cluster 66  (63 docs)\n",
            "he:0.070 series:0.059 for:0.050 films:0.048 television:0.048 \n",
            "==========================================================================================\n",
            "Cluster 67  (60 docs)\n",
            "art:0.235 gallery:0.102 museum:0.095 work:0.050 exhibition:0.048 \n",
            "==========================================================================================\n",
            "Cluster 68  (14 docs)\n",
            "freestyle:0.138 medley:0.094 olympics:0.092 swimming:0.091 backstroke:0.085 \n",
            "==========================================================================================\n",
            "Cluster 69  (55 docs)\n",
            "racing:0.120 race:0.088 he:0.082 car:0.075 formula:0.068 \n",
            "==========================================================================================\n",
            "Cluster 70  (25 docs)\n",
            "band:0.091 album:0.078 metal:0.068 he:0.060 drums:0.044 \n",
            "==========================================================================================\n",
            "Cluster 71  (4 docs)\n",
            "israeli:0.195 michaeli:0.174 knesset:0.163 karpin:0.101 kamm:0.093 \n",
            "==========================================================================================\n",
            "Cluster 72  (9 docs)\n",
            "estate:0.127 real:0.102 lamb:0.089 magan:0.076 property:0.066 \n",
            "==========================================================================================\n",
            "Cluster 73  (110 docs)\n",
            "university:0.075 philosophy:0.067 he:0.064 social:0.053 research:0.049 \n",
            "==========================================================================================\n",
            "Cluster 74  (3 docs)\n",
            "borneo:0.243 research:0.127 anthropology:0.124 sellato:0.120 dayan:0.119 \n",
            "==========================================================================================\n",
            "Cluster 75  (53 docs)\n",
            "league:0.144 baseball:0.126 he:0.089 sox:0.080 runs:0.080 \n",
            "==========================================================================================\n",
            "Cluster 76  (130 docs)\n",
            "music:0.172 he:0.060 for:0.045 with:0.045 has:0.042 \n",
            "==========================================================================================\n",
            "Cluster 77  (37 docs)\n",
            "guitar:0.130 band:0.079 with:0.048 bass:0.045 he:0.044 \n",
            "==========================================================================================\n",
            "Cluster 78  (12 docs)\n",
            "taiwan:0.139 chinese:0.064 taipei:0.061 he:0.059 chiu:0.054 \n",
            "==========================================================================================\n",
            "Cluster 79  (19 docs)\n",
            "boxing:0.122 heavyweight:0.105 fight:0.093 title:0.087 round:0.065 \n",
            "==========================================================================================\n",
            "Cluster 80  (66 docs)\n",
            "jazz:0.203 he:0.065 with:0.061 music:0.056 his:0.043 \n",
            "==========================================================================================\n",
            "Cluster 81  (109 docs)\n",
            "band:0.156 he:0.061 album:0.051 with:0.050 rock:0.048 \n",
            "==========================================================================================\n",
            "Cluster 82  (23 docs)\n",
            "information:0.088 research:0.068 data:0.055 user:0.048 search:0.048 \n",
            "==========================================================================================\n",
            "Cluster 83  (210 docs)\n",
            "minister:0.098 he:0.084 party:0.073 was:0.070 election:0.067 \n",
            "==========================================================================================\n",
            "Cluster 84  (134 docs)\n",
            "album:0.154 released:0.068 her:0.062 albums:0.051 on:0.049 \n",
            "==========================================================================================\n",
            "Cluster 85  (44 docs)\n",
            "bishop:0.175 he:0.100 church:0.093 diocese:0.074 was:0.068 \n",
            "==========================================================================================\n",
            "Cluster 86  (37 docs)\n",
            "de:0.186 he:0.081 la:0.047 france:0.043 his:0.043 \n",
            "==========================================================================================\n",
            "Cluster 87  (562 docs)\n",
            "he:0.063 his:0.046 was:0.035 for:0.031 as:0.028 \n",
            "==========================================================================================\n",
            "Cluster 88  (41 docs)\n",
            "sydney:0.068 he:0.064 australian:0.053 theatre:0.050 abc:0.045 \n",
            "==========================================================================================\n",
            "Cluster 89  (96 docs)\n",
            "law:0.178 court:0.088 he:0.079 judge:0.071 from:0.051 \n",
            "==========================================================================================\n",
            "Cluster 90  (15 docs)\n",
            "mad:0.052 he:0.052 stuntman:0.049 on:0.049 chart:0.044 \n",
            "==========================================================================================\n",
            "Cluster 91  (118 docs)\n",
            "book:0.062 for:0.043 published:0.042 design:0.040 he:0.040 \n",
            "==========================================================================================\n",
            "Cluster 92  (46 docs)\n",
            "tour:0.317 pga:0.243 golf:0.125 he:0.117 his:0.083 \n",
            "==========================================================================================\n",
            "Cluster 93  (93 docs)\n",
            "radio:0.143 show:0.092 he:0.070 on:0.058 for:0.047 \n",
            "==========================================================================================\n",
            "Cluster 94  (73 docs)\n",
            "he:0.088 health:0.074 was:0.057 as:0.039 for:0.039 \n",
            "==========================================================================================\n",
            "Cluster 95  (58 docs)\n",
            "ambassador:0.096 he:0.091 foreign:0.075 served:0.059 as:0.057 \n",
            "==========================================================================================\n",
            "Cluster 96  (112 docs)\n",
            "he:0.099 university:0.090 at:0.060 economics:0.055 professor:0.054 \n",
            "==========================================================================================\n",
            "Cluster 97  (72 docs)\n",
            "comedy:0.106 he:0.070 show:0.065 series:0.052 on:0.046 \n",
            "==========================================================================================\n",
            "Cluster 98  (88 docs)\n",
            "he:0.060 chairman:0.045 as:0.041 international:0.041 board:0.039 \n",
            "==========================================================================================\n",
            "Cluster 99  (17 docs)\n",
            "alberta:0.175 he:0.077 aboriginal:0.050 was:0.049 calgary:0.047 \n",
            "==========================================================================================\n"
          ],
          "name": "stdout"
        }
      ]
    },
    {
      "cell_type": "code",
      "metadata": {
        "id": "texU0VHQ7zHn",
        "colab_type": "code",
        "colab": {
          "base_uri": "https://localhost:8080/",
          "height": 33
        },
        "outputId": "cbe20403-b96d-41f7-e750-7cfabe0822cb"
      },
      "source": [
        "ans = np.bincount(all_cluster_assignment[100])\n",
        "len(ans[ans < 44])\n",
        "# 53"
      ],
      "execution_count": null,
      "outputs": [
        {
          "output_type": "execute_result",
          "data": {
            "text/plain": [
              "53"
            ]
          },
          "metadata": {
            "tags": []
          },
          "execution_count": 98
        }
      ]
    }
  ]
}