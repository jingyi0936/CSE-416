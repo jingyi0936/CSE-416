{
 "cells": [
  {
   "cell_type": "code",
   "execution_count": 1,
   "metadata": {},
   "outputs": [],
   "source": [
    "import requests\n",
    "\n",
    "def save_file(url, file_name):\n",
    "  r = requests.get(url)\n",
    "  with open(file_name, 'wb') as f:\n",
    "    f.write(r.content)\n",
    "\n",
    "save_file('https://homes.cs.washington.edu/~hschafer/cse416/a1/home_data.csv',\n",
    "          'home_data.csv')"
   ]
  },
  {
   "cell_type": "code",
   "execution_count": 2,
   "metadata": {},
   "outputs": [],
   "source": [
    "import pandas as pd"
   ]
  },
  {
   "cell_type": "code",
   "execution_count": 3,
   "metadata": {},
   "outputs": [
    {
     "data": {
      "text/html": [
       "<div>\n",
       "<style scoped>\n",
       "    .dataframe tbody tr th:only-of-type {\n",
       "        vertical-align: middle;\n",
       "    }\n",
       "\n",
       "    .dataframe tbody tr th {\n",
       "        vertical-align: top;\n",
       "    }\n",
       "\n",
       "    .dataframe thead th {\n",
       "        text-align: right;\n",
       "    }\n",
       "</style>\n",
       "<table border=\"1\" class=\"dataframe\">\n",
       "  <thead>\n",
       "    <tr style=\"text-align: right;\">\n",
       "      <th></th>\n",
       "      <th>id</th>\n",
       "      <th>date</th>\n",
       "      <th>price</th>\n",
       "      <th>bedrooms</th>\n",
       "      <th>bathrooms</th>\n",
       "      <th>sqft_living</th>\n",
       "      <th>sqft_lot</th>\n",
       "      <th>floors</th>\n",
       "      <th>waterfront</th>\n",
       "      <th>view</th>\n",
       "      <th>...</th>\n",
       "      <th>grade</th>\n",
       "      <th>sqft_above</th>\n",
       "      <th>sqft_basement</th>\n",
       "      <th>yr_built</th>\n",
       "      <th>yr_renovated</th>\n",
       "      <th>zipcode</th>\n",
       "      <th>lat</th>\n",
       "      <th>long</th>\n",
       "      <th>sqft_living15</th>\n",
       "      <th>sqft_lot15</th>\n",
       "    </tr>\n",
       "  </thead>\n",
       "  <tbody>\n",
       "    <tr>\n",
       "      <td>0</td>\n",
       "      <td>7129300520</td>\n",
       "      <td>20141013T000000</td>\n",
       "      <td>221900</td>\n",
       "      <td>3</td>\n",
       "      <td>1.00</td>\n",
       "      <td>1180</td>\n",
       "      <td>5650</td>\n",
       "      <td>1.0</td>\n",
       "      <td>0</td>\n",
       "      <td>0</td>\n",
       "      <td>...</td>\n",
       "      <td>7</td>\n",
       "      <td>1180</td>\n",
       "      <td>0</td>\n",
       "      <td>1955</td>\n",
       "      <td>0</td>\n",
       "      <td>98178</td>\n",
       "      <td>47.5112</td>\n",
       "      <td>-122.257</td>\n",
       "      <td>1340</td>\n",
       "      <td>5650</td>\n",
       "    </tr>\n",
       "    <tr>\n",
       "      <td>1</td>\n",
       "      <td>6414100192</td>\n",
       "      <td>20141209T000000</td>\n",
       "      <td>538000</td>\n",
       "      <td>3</td>\n",
       "      <td>2.25</td>\n",
       "      <td>2570</td>\n",
       "      <td>7242</td>\n",
       "      <td>2.0</td>\n",
       "      <td>0</td>\n",
       "      <td>0</td>\n",
       "      <td>...</td>\n",
       "      <td>7</td>\n",
       "      <td>2170</td>\n",
       "      <td>400</td>\n",
       "      <td>1951</td>\n",
       "      <td>1991</td>\n",
       "      <td>98125</td>\n",
       "      <td>47.7210</td>\n",
       "      <td>-122.319</td>\n",
       "      <td>1690</td>\n",
       "      <td>7639</td>\n",
       "    </tr>\n",
       "    <tr>\n",
       "      <td>2</td>\n",
       "      <td>5631500400</td>\n",
       "      <td>20150225T000000</td>\n",
       "      <td>180000</td>\n",
       "      <td>2</td>\n",
       "      <td>1.00</td>\n",
       "      <td>770</td>\n",
       "      <td>10000</td>\n",
       "      <td>1.0</td>\n",
       "      <td>0</td>\n",
       "      <td>0</td>\n",
       "      <td>...</td>\n",
       "      <td>6</td>\n",
       "      <td>770</td>\n",
       "      <td>0</td>\n",
       "      <td>1933</td>\n",
       "      <td>0</td>\n",
       "      <td>98028</td>\n",
       "      <td>47.7379</td>\n",
       "      <td>-122.233</td>\n",
       "      <td>2720</td>\n",
       "      <td>8062</td>\n",
       "    </tr>\n",
       "    <tr>\n",
       "      <td>3</td>\n",
       "      <td>2487200875</td>\n",
       "      <td>20141209T000000</td>\n",
       "      <td>604000</td>\n",
       "      <td>4</td>\n",
       "      <td>3.00</td>\n",
       "      <td>1960</td>\n",
       "      <td>5000</td>\n",
       "      <td>1.0</td>\n",
       "      <td>0</td>\n",
       "      <td>0</td>\n",
       "      <td>...</td>\n",
       "      <td>7</td>\n",
       "      <td>1050</td>\n",
       "      <td>910</td>\n",
       "      <td>1965</td>\n",
       "      <td>0</td>\n",
       "      <td>98136</td>\n",
       "      <td>47.5208</td>\n",
       "      <td>-122.393</td>\n",
       "      <td>1360</td>\n",
       "      <td>5000</td>\n",
       "    </tr>\n",
       "    <tr>\n",
       "      <td>4</td>\n",
       "      <td>1954400510</td>\n",
       "      <td>20150218T000000</td>\n",
       "      <td>510000</td>\n",
       "      <td>3</td>\n",
       "      <td>2.00</td>\n",
       "      <td>1680</td>\n",
       "      <td>8080</td>\n",
       "      <td>1.0</td>\n",
       "      <td>0</td>\n",
       "      <td>0</td>\n",
       "      <td>...</td>\n",
       "      <td>8</td>\n",
       "      <td>1680</td>\n",
       "      <td>0</td>\n",
       "      <td>1987</td>\n",
       "      <td>0</td>\n",
       "      <td>98074</td>\n",
       "      <td>47.6168</td>\n",
       "      <td>-122.045</td>\n",
       "      <td>1800</td>\n",
       "      <td>7503</td>\n",
       "    </tr>\n",
       "  </tbody>\n",
       "</table>\n",
       "<p>5 rows × 21 columns</p>\n",
       "</div>"
      ],
      "text/plain": [
       "           id             date   price  bedrooms  bathrooms  sqft_living  \\\n",
       "0  7129300520  20141013T000000  221900         3       1.00         1180   \n",
       "1  6414100192  20141209T000000  538000         3       2.25         2570   \n",
       "2  5631500400  20150225T000000  180000         2       1.00          770   \n",
       "3  2487200875  20141209T000000  604000         4       3.00         1960   \n",
       "4  1954400510  20150218T000000  510000         3       2.00         1680   \n",
       "\n",
       "   sqft_lot  floors  waterfront  view  ...  grade  sqft_above  sqft_basement  \\\n",
       "0      5650     1.0           0     0  ...      7        1180              0   \n",
       "1      7242     2.0           0     0  ...      7        2170            400   \n",
       "2     10000     1.0           0     0  ...      6         770              0   \n",
       "3      5000     1.0           0     0  ...      7        1050            910   \n",
       "4      8080     1.0           0     0  ...      8        1680              0   \n",
       "\n",
       "   yr_built  yr_renovated  zipcode      lat     long  sqft_living15  \\\n",
       "0      1955             0    98178  47.5112 -122.257           1340   \n",
       "1      1951          1991    98125  47.7210 -122.319           1690   \n",
       "2      1933             0    98028  47.7379 -122.233           2720   \n",
       "3      1965             0    98136  47.5208 -122.393           1360   \n",
       "4      1987             0    98074  47.6168 -122.045           1800   \n",
       "\n",
       "   sqft_lot15  \n",
       "0        5650  \n",
       "1        7639  \n",
       "2        8062  \n",
       "3        5000  \n",
       "4        7503  \n",
       "\n",
       "[5 rows x 21 columns]"
      ]
     },
     "execution_count": 3,
     "metadata": {},
     "output_type": "execute_result"
    }
   ],
   "source": [
    "sales = pd.read_csv('home_data.csv') \n",
    "sales.head()"
   ]
  },
  {
   "cell_type": "code",
   "execution_count": 4,
   "metadata": {},
   "outputs": [
    {
     "data": {
      "text/plain": [
       "21613"
      ]
     },
     "execution_count": 4,
     "metadata": {},
     "output_type": "execute_result"
    }
   ],
   "source": [
    "# Q1: How many houses are there?\n",
    "len(sales)\n",
    "# 21613"
   ]
  },
  {
   "cell_type": "code",
   "execution_count": 6,
   "metadata": {},
   "outputs": [
    {
     "data": {
      "text/plain": [
       "20"
      ]
     },
     "execution_count": 6,
     "metadata": {},
     "output_type": "execute_result"
    }
   ],
   "source": [
    "# How many inputs are there? size of input\n",
    "# price\n",
    "len(sales.columns) - 1\n",
    "# 20"
   ]
  },
  {
   "cell_type": "code",
   "execution_count": 17,
   "metadata": {
    "collapsed": true
   },
   "outputs": [
    {
     "name": "stdout",
     "output_type": "stream",
     "text": [
      "number of bedrooms 0 average of price 409503.6923076923\n",
      "number of bedrooms 1 average of price 317642.88442211057\n",
      "number of bedrooms 2 average of price 401372.6811594203\n",
      "number of bedrooms 3 average of price 466232.07949918567\n",
      "number of bedrooms 4 average of price 635419.5050857309\n",
      "number of bedrooms 5 average of price 786599.8232354778\n",
      "number of bedrooms 6 average of price 825520.6360294118\n",
      "number of bedrooms 7 average of price 951184.6578947369\n",
      "number of bedrooms 8 average of price 1105076.923076923\n",
      "number of bedrooms 9 average of price 893999.8333333334\n",
      "number of bedrooms 10 average of price 819333.3333333334\n",
      "number of bedrooms 11 average of price 520000.0\n",
      "number of bedrooms 12 average of price nan\n",
      "number of bedrooms 13 average of price nan\n",
      "number of bedrooms 14 average of price nan\n",
      "number of bedrooms 15 average of price nan\n",
      "number of bedrooms 16 average of price nan\n",
      "number of bedrooms 17 average of price nan\n",
      "number of bedrooms 18 average of price nan\n",
      "number of bedrooms 19 average of price nan\n",
      "number of bedrooms 20 average of price nan\n",
      "number of bedrooms 21 average of price nan\n",
      "number of bedrooms 22 average of price nan\n",
      "number of bedrooms 23 average of price nan\n",
      "number of bedrooms 24 average of price nan\n",
      "number of bedrooms 25 average of price nan\n",
      "number of bedrooms 26 average of price nan\n",
      "number of bedrooms 27 average of price nan\n",
      "number of bedrooms 28 average of price nan\n",
      "number of bedrooms 29 average of price nan\n",
      "number of bedrooms 30 average of price nan\n",
      "number of bedrooms 31 average of price nan\n",
      "number of bedrooms 32 average of price nan\n"
     ]
    }
   ],
   "source": [
    "# Q2\n",
    "max(sales[\"bedrooms\"]) # 33\n",
    "for i in range(33):\n",
    "    price = sales[sales[\"bedrooms\"] == i][\"price\"] # access to price of bedroom no = i\n",
    "    print(\"number of bedrooms\", i, \"average of price\", price.mean())\n",
    "# number of bedrooms 3 average of price 466232.07949918567"
   ]
  },
  {
   "cell_type": "code",
   "execution_count": 29,
   "metadata": {},
   "outputs": [
    {
     "data": {
      "text/plain": [
       "0.4215518437977144"
      ]
     },
     "execution_count": 29,
     "metadata": {},
     "output_type": "execute_result"
    }
   ],
   "source": [
    "# Q3\n",
    "len1 = len(sales[sales[\"sqft_living\"] >= 4000]) # sqft >= 4000\n",
    "len2 = len(sales[sales[\"sqft_living\"] <= 2000]) # sqft <= 2000\n",
    "1 - (len1 + len2)/len(sales) # 1 - sqft>=4000 - sqft<=2000"
   ]
  },
  {
   "cell_type": "code",
   "execution_count": 38,
   "metadata": {},
   "outputs": [],
   "source": [
    "# split the data into a training set and a test set\n",
    "from sklearn.model_selection import train_test_split \n",
    "# random_state makes everything deterministic\n",
    "train_data, test_data = train_test_split(sales, test_size = 0.2, random_state=0)  "
   ]
  },
  {
   "cell_type": "code",
   "execution_count": 31,
   "metadata": {},
   "outputs": [
    {
     "data": {
      "text/plain": [
       "Text(0, 0.5, 'Price')"
      ]
     },
     "execution_count": 31,
     "metadata": {},
     "output_type": "execute_result"
    },
    {
     "data": {
      "image/png": "[encoded data removed]",
      "text/plain": [
       "<Figure size 432x288 with 1 Axes>"
      ]
     },
     "metadata": {
      "needs_background": "light"
     },
     "output_type": "display_data"
    }
   ],
   "source": [
    "%matplotlib inline\n",
    "import matplotlib.pyplot as plt\n",
    "\n",
    "# plot primarily takes \n",
    "#plt.scatter(sales['sqft_living'], sales['price'], marker='.')\n",
    "plt.scatter(train_data['sqft_living'], train_data['price'], marker='+', label='Train') # train +\n",
    "plt.scatter(test_data['sqft_living'], test_data['price'], marker='.', label='Test') # test .\n",
    "\n",
    "# Code to customize the axis labels\n",
    "plt.legend()\n",
    "plt.xlabel('Sqft Living')\n",
    "plt.ylabel('Price')"
   ]
  },
  {
   "cell_type": "code",
   "execution_count": 34,
   "metadata": {},
   "outputs": [],
   "source": [
    "basic_features = ['bedrooms', 'bathrooms', 'sqft_living', 'sqft_lot', 'floors', 'zipcode']"
   ]
  },
  {
   "cell_type": "code",
   "execution_count": 35,
   "metadata": {},
   "outputs": [],
   "source": [
    "advanced_features = basic_features + [\n",
    "    'condition',      # condition of the house\n",
    "    'grade',          # measure of qality of construction\n",
    "    'waterfront',     # waterfront property \n",
    "    'view',           # type of view\n",
    "    'sqft_above',     # square feet above ground\n",
    "    'sqft_basement',  # square feet in basementab\n",
    "    'yr_built',       # the year built\n",
    "    'yr_renovated',   # the year renovated\n",
    "    'lat',            # the longitude of the parcel\n",
    "    'long',           # the latitide of the parcel\n",
    "    'sqft_living15',  # average sq.ft. of 15 nearest neighbors \n",
    "    'sqft_lot15',     # average lot size of 15 nearest neighbors \n",
    "]"
   ]
  },
  {
   "cell_type": "code",
   "execution_count": 40,
   "metadata": {},
   "outputs": [],
   "source": [
    "# train model\n",
    "# basic_model using basic featues\n",
    "# advanced_model using advanced features\n",
    "from sklearn.linear_model import LinearRegression\n",
    "basic_model = LinearRegression().fit(train_data[basic_features], train_data[\"price\"])\n",
    "advanced_model = LinearRegression().fit(train_data[advanced_features], train_data[\"price\"])"
   ]
  },
  {
   "cell_type": "code",
   "execution_count": 47,
   "metadata": {},
   "outputs": [
    {
     "name": "stdout",
     "output_type": "stream",
     "text": [
      "258524.68484833534\n",
      "203805.41055524032\n"
     ]
    }
   ],
   "source": [
    "# Q4\n",
    "import math\n",
    "from sklearn.metrics import mean_squared_error\n",
    "\n",
    "basic_pred = basic_model.predict(train_data[basic_features])\n",
    "basic_y = train_data[\"price\"]\n",
    "RMSE1 = math.sqrt(mean_squared_error(basic_y, basic_pred))\n",
    "print(RMSE1) # RMSE for basic model (training data)\n",
    "\n",
    "advanced_pred = advanced_model.predict(train_data[advanced_features])\n",
    "advanced_y = train_data[\"price\"]\n",
    "RMSE2 = math.sqrt(mean_squared_error(advanced_y, advanced_pred))\n",
    "print(RMSE2) # RMSE for advanced model\n",
    "\n",
    "#258524.68484833534\n",
    "#203805.41055524032"
   ]
  },
  {
   "cell_type": "code",
   "execution_count": 49,
   "metadata": {},
   "outputs": [
    {
     "name": "stdout",
     "output_type": "stream",
     "text": [
      "244004.7744310419\n",
      "190473.37570967645\n"
     ]
    }
   ],
   "source": [
    "# Q5\n",
    "basic_pred = basic_model.predict(test_data[basic_features])\n",
    "basic_y = test_data[\"price\"]\n",
    "RMSE1 = math.sqrt(mean_squared_error(basic_y, basic_pred))\n",
    "print(RMSE1) # RMSE for basic model (test_data)\n",
    "\n",
    "advanced_pred = advanced_model.predict(test_data[advanced_features])\n",
    "advanced_y = test_data[\"price\"]\n",
    "RMSE2 = math.sqrt(mean_squared_error(advanced_y, advanced_pred))\n",
    "print(RMSE2)\n",
    "\n",
    "#244004.7744310419\n",
    "#190473.37570967645"
   ]
  }
 ],
 "metadata": {
  "kernelspec": {
   "display_name": "Python 3",
   "language": "python",
   "name": "python3"
  },
  "language_info": {
   "codemirror_mode": {
    "name": "ipython",
    "version": 3
   },
   "file_extension": ".py",
   "mimetype": "text/x-python",
   "name": "python",
   "nbconvert_exporter": "python",
   "pygments_lexer": "ipython3",
   "version": "3.7.4"
  }
 },
 "nbformat": 4,
 "nbformat_minor": 2
}
