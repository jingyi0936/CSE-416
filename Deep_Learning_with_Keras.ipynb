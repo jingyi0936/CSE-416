{
  "nbformat": 4,
  "nbformat_minor": 0,
  "metadata": {
    "colab": {
      "name": "Deep_Learning_with_Keras.ipynb",
      "provenance": [],
      "collapsed_sections": [],
      "include_colab_link": true
    },
    "kernelspec": {
      "name": "python3",
      "display_name": "Python 3"
    },
    "accelerator": "GPU"
  },
  "cells": [
    {
      "cell_type": "markdown",
      "metadata": {
        "id": "view-in-github",
        "colab_type": "text"
      },
      "source": [
        "<a href=\"https://colab.research.google.com/github/jingyi0936/CSE-416/blob/master/Deep_Learning_with_Keras.ipynb\" target=\"_parent\"><img src=\"https://colab.research.google.com/assets/colab-badge.svg\" alt=\"Open In Colab\"/></a>"
      ]
    },
    {
      "cell_type": "markdown",
      "metadata": {
        "id": "HA5AqlWkAL9b",
        "colab_type": "text"
      },
      "source": [
        "#  Deep Learning\n",
        "\n",
        "This assignment will give you practice using the library [Keras](https://keras.io/), which is a popular library for getting started with deep learning models. Deep Learning is a very powerful tool because it is able to learn very complicated functions. Deep Learning has revolutionized fields like image and speech recognition.\n",
        "\n",
        "The specific task we are trying to solve in this assignment is image classification. We will be using a very commong dataset called CIFAR-10 that has 60,000 images separated into 10 classes. The classes are\n",
        "\n",
        "airplane\n",
        "automobile\n",
        "bird\n",
        "cat\n",
        "deer\n",
        "dog\n",
        "frog\n",
        "horse\n",
        "ship\n",
        "truck\n",
        "In this assignment, you will practice:\n",
        "\n",
        "Reading documentation for a modern machine learning library\n",
        "Writing Keras code.\n",
        "Evaluating neural network models.\n",
        "Fill in the cells provided marked TODO with code to answer the questions. Unless otherwise noted, every answer you submit should have code that clearly shows the answer in the output. Answers submitted that do not have associated code that shows the answer may not be accepted for credit.\n",
        "\n",
        "Make sure to restart the kernel and run all cells (especially before turning it in) to make sure your code runs correctly. Answer the questions on Gradescope and make sure to upload your notebook to the upload section.\n",
        "\n",
        "Copyright ©2020 Hunter Schafer and Valentina Staneva. Hunter Schafer wrote the original PyTorch version of this exercise. Valentina Staneva wrote the Keras version of the exercise. All rights reserved. Permission is hereby granted to students registered for University of Washington CSE/STAT 416 for use solely during Spring Quarter 2020 for purposes of the course. No other use, copying, distribution, or modification is permitted without prior written consent. Copyrights for third-party components of this work must be honored. Instructors interested in reusing these course materials should contact the author.\n",
        "\n",
        "## Step 1 - Background Reading\n",
        "Before starting this assignment, you should familiarize yourself with Keras. Review the notebooks from the section: [nn_notebook](https://drive.google.com/file/d/1WzM0eSogowR6bVqIrvE55wS4-OyRJ87F/view) and [cnn_notebook](https://drive.google.com/file/d/1iccoUX-HumXNxcCRXW-7msh3vZdwJ6_0/view). \n",
        "\n",
        "Spend also some time to read this Keras Guide: \n",
        "[Introduction to Keras for Engineers](https://keras.io/getting_started/intro_to_keras_for_engineers/)\n",
        "\n",
        "Skim through the sections at least up to **Using callbacks for checkpointing (and more)**.\n",
        "That will help you know where to go back if something is unlcear. There is also an associated Colab notebook. \n",
        " \n",
        "You can also rely on the documentation of the individual functions you are using to see their input-output requirements.\n",
        "\n",
        "Assignment\n",
        "Before you start, make sure you have enabled GPU for your Colab Runtime. In the Runtime drop down above, click on \"Change runtime type\" and select \"GPU\" in the Hardware Accelerator field.\n",
        "\n",
        "First we import all of the modules we will use in this assignment."
      ]
    },
    {
      "cell_type": "code",
      "metadata": {
        "id": "5NJ1d5h2GY8R",
        "colab_type": "code",
        "colab": {
          "base_uri": "https://localhost:8080/",
          "height": 33
        },
        "outputId": "4db51cd9-ebfc-485d-cf3a-b1dd64439425"
      },
      "source": [
        "from __future__ import print_function\n",
        "import keras\n",
        "from keras.datasets import cifar10\n",
        "from keras.models import Sequential\n",
        "from keras.layers import Dense, Dropout, Activation, Flatten\n",
        "from keras.layers import Conv2D, MaxPooling2D\n",
        "import os"
      ],
      "execution_count": null,
      "outputs": [
        {
          "output_type": "stream",
          "text": [
            "Using TensorFlow backend.\n"
          ],
          "name": "stderr"
        }
      ]
    },
    {
      "cell_type": "markdown",
      "metadata": {
        "id": "MQo_OfjWGzo2",
        "colab_type": "text"
      },
      "source": [
        "Then we define some constants that will be used throughout the program."
      ]
    },
    {
      "cell_type": "code",
      "metadata": {
        "id": "BGtWrT_PGjsi",
        "colab_type": "code",
        "colab": {}
      },
      "source": [
        "INPUT_SIZE    = 3 * 32 * 32   # An image has 32 x 32 pixels each with Red/Green/Blue values. \n",
        "NUM_CLASSES   = 10            # The number of output classes. In this case, from 0 to 9\n",
        "NUM_EPOCHS    = 10            # The number of times we loop over the whole dataset during training\n",
        "BATCH_SIZE    = 32            # The size of input data took for one iteration of an epoch\n",
        "LEARNING_RATE = 1e-4          # The speed of convergence"
      ],
      "execution_count": null,
      "outputs": []
    },
    {
      "cell_type": "markdown",
      "metadata": {
        "id": "U7FkapQZHhQv",
        "colab_type": "text"
      },
      "source": [
        "The first step is to download the dataset using Keras. The dataset is built-in keras so we do not need a link to access. The code below produces a train set and a test set. This is actually pretty similar to `scikit-learn`. We will also convert the labels to a vector with 10 categories.\n",
        "  "
      ]
    },
    {
      "cell_type": "code",
      "metadata": {
        "id": "cP37q5AxIrCJ",
        "colab_type": "code",
        "colab": {
          "base_uri": "https://localhost:8080/",
          "height": 100
        },
        "outputId": "a0d9c1bb-046c-4870-8767-da4866dd8314"
      },
      "source": [
        "# The data, split between train and test sets:\n",
        "(x_train, y_train), (x_test, y_test) = cifar10.load_data()\n",
        "print('x_train shape:', x_train.shape)\n",
        "print(x_train.shape[0], 'train samples')\n",
        "print(x_test.shape[0], 'test samples')\n",
        "\n",
        "# Convert class vectors to binary class matrices.\n",
        "y_train = keras.utils.to_categorical(y_train, NUM_CLASSES)\n",
        "y_test = keras.utils.to_categorical(y_test, NUM_CLASSES)"
      ],
      "execution_count": null,
      "outputs": [
        {
          "output_type": "stream",
          "text": [
            "Downloading data from https://www.cs.toronto.edu/~kriz/cifar-10-python.tar.gz\n",
            "170500096/170498071 [==============================] - 6s 0us/step\n",
            "x_train shape: (50000, 32, 32, 3)\n",
            "50000 train samples\n",
            "10000 test samples\n"
          ],
          "name": "stdout"
        }
      ]
    },
    {
      "cell_type": "markdown",
      "metadata": {
        "id": "2mwDzVTf15Xv",
        "colab_type": "text"
      },
      "source": [
        "Now that you have split the test and train data, do a second split into train and validation (4:1 ratio).  You can simply call the `scikit-learn` `train_test_split` function for that and call the new validation variables `x_val` and `y_val`. Use `random_state=1`."
      ]
    },
    {
      "cell_type": "code",
      "metadata": {
        "id": "41nB3azG0gew",
        "colab_type": "code",
        "colab": {
          "base_uri": "https://localhost:8080/",
          "height": 50
        },
        "outputId": "3e357930-8eee-46c8-e392-80007288d78a"
      },
      "source": [
        "# TODO\n",
        "# create the x_val and y_val datasets\n",
        "from sklearn.model_selection import train_test_split\n",
        "x_train, x_val, y_train, y_val= train_test_split(x_train, y_train, test_size = 0.2, random_state = 1)\n",
        "print(len(x_train)) # 40000\n",
        "len(y_val) # 10000"
      ],
      "execution_count": null,
      "outputs": [
        {
          "output_type": "stream",
          "text": [
            "40000\n"
          ],
          "name": "stdout"
        },
        {
          "output_type": "execute_result",
          "data": {
            "text/plain": [
              "10000"
            ]
          },
          "metadata": {
            "tags": []
          },
          "execution_count": 6
        }
      ]
    },
    {
      "cell_type": "markdown",
      "metadata": {
        "id": "x97j43AQ64to",
        "colab_type": "text"
      },
      "source": [
        "We will later use the validation set while training the network. After each epoch on can evaluate the model on the validation set to check if the performance starts to deteorate. This is built-in `keras`. One just needs to pass it in the `fit` function."
      ]
    },
    {
      "cell_type": "code",
      "metadata": {
        "id": "JeHPH34ivurz",
        "colab_type": "code",
        "colab": {
          "base_uri": "https://localhost:8080/",
          "height": 299
        },
        "outputId": "35cc78f6-c7fd-4190-8195-19279d254423"
      },
      "source": [
        "# look at an image\n",
        "import matplotlib.pyplot as plt\n",
        "plt.imshow(x_train[0])\n",
        "plt.figure(figsize = (0.5,0.5))"
      ],
      "execution_count": null,
      "outputs": [
        {
          "output_type": "execute_result",
          "data": {
            "text/plain": [
              "<Figure size 36x36 with 0 Axes>"
            ]
          },
          "metadata": {
            "tags": []
          },
          "execution_count": 7
        },
        {
          "output_type": "display_data",
          "data": {
            "image/png": "[encoded data removed]",
            "text/plain": [
              "<Figure size 432x288 with 1 Axes>"
            ]
          },
          "metadata": {
            "tags": [],
            "needs_background": "light"
          }
        },
        {
          "output_type": "display_data",
          "data": {
            "text/plain": [
              "<Figure size 36x36 with 0 Axes>"
            ]
          },
          "metadata": {
            "tags": []
          }
        }
      ]
    },
    {
      "cell_type": "code",
      "metadata": {
        "id": "TBkv3JzhJdoT",
        "colab_type": "code",
        "colab": {}
      },
      "source": [
        "# We will also convert the images to float and will divide by 255 so that the values are between (0,1)\n",
        "x_train = x_train.astype('float32')\n",
        "x_test = x_test.astype('float32')\n",
        "x_val = x_val.astype('float32')\n",
        "x_train /= 255\n",
        "x_test /= 255\n",
        "x_val /= 255"
      ],
      "execution_count": null,
      "outputs": []
    },
    {
      "cell_type": "markdown",
      "metadata": {
        "id": "KBx5ROszAKd9",
        "colab_type": "text"
      },
      "source": [
        "The function below is a generic function to train any model and store the history of training. "
      ]
    },
    {
      "cell_type": "code",
      "metadata": {
        "id": "VJAv3KCzLpig",
        "colab_type": "code",
        "colab": {}
      },
      "source": [
        "def train_model(model, x_train, y_train, x_val, y_val,\n",
        "          num_epochs=NUM_EPOCHS, batch_size = BATCH_SIZE, learning_rate=LEARNING_RATE):\n",
        "  \n",
        "  # we will train the model with the RMSprop algorithm\n",
        "  opt = keras.optimizers.RMSprop(learning_rate=learning_rate, decay=1e-6)\n",
        "\n",
        "  # we will use the crossentropy cost, and will look at the accuracy\n",
        "  model.compile(loss='categorical_crossentropy',\n",
        "              optimizer=opt,\n",
        "              metrics=['accuracy'])\n",
        "  \n",
        "  # here we fit the model\n",
        "  history = model.fit(x_train, y_train,\n",
        "            batch_size=batch_size,\n",
        "            epochs=num_epochs,\n",
        "            validation_data=(x_val, y_val),\n",
        "            shuffle=False)\n",
        "  \n",
        "  return(model, history)\n"
      ],
      "execution_count": null,
      "outputs": []
    },
    {
      "cell_type": "markdown",
      "metadata": {
        "id": "Jaiq1S6o1wIT",
        "colab_type": "text"
      },
      "source": [
        "## Step 2\n",
        "To use the functions above we need to define some neural network models to train. Since we are trying to solve a classification problem with 10 classes all models should have a Softmax Activation to connect the last layer with the Classes. [Softmax] is the extension of the logistic sigmoid function for multiple classes. \n",
        "\n",
        "### `NetA`\n",
        "The first neural network will be the simplest, in that it has no hidden layers. It should take the image and flatten it to a vector for the input, and then have 10 outputs, one for each class. That should be a familiar linear classifier.\n",
        "\n",
        "\n",
        "\n",
        "### `NetB`\n",
        "The second neural network will be slightly more complicated in that it has a hidden layer with 300 nodes and adds a non-linearity between the layers. It should use the following operations in this order:\n",
        "* Flatten the image to a vector for the input\n",
        "* Use a fully-connected linear layer with 300 hidden-neurons\n",
        "* Use the ReLU activation function\n",
        "* Use a fully-connected layer to the 10 outputs.\n",
        "\n",
        "### `NetC`\n",
        "This third neural network will be a convolutional neural network. It should use the following operations in this order: \n",
        "* Use a convolution layer with kernel-width 5, depth 25, and padding `same`\n",
        "* Use the ReLU activation function\n",
        "* Use a max-pool operation with kernel-width 2 and stride 2\n",
        "* Flatten the image to a vector for the next step's input\n",
        "* Use a fully-connected layer to the 10 outputs.\n",
        "\n",
        "This architecture can be seen visually in the following diagram (the left-most object is the input image). \n",
        "\n",
        "![Network Architecture](https://courses.cs.washington.edu/courses/cse416/19su/files/assignment-resources/homework/hw7/nn.svg)\n",
        "\n",
        "Notice that these diagrams use the notation \n",
        "```\n",
        "channels @ height x width\n",
        "``` \n",
        "to describe the dimensions of the results at each step.\n",
        "\n",
        "### `NetD`\n",
        "This is your chance to try out some different architectures of your choice. Create your own neural network architecture that has **at least 2 convolution layers** and **at least 2 fully connected layers**. Can you find a network architecture that achieves at least 60% test accuracy. Most of the points for this problem are based on having a model that meets the minimum layer requirements, with fewer points focusing on the accuracy.\n",
        "\n",
        "*Implementation details/notes*:\n",
        "* For simplicity, your model should be able to be trained with the same learning rate and optimizer as the other models. This is a restriction that is not normal in real-practice, but we want you to follow this to simplify the code and our grading. \n",
        "* Every convolution operation should be followed by a pooling operation. \n",
        "* Every linear layer and convolution layer should have an activation function. Exception is the last layer which is connected to the classes via the Softmax Activation Function.\n",
        "* You will likely want to use `NetC` as a starting point! \n",
        "* It is not required, but it might help to make your code more modular by adding parameters to the funciton to specify numbers that contain details about the architecture. Then you can automate trying many different settings of these hyper-parameters. "
      ]
    },
    {
      "cell_type": "code",
      "metadata": {
        "id": "P3OBiQ0abFlw",
        "colab_type": "code",
        "colab": {}
      },
      "source": [
        "# TODO\n",
        "# Write definitions for the 4 models. Write the definition cleanly with a label in a separate cell. \n",
        "# To run initialize it multiple times you might want to define functions like:\n",
        "\n",
        "#def netA():\n",
        "#\n",
        " # return(model)\n",
        "#print(x_train.shape[1:])"
      ],
      "execution_count": null,
      "outputs": []
    },
    {
      "cell_type": "code",
      "metadata": {
        "id": "o1jGqBiDvS5u",
        "colab_type": "code",
        "colab": {}
      },
      "source": [
        "# model A\n",
        "def netA():\n",
        "  model = Sequential()\n",
        "  model.add(Flatten())\n",
        "  model.add(Dense(y_train.shape[1]))\n",
        "  model.add(Activation('softmax'))\n",
        "  return (model)"
      ],
      "execution_count": null,
      "outputs": []
    },
    {
      "cell_type": "code",
      "metadata": {
        "id": "C4K-WDwUiBu6",
        "colab_type": "code",
        "colab": {
          "base_uri": "https://localhost:8080/",
          "height": 367
        },
        "outputId": "768fd2f0-e33e-4d49-96e9-933d4f60f31c"
      },
      "source": [
        "result = train_model(netA(), x_train, y_train, x_val, y_val, num_epochs = NUM_EPOCHS, batch_size=BATCH_SIZE, learning_rate=LEARNING_RATE)"
      ],
      "execution_count": null,
      "outputs": [
        {
          "output_type": "stream",
          "text": [
            "Train on 40000 samples, validate on 10000 samples\n",
            "Epoch 1/10\n",
            "40000/40000 [==============================] - 6s 144us/step - loss: 2.0072 - accuracy: 0.2826 - val_loss: 1.9137 - val_accuracy: 0.3241\n",
            "Epoch 2/10\n",
            "40000/40000 [==============================] - 4s 103us/step - loss: 1.8673 - accuracy: 0.3458 - val_loss: 1.8623 - val_accuracy: 0.3455\n",
            "Epoch 3/10\n",
            "40000/40000 [==============================] - 4s 102us/step - loss: 1.8299 - accuracy: 0.3607 - val_loss: 1.8381 - val_accuracy: 0.3556\n",
            "Epoch 4/10\n",
            "40000/40000 [==============================] - 4s 103us/step - loss: 1.8085 - accuracy: 0.3701 - val_loss: 1.8231 - val_accuracy: 0.3609\n",
            "Epoch 5/10\n",
            "40000/40000 [==============================] - 4s 101us/step - loss: 1.7935 - accuracy: 0.3776 - val_loss: 1.8124 - val_accuracy: 0.3662\n",
            "Epoch 6/10\n",
            "40000/40000 [==============================] - 4s 101us/step - loss: 1.7821 - accuracy: 0.3825 - val_loss: 1.8043 - val_accuracy: 0.3697\n",
            "Epoch 7/10\n",
            "40000/40000 [==============================] - 4s 101us/step - loss: 1.7728 - accuracy: 0.3876 - val_loss: 1.7978 - val_accuracy: 0.3716\n",
            "Epoch 8/10\n",
            "40000/40000 [==============================] - 4s 103us/step - loss: 1.7650 - accuracy: 0.3910 - val_loss: 1.7924 - val_accuracy: 0.3739\n",
            "Epoch 9/10\n",
            "40000/40000 [==============================] - 4s 101us/step - loss: 1.7583 - accuracy: 0.3940 - val_loss: 1.7879 - val_accuracy: 0.3763\n",
            "Epoch 10/10\n",
            "40000/40000 [==============================] - 4s 101us/step - loss: 1.7525 - accuracy: 0.3968 - val_loss: 1.7841 - val_accuracy: 0.3776\n"
          ],
          "name": "stdout"
        }
      ]
    },
    {
      "cell_type": "code",
      "metadata": {
        "id": "p1vWdTTyj_6F",
        "colab_type": "code",
        "colab": {
          "base_uri": "https://localhost:8080/",
          "height": 250
        },
        "outputId": "98f07568-19a2-4ef3-9da2-9a25e7ea6b47"
      },
      "source": [
        "result[0].summary()"
      ],
      "execution_count": null,
      "outputs": [
        {
          "output_type": "stream",
          "text": [
            "Model: \"sequential_1\"\n",
            "_________________________________________________________________\n",
            "Layer (type)                 Output Shape              Param #   \n",
            "=================================================================\n",
            "flatten_1 (Flatten)          (None, 3072)              0         \n",
            "_________________________________________________________________\n",
            "dense_1 (Dense)              (None, 10)                30730     \n",
            "_________________________________________________________________\n",
            "activation_1 (Activation)    (None, 10)                0         \n",
            "=================================================================\n",
            "Total params: 30,730\n",
            "Trainable params: 30,730\n",
            "Non-trainable params: 0\n",
            "_________________________________________________________________\n"
          ],
          "name": "stdout"
        }
      ]
    },
    {
      "cell_type": "code",
      "metadata": {
        "id": "mLq44xirvuK9",
        "colab_type": "code",
        "colab": {}
      },
      "source": [
        "# model B\n",
        "def netB():\n",
        "  model = Sequential()\n",
        "  model.add(Flatten())\n",
        "  model.add(Dense(300))\n",
        "  model.add(Activation('relu'))\n",
        "  model.add(Dense(10))\n",
        "  model.add(Activation('softmax'))\n",
        "  \n",
        "  return (model)"
      ],
      "execution_count": null,
      "outputs": []
    },
    {
      "cell_type": "code",
      "metadata": {
        "id": "6epjhEr1qXBa",
        "colab_type": "code",
        "colab": {
          "base_uri": "https://localhost:8080/",
          "height": 367
        },
        "outputId": "6e769a3e-3c56-4454-99f2-61332862b5ef"
      },
      "source": [
        "result_B = train_model(netB(), x_train, y_train, x_val, y_val, num_epochs = NUM_EPOCHS, batch_size=BATCH_SIZE, learning_rate=LEARNING_RATE)"
      ],
      "execution_count": null,
      "outputs": [
        {
          "output_type": "stream",
          "text": [
            "Train on 40000 samples, validate on 10000 samples\n",
            "Epoch 1/10\n",
            "40000/40000 [==============================] - 5s 120us/step - loss: 1.8997 - accuracy: 0.3165 - val_loss: 1.8604 - val_accuracy: 0.3339\n",
            "Epoch 2/10\n",
            "40000/40000 [==============================] - 5s 118us/step - loss: 1.7294 - accuracy: 0.3856 - val_loss: 1.7629 - val_accuracy: 0.3642\n",
            "Epoch 3/10\n",
            "40000/40000 [==============================] - 5s 119us/step - loss: 1.6541 - accuracy: 0.4146 - val_loss: 1.7225 - val_accuracy: 0.3807\n",
            "Epoch 4/10\n",
            "40000/40000 [==============================] - 5s 118us/step - loss: 1.6024 - accuracy: 0.4349 - val_loss: 1.6794 - val_accuracy: 0.3960\n",
            "Epoch 5/10\n",
            "40000/40000 [==============================] - 5s 120us/step - loss: 1.5615 - accuracy: 0.4502 - val_loss: 1.6529 - val_accuracy: 0.4035\n",
            "Epoch 6/10\n",
            "40000/40000 [==============================] - 5s 119us/step - loss: 1.5259 - accuracy: 0.4642 - val_loss: 1.6352 - val_accuracy: 0.4115\n",
            "Epoch 7/10\n",
            "40000/40000 [==============================] - 5s 119us/step - loss: 1.4946 - accuracy: 0.4755 - val_loss: 1.6112 - val_accuracy: 0.4169\n",
            "Epoch 8/10\n",
            "40000/40000 [==============================] - 5s 121us/step - loss: 1.4671 - accuracy: 0.4857 - val_loss: 1.6030 - val_accuracy: 0.4210\n",
            "Epoch 9/10\n",
            "40000/40000 [==============================] - 5s 122us/step - loss: 1.4418 - accuracy: 0.4962 - val_loss: 1.5888 - val_accuracy: 0.4282\n",
            "Epoch 10/10\n",
            "40000/40000 [==============================] - 5s 119us/step - loss: 1.4183 - accuracy: 0.5034 - val_loss: 1.5789 - val_accuracy: 0.4338\n"
          ],
          "name": "stdout"
        }
      ]
    },
    {
      "cell_type": "code",
      "metadata": {
        "id": "gYARu-40qx6l",
        "colab_type": "code",
        "colab": {
          "base_uri": "https://localhost:8080/",
          "height": 317
        },
        "outputId": "c283f60a-e9fd-4bc7-e195-b7d6f8b40fea"
      },
      "source": [
        "result_B[0].summary()"
      ],
      "execution_count": null,
      "outputs": [
        {
          "output_type": "stream",
          "text": [
            "Model: \"sequential_2\"\n",
            "_________________________________________________________________\n",
            "Layer (type)                 Output Shape              Param #   \n",
            "=================================================================\n",
            "flatten_2 (Flatten)          (None, 3072)              0         \n",
            "_________________________________________________________________\n",
            "dense_2 (Dense)              (None, 300)               921900    \n",
            "_________________________________________________________________\n",
            "activation_2 (Activation)    (None, 300)               0         \n",
            "_________________________________________________________________\n",
            "dense_3 (Dense)              (None, 10)                3010      \n",
            "_________________________________________________________________\n",
            "activation_3 (Activation)    (None, 10)                0         \n",
            "=================================================================\n",
            "Total params: 924,910\n",
            "Trainable params: 924,910\n",
            "Non-trainable params: 0\n",
            "_________________________________________________________________\n"
          ],
          "name": "stdout"
        }
      ]
    },
    {
      "cell_type": "code",
      "metadata": {
        "id": "BarRZ43npSOr",
        "colab_type": "code",
        "colab": {}
      },
      "source": [
        "# model C\n",
        "def netC():\n",
        "  # define the keras model\n",
        "  model = Sequential()\n",
        "  model.add(Conv2D(25, (5, 5), padding = 'same'))\n",
        "  model.add(Activation('relu'))\n",
        "  model.add(MaxPooling2D(pool_size = (2, 2)))\n",
        "  model.add(Flatten())\n",
        "  model.add(Dense(10))\n",
        "  model.add(Activation('softmax'))\n",
        "  return (model)\n"
      ],
      "execution_count": null,
      "outputs": []
    },
    {
      "cell_type": "code",
      "metadata": {
        "id": "5YmrhuC7nd2r",
        "colab_type": "code",
        "colab": {
          "base_uri": "https://localhost:8080/",
          "height": 367
        },
        "outputId": "f17dd332-9120-49d4-dc7c-f83ca3b91d03"
      },
      "source": [
        "result_C = train_model(netC(), x_train, y_train, x_val, y_val, num_epochs = NUM_EPOCHS, batch_size=BATCH_SIZE, learning_rate=LEARNING_RATE)"
      ],
      "execution_count": null,
      "outputs": [
        {
          "output_type": "stream",
          "text": [
            "Train on 40000 samples, validate on 10000 samples\n",
            "Epoch 1/10\n",
            "40000/40000 [==============================] - 6s 139us/step - loss: 1.8789 - accuracy: 0.3446 - val_loss: 1.7090 - val_accuracy: 0.4012\n",
            "Epoch 2/10\n",
            "40000/40000 [==============================] - 6s 138us/step - loss: 1.6273 - accuracy: 0.4373 - val_loss: 1.5686 - val_accuracy: 0.4448\n",
            "Epoch 3/10\n",
            "40000/40000 [==============================] - 5s 136us/step - loss: 1.5169 - accuracy: 0.4743 - val_loss: 1.4865 - val_accuracy: 0.4756\n",
            "Epoch 4/10\n",
            "40000/40000 [==============================] - 5s 137us/step - loss: 1.4450 - accuracy: 0.4992 - val_loss: 1.4309 - val_accuracy: 0.4947\n",
            "Epoch 5/10\n",
            "40000/40000 [==============================] - 5s 136us/step - loss: 1.3932 - accuracy: 0.5168 - val_loss: 1.3912 - val_accuracy: 0.5096\n",
            "Epoch 6/10\n",
            "40000/40000 [==============================] - 5s 137us/step - loss: 1.3540 - accuracy: 0.5317 - val_loss: 1.3614 - val_accuracy: 0.5214\n",
            "Epoch 7/10\n",
            "40000/40000 [==============================] - 5s 135us/step - loss: 1.3229 - accuracy: 0.5423 - val_loss: 1.3382 - val_accuracy: 0.5290\n",
            "Epoch 8/10\n",
            "40000/40000 [==============================] - 5s 137us/step - loss: 1.2973 - accuracy: 0.5526 - val_loss: 1.3194 - val_accuracy: 0.5327\n",
            "Epoch 9/10\n",
            "40000/40000 [==============================] - 5s 137us/step - loss: 1.2752 - accuracy: 0.5599 - val_loss: 1.3035 - val_accuracy: 0.5382\n",
            "Epoch 10/10\n",
            "40000/40000 [==============================] - 6s 138us/step - loss: 1.2556 - accuracy: 0.5673 - val_loss: 1.2892 - val_accuracy: 0.5443\n"
          ],
          "name": "stdout"
        }
      ]
    },
    {
      "cell_type": "code",
      "metadata": {
        "id": "tzB02rECZCkc",
        "colab_type": "code",
        "colab": {
          "base_uri": "https://localhost:8080/",
          "height": 350
        },
        "outputId": "99bf67bc-6c5c-4b54-b7da-96cf3835ec38"
      },
      "source": [
        "result_C[0].summary()"
      ],
      "execution_count": null,
      "outputs": [
        {
          "output_type": "stream",
          "text": [
            "Model: \"sequential_28\"\n",
            "_________________________________________________________________\n",
            "Layer (type)                 Output Shape              Param #   \n",
            "=================================================================\n",
            "conv2d_33 (Conv2D)           (None, 32, 32, 25)        1900      \n",
            "_________________________________________________________________\n",
            "activation_64 (Activation)   (None, 32, 32, 25)        0         \n",
            "_________________________________________________________________\n",
            "max_pooling2d_30 (MaxPooling (None, 16, 16, 25)        0         \n",
            "_________________________________________________________________\n",
            "flatten_28 (Flatten)         (None, 6400)              0         \n",
            "_________________________________________________________________\n",
            "dense_45 (Dense)             (None, 10)                64010     \n",
            "_________________________________________________________________\n",
            "activation_65 (Activation)   (None, 10)                0         \n",
            "=================================================================\n",
            "Total params: 65,910\n",
            "Trainable params: 65,910\n",
            "Non-trainable params: 0\n",
            "_________________________________________________________________\n"
          ],
          "name": "stdout"
        }
      ]
    },
    {
      "cell_type": "code",
      "metadata": {
        "id": "u8g89pwhyJoh",
        "colab_type": "code",
        "colab": {}
      },
      "source": [
        "# model D\n",
        "def netD():\n",
        "  model = Sequential()\n",
        "  model.add(Conv2D(25, (5, 5), padding = 'same'))\n",
        "  model.add(Activation('relu'))\n",
        "  model.add(MaxPooling2D(pool_size = (2, 2)))\n",
        "  model.add(Conv2D(25, (5, 5), padding = 'same'))\n",
        "  model.add(MaxPooling2D(pool_size = (2, 2)))\n",
        "  model.add(Dense(400))\n",
        "  model.add(Activation('relu'))\n",
        "  model.add(Flatten())\n",
        "  model.add(Dense(10))\n",
        "  model.add(Activation('softmax'))\n",
        "  return (model)"
      ],
      "execution_count": null,
      "outputs": []
    },
    {
      "cell_type": "code",
      "metadata": {
        "id": "HxfRxQAVs6Bs",
        "colab_type": "code",
        "colab": {
          "base_uri": "https://localhost:8080/",
          "height": 367
        },
        "outputId": "608e72e1-93d7-4828-c8fc-183e948a2b4d"
      },
      "source": [
        "result_D = train_model(netD(), x_train, y_train, x_val, y_val, num_epochs = NUM_EPOCHS, batch_size=BATCH_SIZE, learning_rate=LEARNING_RATE)"
      ],
      "execution_count": null,
      "outputs": [
        {
          "output_type": "stream",
          "text": [
            "Train on 40000 samples, validate on 10000 samples\n",
            "Epoch 1/10\n",
            "40000/40000 [==============================] - 6s 162us/step - loss: 1.7405 - accuracy: 0.3843 - val_loss: 1.5465 - val_accuracy: 0.4452\n",
            "Epoch 2/10\n",
            "40000/40000 [==============================] - 6s 157us/step - loss: 1.4605 - accuracy: 0.4855 - val_loss: 1.4161 - val_accuracy: 0.4882\n",
            "Epoch 3/10\n",
            "40000/40000 [==============================] - 7s 165us/step - loss: 1.3418 - accuracy: 0.5292 - val_loss: 1.3329 - val_accuracy: 0.5213\n",
            "Epoch 4/10\n",
            "40000/40000 [==============================] - 7s 167us/step - loss: 1.2630 - accuracy: 0.5591 - val_loss: 1.2698 - val_accuracy: 0.5446\n",
            "Epoch 5/10\n",
            "40000/40000 [==============================] - 6s 155us/step - loss: 1.2002 - accuracy: 0.5818 - val_loss: 1.2174 - val_accuracy: 0.5659\n",
            "Epoch 6/10\n",
            "40000/40000 [==============================] - 6s 154us/step - loss: 1.1473 - accuracy: 0.6011 - val_loss: 1.1739 - val_accuracy: 0.5833\n",
            "Epoch 7/10\n",
            "40000/40000 [==============================] - 6s 156us/step - loss: 1.1019 - accuracy: 0.6192 - val_loss: 1.1370 - val_accuracy: 0.5984\n",
            "Epoch 8/10\n",
            "40000/40000 [==============================] - 6s 156us/step - loss: 1.0624 - accuracy: 0.6326 - val_loss: 1.1074 - val_accuracy: 0.6090\n",
            "Epoch 9/10\n",
            "40000/40000 [==============================] - 6s 154us/step - loss: 1.0272 - accuracy: 0.6461 - val_loss: 1.0827 - val_accuracy: 0.6179\n",
            "Epoch 10/10\n",
            "40000/40000 [==============================] - 6s 153us/step - loss: 0.9954 - accuracy: 0.6577 - val_loss: 1.0609 - val_accuracy: 0.6271\n"
          ],
          "name": "stdout"
        }
      ]
    },
    {
      "cell_type": "code",
      "metadata": {
        "id": "lHxM50qTs_HX",
        "colab_type": "code",
        "colab": {
          "base_uri": "https://localhost:8080/",
          "height": 483
        },
        "outputId": "21637ecb-7264-4bfe-aae9-a3c5917eaa7f"
      },
      "source": [
        "result_D[0].summary()"
      ],
      "execution_count": null,
      "outputs": [
        {
          "output_type": "stream",
          "text": [
            "Model: \"sequential_14\"\n",
            "_________________________________________________________________\n",
            "Layer (type)                 Output Shape              Param #   \n",
            "=================================================================\n",
            "conv2d_21 (Conv2D)           (None, 32, 32, 25)        1900      \n",
            "_________________________________________________________________\n",
            "activation_35 (Activation)   (None, 32, 32, 25)        0         \n",
            "_________________________________________________________________\n",
            "max_pooling2d_18 (MaxPooling (None, 16, 16, 25)        0         \n",
            "_________________________________________________________________\n",
            "conv2d_22 (Conv2D)           (None, 16, 16, 25)        15650     \n",
            "_________________________________________________________________\n",
            "max_pooling2d_19 (MaxPooling (None, 8, 8, 25)          0         \n",
            "_________________________________________________________________\n",
            "dense_24 (Dense)             (None, 8, 8, 400)         10400     \n",
            "_________________________________________________________________\n",
            "activation_36 (Activation)   (None, 8, 8, 400)         0         \n",
            "_________________________________________________________________\n",
            "flatten_14 (Flatten)         (None, 25600)             0         \n",
            "_________________________________________________________________\n",
            "dense_25 (Dense)             (None, 10)                256010    \n",
            "_________________________________________________________________\n",
            "activation_37 (Activation)   (None, 10)                0         \n",
            "=================================================================\n",
            "Total params: 283,960\n",
            "Trainable params: 283,960\n",
            "Non-trainable params: 0\n",
            "_________________________________________________________________\n"
          ],
          "name": "stdout"
        }
      ]
    },
    {
      "cell_type": "markdown",
      "metadata": {
        "id": "4Rm79XU_ENo8",
        "colab_type": "text"
      },
      "source": [
        "**Gradescope Q1** \n",
        "\n",
        "Use the `model.summary` function to extract how many parameters models A, B, C have. Enter the numbers on Gradescope."
      ]
    },
    {
      "cell_type": "markdown",
      "metadata": {
        "id": "eZMkmTNkrqWx",
        "colab_type": "text"
      },
      "source": [
        "## STEP 3 \n",
        "Now it is time to use these models to loop through all the four models and store and compare their training performance. After training each model display the test accuracy. "
      ]
    },
    {
      "cell_type": "code",
      "metadata": {
        "id": "J7Fe8q-o9mdx",
        "colab_type": "code",
        "colab": {
          "base_uri": "https://localhost:8080/",
          "height": 1000
        },
        "outputId": "41c35957-f402-4feb-a60b-fb5492eeaefc"
      },
      "source": [
        "# TODO\n",
        "# write a loop to train all 4 models and save the history in a list/dictionary.\n",
        "# print out the test accuracy for each model\n",
        "historyy = []\n",
        "total_net = [netA(), netB(), netC(), netD()]\n",
        "for i in range(4):\n",
        "  ans = train_model(total_net[i], x_train, y_train, x_val, y_val, num_epochs = NUM_EPOCHS, batch_size=BATCH_SIZE, learning_rate=LEARNING_RATE)\n",
        "  historyy.append(ans[1])\n",
        "\n",
        "  perform = ans[0].evaluate(x_test, y_test)\n",
        "  print(\"Test accuracy is \", perform[1])\n",
        "\n",
        "# For netD: Test accuracy is  0.6171000003814697"
      ],
      "execution_count": null,
      "outputs": [
        {
          "output_type": "stream",
          "text": [
            "Train on 40000 samples, validate on 10000 samples\n",
            "Epoch 1/10\n",
            "40000/40000 [==============================] - 4s 102us/step - loss: 1.9992 - accuracy: 0.2833 - val_loss: 1.9151 - val_accuracy: 0.3221\n",
            "Epoch 2/10\n",
            "40000/40000 [==============================] - 4s 102us/step - loss: 1.8667 - accuracy: 0.3446 - val_loss: 1.8637 - val_accuracy: 0.3453\n",
            "Epoch 3/10\n",
            "40000/40000 [==============================] - 4s 101us/step - loss: 1.8294 - accuracy: 0.3598 - val_loss: 1.8394 - val_accuracy: 0.3548\n",
            "Epoch 4/10\n",
            "40000/40000 [==============================] - 4s 100us/step - loss: 1.8080 - accuracy: 0.3701 - val_loss: 1.8243 - val_accuracy: 0.3604\n",
            "Epoch 5/10\n",
            "40000/40000 [==============================] - 4s 101us/step - loss: 1.7931 - accuracy: 0.3780 - val_loss: 1.8136 - val_accuracy: 0.3624\n",
            "Epoch 6/10\n",
            "40000/40000 [==============================] - 4s 101us/step - loss: 1.7817 - accuracy: 0.3824 - val_loss: 1.8054 - val_accuracy: 0.3659\n",
            "Epoch 7/10\n",
            "40000/40000 [==============================] - 4s 102us/step - loss: 1.7725 - accuracy: 0.3862 - val_loss: 1.7989 - val_accuracy: 0.3696\n",
            "Epoch 8/10\n",
            "40000/40000 [==============================] - 4s 101us/step - loss: 1.7647 - accuracy: 0.3894 - val_loss: 1.7935 - val_accuracy: 0.3722\n",
            "Epoch 9/10\n",
            "40000/40000 [==============================] - 4s 100us/step - loss: 1.7580 - accuracy: 0.3915 - val_loss: 1.7889 - val_accuracy: 0.3747\n",
            "Epoch 10/10\n",
            "40000/40000 [==============================] - 4s 102us/step - loss: 1.7522 - accuracy: 0.3940 - val_loss: 1.7850 - val_accuracy: 0.3767\n",
            "10000/10000 [==============================] - 1s 64us/step\n",
            "Test accuracy is  0.37229999899864197\n",
            "Train on 40000 samples, validate on 10000 samples\n",
            "Epoch 1/10\n",
            "40000/40000 [==============================] - 5s 119us/step - loss: 1.9096 - accuracy: 0.3139 - val_loss: 1.8693 - val_accuracy: 0.3243\n",
            "Epoch 2/10\n",
            "40000/40000 [==============================] - 5s 118us/step - loss: 1.7314 - accuracy: 0.3859 - val_loss: 1.7701 - val_accuracy: 0.3596\n",
            "Epoch 3/10\n",
            "40000/40000 [==============================] - 5s 117us/step - loss: 1.6547 - accuracy: 0.4162 - val_loss: 1.7086 - val_accuracy: 0.3835\n",
            "Epoch 4/10\n",
            "40000/40000 [==============================] - 5s 118us/step - loss: 1.6023 - accuracy: 0.4358 - val_loss: 1.6869 - val_accuracy: 0.3912\n",
            "Epoch 5/10\n",
            "40000/40000 [==============================] - 5s 117us/step - loss: 1.5609 - accuracy: 0.4505 - val_loss: 1.6660 - val_accuracy: 0.3988\n",
            "Epoch 6/10\n",
            "40000/40000 [==============================] - 5s 117us/step - loss: 1.5258 - accuracy: 0.4648 - val_loss: 1.6386 - val_accuracy: 0.4099\n",
            "Epoch 7/10\n",
            "40000/40000 [==============================] - 5s 117us/step - loss: 1.4940 - accuracy: 0.4780 - val_loss: 1.6156 - val_accuracy: 0.4224\n",
            "Epoch 8/10\n",
            "40000/40000 [==============================] - 5s 116us/step - loss: 1.4671 - accuracy: 0.4875 - val_loss: 1.6017 - val_accuracy: 0.4245\n",
            "Epoch 9/10\n",
            "40000/40000 [==============================] - 5s 117us/step - loss: 1.4412 - accuracy: 0.4970 - val_loss: 1.5906 - val_accuracy: 0.4312\n",
            "Epoch 10/10\n",
            "40000/40000 [==============================] - 5s 116us/step - loss: 1.4173 - accuracy: 0.5042 - val_loss: 1.5712 - val_accuracy: 0.4357\n",
            "10000/10000 [==============================] - 1s 70us/step\n",
            "Test accuracy is  0.4390000104904175\n",
            "Train on 40000 samples, validate on 10000 samples\n",
            "Epoch 1/10\n",
            "40000/40000 [==============================] - 5s 135us/step - loss: 1.9047 - accuracy: 0.3317 - val_loss: 1.7615 - val_accuracy: 0.3758\n",
            "Epoch 2/10\n",
            "40000/40000 [==============================] - 5s 135us/step - loss: 1.6811 - accuracy: 0.4182 - val_loss: 1.6339 - val_accuracy: 0.4237\n",
            "Epoch 3/10\n",
            "40000/40000 [==============================] - 6s 144us/step - loss: 1.5787 - accuracy: 0.4541 - val_loss: 1.5516 - val_accuracy: 0.4514\n",
            "Epoch 4/10\n",
            "40000/40000 [==============================] - 6s 142us/step - loss: 1.5054 - accuracy: 0.4790 - val_loss: 1.4915 - val_accuracy: 0.4743\n",
            "Epoch 5/10\n",
            "40000/40000 [==============================] - 5s 135us/step - loss: 1.4473 - accuracy: 0.4986 - val_loss: 1.4441 - val_accuracy: 0.4917\n",
            "Epoch 6/10\n",
            "40000/40000 [==============================] - 5s 136us/step - loss: 1.3990 - accuracy: 0.5164 - val_loss: 1.4043 - val_accuracy: 0.5037\n",
            "Epoch 7/10\n",
            "40000/40000 [==============================] - 5s 135us/step - loss: 1.3579 - accuracy: 0.5313 - val_loss: 1.3704 - val_accuracy: 0.5169\n",
            "Epoch 8/10\n",
            "40000/40000 [==============================] - 5s 134us/step - loss: 1.3224 - accuracy: 0.5434 - val_loss: 1.3416 - val_accuracy: 0.5262\n",
            "Epoch 9/10\n",
            "40000/40000 [==============================] - 5s 134us/step - loss: 1.2914 - accuracy: 0.5539 - val_loss: 1.3168 - val_accuracy: 0.5350\n",
            "Epoch 10/10\n",
            "40000/40000 [==============================] - 5s 134us/step - loss: 1.2641 - accuracy: 0.5649 - val_loss: 1.2953 - val_accuracy: 0.5448\n",
            "10000/10000 [==============================] - 1s 78us/step\n",
            "Test accuracy is  0.5389000177383423\n",
            "Train on 40000 samples, validate on 10000 samples\n",
            "Epoch 1/10\n",
            "40000/40000 [==============================] - 6s 156us/step - loss: 1.7489 - accuracy: 0.3764 - val_loss: 1.5418 - val_accuracy: 0.4435\n",
            "Epoch 2/10\n",
            "40000/40000 [==============================] - 6s 148us/step - loss: 1.4560 - accuracy: 0.4817 - val_loss: 1.4093 - val_accuracy: 0.4931\n",
            "Epoch 3/10\n",
            "40000/40000 [==============================] - 6s 150us/step - loss: 1.3526 - accuracy: 0.5223 - val_loss: 1.3335 - val_accuracy: 0.5253\n",
            "Epoch 4/10\n",
            "40000/40000 [==============================] - 6s 148us/step - loss: 1.2831 - accuracy: 0.5504 - val_loss: 1.2776 - val_accuracy: 0.5455\n",
            "Epoch 5/10\n",
            "40000/40000 [==============================] - 6s 150us/step - loss: 1.2265 - accuracy: 0.5718 - val_loss: 1.2326 - val_accuracy: 0.5608\n",
            "Epoch 6/10\n",
            "40000/40000 [==============================] - 6s 149us/step - loss: 1.1770 - accuracy: 0.5912 - val_loss: 1.1935 - val_accuracy: 0.5742\n",
            "Epoch 7/10\n",
            "40000/40000 [==============================] - 6s 149us/step - loss: 1.1321 - accuracy: 0.6073 - val_loss: 1.1593 - val_accuracy: 0.5841\n",
            "Epoch 8/10\n",
            "40000/40000 [==============================] - 6s 149us/step - loss: 1.0914 - accuracy: 0.6211 - val_loss: 1.1295 - val_accuracy: 0.5968\n",
            "Epoch 9/10\n",
            "40000/40000 [==============================] - 6s 151us/step - loss: 1.0543 - accuracy: 0.6349 - val_loss: 1.1052 - val_accuracy: 0.6052\n",
            "Epoch 10/10\n",
            "40000/40000 [==============================] - 6s 152us/step - loss: 1.0210 - accuracy: 0.6476 - val_loss: 1.0845 - val_accuracy: 0.6144\n",
            "10000/10000 [==============================] - 1s 79us/step\n",
            "Test accuracy is  0.6171000003814697\n"
          ],
          "name": "stdout"
        }
      ]
    },
    {
      "cell_type": "markdown",
      "metadata": {
        "id": "uUbBbh6WF3cC",
        "colab_type": "text"
      },
      "source": [
        "**Gradescope Q2** \n",
        "\n",
        "Enter the test accuracies for each model on Gradescope."
      ]
    },
    {
      "cell_type": "markdown",
      "metadata": {
        "id": "PodjaUcACFAJ",
        "colab_type": "text"
      },
      "source": [
        "Explore the history object for the models, and extract the train and validation accuracies. Plot them on the same graph with respect to changing epochs with the corresponding legend."
      ]
    },
    {
      "cell_type": "code",
      "metadata": {
        "id": "RIYoeHmXbbKu",
        "colab_type": "code",
        "colab": {
          "base_uri": "https://localhost:8080/",
          "height": 183
        },
        "outputId": "827fbaad-ea17-4026-d945-6b409704dc76"
      },
      "source": [
        "# TODO\n",
        "# plot all 4 validation accuracies and train accuracies on the same plot with an appropriate legend \n",
        "# make sure you have different colors for different models\n",
        "# make the the validation dashed line\n",
        "# the axes should be Epochs & Accuracy\n",
        "# you should have total of 8 curves\n",
        "historyy[0].history['accuracy']\n",
        "historyy[0].history['val_accuracy']"
      ],
      "execution_count": null,
      "outputs": [
        {
          "output_type": "execute_result",
          "data": {
            "text/plain": [
              "[0.3221000134944916,\n",
              " 0.34529998898506165,\n",
              " 0.3547999858856201,\n",
              " 0.36039999127388,\n",
              " 0.36239999532699585,\n",
              " 0.3659000098705292,\n",
              " 0.36959999799728394,\n",
              " 0.37220001220703125,\n",
              " 0.37470000982284546,\n",
              " 0.3767000138759613]"
            ]
          },
          "metadata": {
            "tags": []
          },
          "execution_count": 59
        }
      ]
    },
    {
      "cell_type": "markdown",
      "metadata": {
        "id": "K6_WWAs84Emo",
        "colab_type": "text"
      },
      "source": [
        "The pieces of function below might be helpful, but feel free to create the plot in your way, just following the above rules."
      ]
    },
    {
      "cell_type": "code",
      "metadata": {
        "id": "wqxat8Pi3RVs",
        "colab_type": "code",
        "colab": {
          "base_uri": "https://localhost:8080/",
          "height": 606
        },
        "outputId": "30e6c7ff-3324-487f-f12f-d4b31f2bc5ad"
      },
      "source": [
        "## TODO\n",
        "import matplotlib.pyplot as plt\n",
        "plt.figure(figsize=(16,10))\n",
        "model_labels = 'ABCD'\n",
        "for i in range(4):\n",
        "\n",
        "    name = model_labels[i]\n",
        "    val = plt.plot(historyy[i].history['val_accuracy'],\n",
        "                     '--', label= name + ' Validation')\n",
        "    plt.plot(historyy[i].history['accuracy'],\n",
        "             color=val[0].get_color(),label= name + ' Train')\n",
        "    \n",
        "    plt.xlabel('Epochs')\n",
        "    plt.ylabel('Accuracy')\n",
        "    plt.legend()\n",
        "    plt.xlim([1,NUM_EPOCHS])"
      ],
      "execution_count": null,
      "outputs": [
        {
          "output_type": "display_data",
          "data": {
            "image/png": "[encoded data removed]",
            "text/plain": [
              "<Figure size 1152x720 with 1 Axes>"
            ]
          },
          "metadata": {
            "tags": [],
            "needs_background": "light"
          }
        }
      ]
    }
  ]
}